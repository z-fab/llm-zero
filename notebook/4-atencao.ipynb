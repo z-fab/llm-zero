{
 "cells": [
  {
   "cell_type": "markdown",
   "metadata": {},
   "source": [
    "# 4 - Construindo um LLM do Zero: criando significado com Embeddings\n",
    "\n",
    "Este é o **quarto** de uma série de oito artigos que podem ser encontrados no meu medium. Acesse o primeiro artigo da série aqui: [Construindo um LLM: entendendo os Grandes Modelos de Linguagem](https://blog.zfab.me/construindo-um-llm-entendendo-os-grandes-modelos-de-linguagem-b37884219eaa)\n",
    "\n",
    "--\n",
    "\n",
    "Imagine estar em uma sala cheia de pessoas conversando simultaneamente. Naturalmente, seu cérebro consegue focar na voz da pessoa com quem você está falando, dando mais atenção a ela do que às outras conversas ao redor. É exatamente assim que o mecanismo de atenção funciona em modelos de linguagem — ele permite que o modelo foque em diferentes partes do texto com diferentes níveis de importância, criando uma compreensão mais profunda e contextualizada das relações entre as palavras."
   ]
  },
  {
   "cell_type": "code",
   "execution_count": 245,
   "metadata": {},
   "outputs": [],
   "source": [
    "import torch\n",
    "import seaborn as sns\n",
    "import matplotlib.pyplot as plt"
   ]
  },
  {
   "cell_type": "markdown",
   "metadata": {},
   "source": [
    "O mecanismo de atenção foi desenvolvido para resolver uma limitação crucial das redes recorrentes (RNNs): o esquecimento gradual das informações inseridas no modelo. Para entender melhor esse problema, vamos analisar um caso clássico de uso dessa solução: a tradução.\n",
    "\n",
    "Imagine que queremos desenvolver um modelo que recebe uma frase em português e a traduz para o inglês. Para isso, é comum separarmos a rede em dois módulos: o **encoder** e o **decoder**. O encoder recebe o texto completo de entrada de forma sequencial e o codifica, passo a passo, em algo que chamamos de **estado oculto**. Em seguida, o decoder recebe o último estado oculto criado e começa a gerar o texto traduzido.\n",
    "\n",
    "Podemos entender esse estado oculto como um vetor de embedding que contém todo o conteúdo e significado da frase codificados.\n",
    "\n",
    "![](../assets/4-SEQ2SEQ.png)\n",
    "\n",
    "Como o decoder tem acesso apenas ao último estado oculto criado, o conteúdo e significado das palavras iniciais tendem a perder relevância no vetor do estado oculto à medida que a sequência codificada se torna mais longa.\n",
    "\n",
    "Para tentar contornar esse problema, em 2014 foi introduzido nas RNNs o mecanismo de atenção de Bahdanau, em homenagem ao seu criador. Este mecanismo permitiu que o decoder tivesse acesso a todos os estados ocultos gerados pelo encoder, não apenas ao último, atribuindo diferentes pesos de importância para cada estado durante a geração da tradução. Assim, o modelo podia \"prestar atenção\" em diferentes partes da sequência de entrada conforme necessário. \n",
    "\n",
    "Apesar de solucionar parcialmente o problema do esquecimento nas RNNs, o mecanismo de atenção de Bahdanau ainda apresentava limitações significativas, principalmente em termos de escalabilidade e processamento paralelo.\n",
    "\n",
    "Três anos depois, em 2017, pesquisadores demonstraram que a arquitetura RNN era desnecessária e que o Mecanismo de Atenção, por si só, era suficiente para solucionar o problema da tradução — daí o título \"Attention is all you need\" e a introdução dos Transformers.\n",
    "\n",
    "---\n",
    "\n",
    "# Mecanismo de Auto Atenção\n",
    "\n",
    "Ao ler um texto, quando você vê uma palavra, seu cérebro automaticamente a conecta com outras palavras importantes na frase. O mecanismo de Auto Atenção faz exatamente isso nos Transformers.\n",
    "\n",
    "Diferente do sistema de atenção original (criado por Bahdanau), que apenas comparava duas frases distintas, a Auto Atenção analisa como cada palavra se relaciona com todas as outras palavras **do mesmo texto**.\n",
    "\n",
    "Por exemplo, quando o modelo lê uma palavra, ele atribui \"notas\" (chamadas de pesos de atenção) para indicar a importância das outras palavras na compreensão daquela palavra específica. É como quando você lê \"o cachorro pegou sua bola\" - você naturalmente associa \"sua\" com \"cachorro\" para entender quem é o dono da bola.\n",
    "\n",
    "Para entender melhor, vamos codificar um mecanismo de atenção simples. Usaremos a frase \"Atenção é tudo o que precisamos\", considerando cada palavra como um token representado por um embedding de 3 dimensões. \n",
    "\n",
    "O mecanismo de auto atenção recebe o embedding como entrada e devolve um vetor de contexto. Esse vetor pode ser considerado um embedding enriquecido, que contém não apenas as informações semânticas e posicionais do token, mas também suas relações com todos os outros tokens.\n",
    "\n",
    "Vamos criar esse embedding enriquecido começando pelo token \"tudo\"."
   ]
  },
  {
   "cell_type": "code",
   "execution_count": 246,
   "metadata": {},
   "outputs": [
    {
     "name": "stdout",
     "output_type": "stream",
     "text": [
      "Embedding do token 'tudo': tensor([0.9100, 0.8100, 0.6900])\n",
      "Embedding da frase: tensor([[0.8300, 0.7100, 0.6000],\n",
      "        [0.1500, 0.3100, 0.1200],\n",
      "        [0.9100, 0.8100, 0.6900],\n",
      "        [0.1100, 0.2300, 0.1200],\n",
      "        [0.3500, 0.4100, 0.3000],\n",
      "        [0.7900, 0.9200, 0.6100]])\n"
     ]
    }
   ],
   "source": [
    "phrase = \"Atenção é tudo o que precisamos\"\n",
    "tokens = phrase.split()\n",
    "\n",
    "# Simulando um embedding de palavras\n",
    "embeds = {\n",
    "    \"Atenção\": torch.tensor([0.83, 0.71, 0.6]),\n",
    "    \"é\": torch.tensor([0.15, 0.31, 0.12]),\n",
    "    \"tudo\": torch.tensor([0.91, 0.81, 0.69]),\n",
    "    \"o\": torch.tensor([0.11, 0.23, 0.12]),\n",
    "    \"que\": torch.tensor([0.35, 0.41, 0.3]),\n",
    "    \"precisamos\": torch.tensor([0.79, 0.92, 0.61])\n",
    "}\n",
    "\n",
    "inputs = torch.stack([embeds[token] for token in tokens])\n",
    "\n",
    "query = inputs[tokens.index(\"tudo\")]\n",
    "print(\"Embedding do token 'tudo':\", query)\n",
    "print(\"Embedding da frase:\", inputs)"
   ]
  },
  {
   "cell_type": "markdown",
   "metadata": {},
   "source": [
    "O primeiro passo é calcular um valor intermediário, chamado Attention Score, para cada token da frase em relação ao nosso token \"tudo” que estamos chamando de query. Para isso basta fazermos o produto escalar (torch.dot) entre query e todos os tokens"
   ]
  },
  {
   "cell_type": "code",
   "execution_count": 247,
   "metadata": {},
   "outputs": [
    {
     "name": "stdout",
     "output_type": "stream",
     "text": [
      "Scores de atenção: tensor([1.7444, 0.4704, 1.9603, 0.3692, 0.8576, 1.8850])\n"
     ]
    }
   ],
   "source": [
    "attention_scores = torch.empty(len(tokens))\n",
    "for i, token in enumerate(tokens):\n",
    "    attention_scores[i] = torch.dot(query, embeds[token])\n",
    "\n",
    "print(\"Scores de atenção:\", attention_scores)"
   ]
  },
  {
   "cell_type": "markdown",
   "metadata": {},
   "source": [
    "Podemos ver que, por exemplo, o score de atenção entre \"tudo\" e \"precisamos\" é de `1.8850`. Utilizamos o produto escalar entre dois vetores porque ele mensura a similaridade entre eles. Um valor grande indica alto alinhamento, ou seja, maior similaridade entre os vetores. Quanto menor o valor, menor a similaridade. É dessa forma que o mecanismo de atenção determina quanto deve \"prestar atenção\" em cada palavra.\n",
    "\n",
    "Agora, com os *Scores de Atenção* calculados, precisamos normalizá-los usando a função Softmax. Esta normalização permite que a rede processe os valores de forma mais eficiente e facilita os cálculos de gradientes. O resultado são probabilidades cuja soma total é igual a 1 (100%). Após a normalização, estes scores passam a ser chamados de ***Attention Weights*** (não confundir com os pesos da rede que veremos adiante)."
   ]
  },
  {
   "cell_type": "code",
   "execution_count": 248,
   "metadata": {},
   "outputs": [
    {
     "name": "stdout",
     "output_type": "stream",
     "text": [
      "Pesos de atenção: tensor([0.2306, 0.0645, 0.2862, 0.0583, 0.0950, 0.2654])\n",
      "Soma dos pesos de atenção: tensor(1.)\n"
     ]
    }
   ],
   "source": [
    "attention_weights = torch.nn.functional.softmax(attention_scores, dim=0)\n",
    "print(\"Pesos de atenção:\", attention_weights)\n",
    "print(\"Soma dos pesos de atenção:\", attention_weights.sum())"
   ]
  },
  {
   "cell_type": "markdown",
   "metadata": {},
   "source": [
    "Com os pesos de atenção calculados estamos prontos para calcular o vetor de contexto, o nosso embedding do token “tudo” enriquecido. Para isso basta multiplicarmos os embeddings dos tokens aos respectivos pesos de atenção. Ao final somamos os vetores resultantes e obtemos o resultado final"
   ]
  },
  {
   "cell_type": "code",
   "execution_count": 249,
   "metadata": {},
   "outputs": [
    {
     "name": "stdout",
     "output_type": "stream",
     "text": [
      "Vetor de contexto para o token 'tudo': tensor([0.7108, 0.7121, 0.5410])\n",
      "Embedding anterior do token 'tudo': tensor([0.9100, 0.8100, 0.6900])\n"
     ]
    }
   ],
   "source": [
    "context_vector = torch.empty(len(query))\n",
    "for i, token in enumerate(tokens):\n",
    "    context_vector += attention_weights[i] * embeds[token]\n",
    "\n",
    "print(\"Vetor de contexto para o token 'tudo':\", context_vector)\n",
    "print(\"Embedding anterior do token 'tudo':\", embeds[\"tudo\"])"
   ]
  },
  {
   "cell_type": "markdown",
   "metadata": {},
   "source": [
    "Agora que temos o vetor contextual para o token 'tudo', precisamos aplicar o mesmo processo aos demais tokens. O código a seguir executa o mesmo procedimento, mas em vez de usar for loops, aproveitamos os cálculos matriciais para tornar o processo mais eficiente."
   ]
  },
  {
   "cell_type": "code",
   "execution_count": 250,
   "metadata": {},
   "outputs": [
    {
     "name": "stdout",
     "output_type": "stream",
     "text": [
      "Scores de atenção entre todos os tokens:\n",
      "tensor([[1.5530, 0.4166, 1.7444, 0.3266, 0.7616, 1.6749],\n",
      "        [0.4166, 0.1330, 0.4704, 0.1022, 0.2156, 0.4769],\n",
      "        [1.7444, 0.4704, 1.9603, 0.3692, 0.8576, 1.8850],\n",
      "        [0.3266, 0.1022, 0.3692, 0.0794, 0.1688, 0.3717],\n",
      "        [0.7616, 0.2156, 0.8576, 0.1688, 0.3806, 0.8367],\n",
      "        [1.6749, 0.4769, 1.8850, 0.3717, 0.8367, 1.8426]])\n",
      "\n",
      "Pesos de atenção entre todos os tokens:\n",
      "tensor([[0.2269, 0.0728, 0.2747, 0.0665, 0.1028, 0.2563],\n",
      "        [0.1845, 0.1390, 0.1947, 0.1348, 0.1509, 0.1960],\n",
      "        [0.2306, 0.0645, 0.2862, 0.0583, 0.0950, 0.2654],\n",
      "        [0.1810, 0.1446, 0.1889, 0.1414, 0.1546, 0.1894],\n",
      "        [0.2002, 0.1160, 0.2204, 0.1107, 0.1368, 0.2159],\n",
      "        [0.2261, 0.0682, 0.2790, 0.0614, 0.0978, 0.2674]])\n",
      "\n",
      "Vetor de contexto para todos os tokens:\n",
      "tensor([[0.6949, 0.6994, 0.5295],\n",
      "        [0.5738, 0.6051, 0.4428],\n",
      "        [0.7108, 0.7121, 0.5410],\n",
      "        [0.5632, 0.5966, 0.4352],\n",
      "        [0.6148, 0.6368, 0.4721],\n",
      "        [0.7040, 0.7079, 0.5362]])\n"
     ]
    }
   ],
   "source": [
    "attention_scores_all = inputs @ inputs.T\n",
    "attention_weights_all = torch.nn.functional.softmax(attention_scores_all, dim=-1)\n",
    "context_vector_all = attention_weights_all @ inputs\n",
    "\n",
    "print(\"Scores de atenção entre todos os tokens:\")\n",
    "print(attention_scores_all)\n",
    "\n",
    "print(\"\\nPesos de atenção entre todos os tokens:\")\n",
    "print(attention_weights_all)\n",
    "\n",
    "print(\"\\nVetor de contexto para todos os tokens:\")\n",
    "print(context_vector_all)"
   ]
  },
  {
   "cell_type": "markdown",
   "metadata": {},
   "source": [
    "Se observarmos o terceiro vetor contextual, percebemos que os valores são os mesmos que calculamos anteriormente, demonstrando que através dos cálculos matriciais conseguimos os mesmos resultados, porém de forma mais eficiente."
   ]
  },
  {
   "cell_type": "code",
   "execution_count": 251,
   "metadata": {},
   "outputs": [
    {
     "data": {
      "image/png": "[encoded data removed]",
      "text/plain": [
       "<Figure size 1000x800 with 2 Axes>"
      ]
     },
     "metadata": {},
     "output_type": "display_data"
    }
   ],
   "source": [
    "plt.figure(figsize=(10, 8))\n",
    "sns.heatmap(attention_weights_all.detach().numpy(), annot=True, cmap='rocket_r', xticklabels=tokens, yticklabels=tokens)\n",
    "plt.title('Matriz de Atenção')\n",
    "plt.xlabel('Tokens')\n",
    "plt.ylabel('Tokens')\n",
    "plt.show()"
   ]
  },
  {
   "cell_type": "markdown",
   "metadata": {},
   "source": [
    "# Treinamento da Autoatenção\n",
    "\n",
    "A estrutura que vimos anteriormente funciona porém ainda é muito simples e não é capaz de melhorar durante o treinamento (já que não temos nenhum parâmetro ajustável). Para gerar melhores vetores contextuais, precisamos modificar levemente a estrutura do mecanismo de atenção. A estrutura que implementaremos, introduzida no paper original dos Transformers, é conhecida como *scaled dot-product attention*.\n",
    "\n",
    "A principal diferença é que introduziremos matrizes de pesos que serão ajustados durante o treinamento e servirão para **projetar os embeddings de entrada em um novo espaço amostral**. Assim, o modelo aprenderá os melhores ajustes para capturar as nuances do contexto de entrada e gerar vetores contextuais mais precisos. \n",
    "\n",
    "Em vez de usar diretamente os embeddings originais dos tokens, como fizemos antes, vamos criar três novas representações a partir de cada embedding de entrada. Essas novas representações são chamadas de **query**, **key** e **value**. Para criar cada uma delas, multiplicamos o embedding original por diferentes matrizes de pesos ($w_{query}$, $w_{key}$ e  $w_{value}$) que o modelo aprenderá durante o treinamento\n",
    "\n",
    "![](../assets/4-DIAGRAMAATENCAO.png)\n",
    "\n",
    "Antes de implementar o mecanismo de atenção completo vamos novamente calcular a atenção para o token “tudo” da frase \"Atenção é tudo o que precisamos\" como exemplo."
   ]
  },
  {
   "cell_type": "code",
   "execution_count": 252,
   "metadata": {},
   "outputs": [],
   "source": [
    "x2 = inputs[tokens.index(\"tudo\")]   # Recuperando o embedding do token \"tudo\" (Shape: [1,3])\n",
    "d_in = x2.size(0)                   # Dimensão do embedding (Shape: 3)\n",
    "d_out = d_in                        # Dimensão da projeção (Shape: 3)\n",
    "\n",
    "torch.manual_seed(42)\n",
    "W_query = torch.nn.Linear(d_in, d_out, bias=False)\n",
    "W_key = torch.nn.Linear(d_in, d_out, bias=False)\n",
    "W_value = torch.nn.Linear(d_in, d_out, bias=False)"
   ]
  },
  {
   "cell_type": "markdown",
   "metadata": {},
   "source": [
    "Vale ressaltar que `d_out` é a dimensão do espaço vetorial para onde projetaremos nossos “embeddings”. Neste exemplo, mantivemos a mesma dimensão do embedding original (3), o que costuma ser o comum em modelos como GPT.\n",
    "\n",
    "Para criar as matrizes de pesos, usamos uma camada Linear do PyTorch sem bias (termo de viés). Sem o bias, essa camada atua como uma matriz de pesos que multiplica os vetores de entrada para gerar novos vetores. A vantagem de usar uma camada linear é que o PyTorch oferece uma inicialização otimizada dos pesos e acelera os cálculos de backpropagation.\n",
    "\n",
    "Com as camadas de peso criadas, podemos gerar nossos “embeddings” **query** (apenas do token 'tudo’), **key** e **values** (de todos os tokens)"
   ]
  },
  {
   "cell_type": "code",
   "execution_count": 253,
   "metadata": {},
   "outputs": [
    {
     "name": "stdout",
     "output_type": "stream",
     "text": [
      "\n",
      "Embedding Query do token 'tudo':\n",
      "tensor([0.6965, 0.4606, 0.3700], grad_fn=<SqueezeBackward4>)\n",
      "\n",
      "Embeddings Key de todos os tokens:\n",
      "tensor([[0.0696, 0.5766, 0.2995],\n",
      "        [0.1050, 0.1216, 0.1360],\n",
      "        [0.0956, 0.6436, 0.3452],\n",
      "        [0.0818, 0.0983, 0.1036],\n",
      "        [0.0899, 0.2649, 0.1795],\n",
      "        [0.1930, 0.5787, 0.3971]], grad_fn=<MmBackward0>)\n",
      "\n",
      "Embeddings Value de todos os tokens:\n",
      "tensor([[-0.2788,  0.0071, -0.6651],\n",
      "        [-0.0267, -0.0369, -0.1704],\n",
      "        [-0.3096,  0.0127, -0.7428],\n",
      "        [-0.0277, -0.0154, -0.1309],\n",
      "        [-0.1138, -0.0049, -0.3175],\n",
      "        [-0.2398, -0.0356, -0.7044]], grad_fn=<MmBackward0>)\n"
     ]
    }
   ],
   "source": [
    "query_x2 = W_query(x2)         # \"Embedding Query\" do token 'tudo' (Shape: [1,3])\n",
    "\n",
    "keys = W_key(inputs)           # \"Embeddings Key\" de TODOS tokens  (Shape: [6,3])\n",
    "values = W_value(inputs)       # \"Embeddings Value\" de TODOS tokens (Shape: [6,3])\n",
    "\n",
    "print(\"\\nEmbedding Query do token 'tudo':\")\n",
    "print(query_x2)\n",
    "print(\"\\nEmbeddings Key de todos os tokens:\")\n",
    "print(keys)\n",
    "print(\"\\nEmbeddings Value de todos os tokens:\")\n",
    "print(values)"
   ]
  },
  {
   "cell_type": "markdown",
   "metadata": {},
   "source": [
    "Agora que temos nossos “embeddings”, podemos calcular os Scores de Atenção. Para obter os Attention Scores, multiplicamos nossa query pela matriz keys (que contém os “embeddings” de todos os tokens). O resultado será um vetor de 6 dimensões (correspondente ao número de tokens da nossa frase), onde cada dimensão representa um score de atenção. "
   ]
  },
  {
   "cell_type": "code",
   "execution_count": 254,
   "metadata": {},
   "outputs": [
    {
     "name": "stdout",
     "output_type": "stream",
     "text": [
      "\n",
      "Scores de atenção entre o token 'tudo' e TODOS os tokens:\n",
      "tensor([0.4249, 0.1795, 0.4907, 0.1406, 0.2511, 0.5479],\n",
      "       grad_fn=<SqueezeBackward4>)\n"
     ]
    }
   ],
   "source": [
    "attention_scores = query_x2 @ keys.T # Calculando os scores de atenção (Shape: [1,6])\n",
    "\n",
    "print(\"\\nScores de atenção entre o token 'tudo' e TODOS os tokens:\")\n",
    "print(attention_scores)"
   ]
  },
  {
   "cell_type": "markdown",
   "metadata": {},
   "source": [
    "Finalmente podemos calcular os pesos de atenção. Dessa vez, antes de passarmos os *Scores de Atenção* pela função softmax vamos normaliza-los dividindo todos pela raiz quadrada do tamanho do embedding **key.**\n",
    "\n",
    "Quando os *Scores de Atenção* são muito elevados, a função softmax pode gerar **gradientes extremamente pequenos** durante o backpropagation. Isso faz com que ela funcione quase como uma função binária, atribuindo aproximadamente 1 para um valor e 0 para todos os outros, o que prejudica o treinamento. Para evitar esse problema, normalizamos os valores pela raiz quadrada da dimensão do embedding, mantendo-os em uma escala mais adequada e permitindo um treinamento mais estável e eficiente."
   ]
  },
  {
   "cell_type": "code",
   "execution_count": 255,
   "metadata": {},
   "outputs": [
    {
     "name": "stdout",
     "output_type": "stream",
     "text": [
      "\n",
      "Pesos de atenção entre o token 'tudo' e TODOS os tokens:\n",
      "tensor([0.1744, 0.1514, 0.1812, 0.1480, 0.1578, 0.1873],\n",
      "       grad_fn=<SoftmaxBackward0>)\n",
      "Soma dos pesos de atenção: 1.0\n"
     ]
    }
   ],
   "source": [
    "attention_weights = torch.nn.functional.softmax(\n",
    "    attention_scores / keys.size(-1)**0.5,          # Normalizando os scores de atenção\n",
    "    dim=-1\n",
    ")\n",
    "\n",
    "print(\"\\nPesos de atenção entre o token 'tudo' e TODOS os tokens:\")\n",
    "print(attention_weights)\n",
    "print(\"Soma dos pesos de atenção:\", attention_weights.sum().item())"
   ]
  },
  {
   "cell_type": "markdown",
   "metadata": {},
   "source": [
    "Por fim, calculamos o vetor contextual para o token 'tudo'. Para isso, multiplicamos os pesos de atenção pelo embedding values, que é o único componente que ainda não havíamos utilizado"
   ]
  },
  {
   "cell_type": "code",
   "execution_count": 256,
   "metadata": {},
   "outputs": [
    {
     "name": "stdout",
     "output_type": "stream",
     "text": [
      "\n",
      "Vetor de contexto para o token 'tudo': tensor([-0.1757, -0.0118, -0.4777], grad_fn=<SqueezeBackward4>)\n",
      "Embedding anterior do token 'tudo': tensor([0.9100, 0.8100, 0.6900])\n"
     ]
    }
   ],
   "source": [
    "context_vector = attention_weights @ values\n",
    "\n",
    "print(\"\\nVetor de contexto para o token 'tudo':\", context_vector)\n",
    "print(\"Embedding anterior do token 'tudo':\", embeds[\"tudo\"])"
   ]
  },
  {
   "cell_type": "markdown",
   "metadata": {},
   "source": [
    "Pronto, utilizando esse processo de cálculo, conseguimos obter embeddings contextualizados e permitir que a rede aprenda, durante o treinamento, através das matrizes de peso $w$, como criar relações entre tokens e \"prestar atenção\". Ao final, todo esse processo pode ser resumida na equação que vemos no [paper](https://arxiv.org/pdf/1706.03762):\n",
    "\n",
    "$$\n",
    "\n",
    "\\text{Atenção}(Q, K, V) = \\text{softmax}\\left(\\frac{QK^T}{\\sqrt{d_k}}\\right)V\n",
    "$$\n",
    "\n",
    "Com todo esse conhecimento, podemos agora criar uma classe que executa esses cálculos de forma eficiente para qualquer entrada que recebermos"
   ]
  },
  {
   "cell_type": "code",
   "execution_count": 257,
   "metadata": {},
   "outputs": [],
   "source": [
    "class SelfAttention(torch.nn.Module):\n",
    "\n",
    "    def __init__(self, d_in, d_out, qkv_bias=False):\n",
    "        super().__init__()\n",
    "\n",
    "        self.W_query = torch.nn.Linear(d_in, d_out, bias=qkv_bias)\n",
    "        self.W_key = torch.nn.Linear(d_in, d_out, bias=qkv_bias)\n",
    "        self.W_value = torch.nn.Linear(d_in, d_out, bias=qkv_bias)\n",
    "\n",
    "    def forward(self, x):\n",
    "        query = self.W_query(x)\n",
    "        keys = self.W_key(x)\n",
    "        values = self.W_value(x)\n",
    "\n",
    "        attention_scores = query @ keys.T\n",
    "        attention_weights = torch.softmax(\n",
    "            attention_scores / keys.size(-1)**0.5,\n",
    "            dim=-1\n",
    "        )\n",
    "\n",
    "        context_vector = attention_weights @ values\n",
    "\n",
    "        return context_vector"
   ]
  },
  {
   "cell_type": "markdown",
   "metadata": {},
   "source": [
    "Com a classe criada, podemos passar nosso input (os embeddings dos tokens da nossa frase) e receber esses embeddings agora enriquecidos — não apenas com a informação semântica e posicional, mas também contextualizados em relação à frase como um todo."
   ]
  },
  {
   "cell_type": "code",
   "execution_count": 258,
   "metadata": {},
   "outputs": [
    {
     "name": "stdout",
     "output_type": "stream",
     "text": [
      "\n",
      "Vetor de contexto para o token 'tudo':\n",
      "tensor([[-0.1747, -0.0118, -0.4754],\n",
      "        [-0.1678, -0.0121, -0.4594],\n",
      "        [-0.1757, -0.0118, -0.4777],\n",
      "        [-0.1675, -0.0121, -0.4586],\n",
      "        [-0.1701, -0.0120, -0.4645],\n",
      "        [-0.1747, -0.0119, -0.4754]], grad_fn=<MmBackward0>)\n"
     ]
    }
   ],
   "source": [
    "torch.manual_seed(42)\n",
    "sa = SelfAttention(d_in, d_out, qkv_bias=False)\n",
    "context_vector = sa(inputs)\n",
    "\n",
    "print(\"\\nVetor de contexto para o token 'tudo':\")\n",
    "print(context_vector)"
   ]
  },
  {
   "cell_type": "markdown",
   "metadata": {},
   "source": [
    "Podemos ver que o terceiro embedding, correspondente ao token 'tudo', apresenta o mesmo valor que tínhamos obtido no cálculo passo a passo anterior (`-0.1757, -0.0118, -0.4777`).\n",
    "\n",
    "Nosso módulo de atenção está funcionando bem, mas possui uma limitação importante: nosso LLM deveria se basear exclusivamente nos tokens anteriores ao fazer previsões — nunca nos tokens futuros. Se permitíssemos isso, cometeríamos um erro semelhante ao data leakage, usando informações do alvo para prever o próprio alvo.\n",
    "\n",
    "Para contornar esse problema, implementaremos a atenção causal"
   ]
  },
  {
   "cell_type": "markdown",
   "metadata": {},
   "source": [
    "# Atenção Causal\n",
    "\n",
    "A atenção causal, também conhecida como atenção mascarada (*masked attention*), é um tipo específico do mecanismo de atenção que limita o fluxo de informação. Durante o cálculo dos *Scores de Atenção*, ela permite que o modelo considere apenas os tokens anteriores e o atual, bloqueando completamente o acesso aos tokens futuros. Essa restrição previne o problema de leakage mencionado anteriormente.\n",
    "\n",
    "Para implementar a atenção causal, utilizamos uma matriz triangular inferior e atribuímos o valor negativo infinito (-inf) aos Scores de Atenção acima da diagonal principal. Quando aplicamos a função softmax para normalização, esses valores -inf são efetivamente zerados na distribuição de probabilidade, garantindo que cada token só possa \"prestar atenção\" aos tokens anteriores e a si mesmo, mantendo a soma dos pesos de atenção igual a 1 para cada posição.\n",
    "\n",
    "Vamos gerar uma matriz de Scores de Atenção para exemplificar a implementação"
   ]
  },
  {
   "cell_type": "code",
   "execution_count": 259,
   "metadata": {},
   "outputs": [
    {
     "name": "stdout",
     "output_type": "stream",
     "text": [
      "\n",
      "Scores de atenção entre todos os tokens:\n",
      "tensor([[0.3796, 0.1593, 0.4383, 0.1249, 0.2237, 0.4882],\n",
      "        [0.0823, 0.0443, 0.0968, 0.0344, 0.0545, 0.1190],\n",
      "        [0.4249, 0.1795, 0.4907, 0.1406, 0.2511, 0.5479],\n",
      "        [0.0672, 0.0349, 0.0788, 0.0271, 0.0437, 0.0955],\n",
      "        [0.1768, 0.0794, 0.2050, 0.0620, 0.1073, 0.2343],\n",
      "        [0.3846, 0.1741, 0.4463, 0.1361, 0.2344, 0.5117]],\n",
      "       grad_fn=<MmBackward0>)\n",
      "\n",
      "Scores de atenção mascarado:\n",
      "tensor([[0.3796,   -inf,   -inf,   -inf,   -inf,   -inf],\n",
      "        [0.0823, 0.0443,   -inf,   -inf,   -inf,   -inf],\n",
      "        [0.4249, 0.1795, 0.4907,   -inf,   -inf,   -inf],\n",
      "        [0.0672, 0.0349, 0.0788, 0.0271,   -inf,   -inf],\n",
      "        [0.1768, 0.0794, 0.2050, 0.0620, 0.1073,   -inf],\n",
      "        [0.3846, 0.1741, 0.4463, 0.1361, 0.2344, 0.5117]],\n",
      "       grad_fn=<MaskedFillBackward0>)\n"
     ]
    }
   ],
   "source": [
    "queries = sa.W_query(inputs)\n",
    "keys = sa.W_key(inputs)\n",
    "\n",
    "attention_scores = queries @ keys.T\n",
    "\n",
    "mask = torch.triu(torch.ones(inputs.size(0), inputs.size(0)), diagonal=1)\n",
    "masked_attention_scores = attention_scores.masked_fill(mask.bool(), float('-inf'))\n",
    "\n",
    "print(\"\\nScores de atenção entre todos os tokens:\")\n",
    "print(attention_scores)\n",
    "\n",
    "print(\"\\nScores de atenção mascarado:\")\n",
    "print(masked_attention_scores)"
   ]
  },
  {
   "cell_type": "markdown",
   "metadata": {},
   "source": [
    "Agora podemos normalizar os Scores de Atenção, normalizando e aplicando a softmax igual fizemos anteriormente"
   ]
  },
  {
   "cell_type": "code",
   "execution_count": 260,
   "metadata": {},
   "outputs": [
    {
     "name": "stdout",
     "output_type": "stream",
     "text": [
      "\n",
      "Pesos de atenção entre todos os tokens:\n",
      "tensor([[1.0000, 0.0000, 0.0000, 0.0000, 0.0000, 0.0000],\n",
      "        [0.5055, 0.4945, 0.0000, 0.0000, 0.0000, 0.0000],\n",
      "        [0.3440, 0.2986, 0.3574, 0.0000, 0.0000, 0.0000],\n",
      "        [0.2522, 0.2475, 0.2539, 0.2464, 0.0000, 0.0000],\n",
      "        [0.2058, 0.1946, 0.2092, 0.1926, 0.1977, 0.0000],\n",
      "        [0.1730, 0.1532, 0.1792, 0.1499, 0.1586, 0.1861]],\n",
      "       grad_fn=<SoftmaxBackward0>)\n",
      "Soma dos pesos de atenção: tensor([1.0000, 1.0000, 1.0000, 1.0000, 1.0000, 1.0000],\n",
      "       grad_fn=<SumBackward1>)\n"
     ]
    }
   ],
   "source": [
    "attention_weights = torch.nn.functional.softmax(\n",
    "    masked_attention_scores / keys.size(-1)**0.5,\n",
    "    dim=-1\n",
    ")\n",
    "\n",
    "print(\"\\nPesos de atenção entre todos os tokens:\")\n",
    "print(attention_weights)\n",
    "print(\"Soma dos pesos de atenção:\", attention_weights.sum(dim=-1))"
   ]
  },
  {
   "cell_type": "markdown",
   "metadata": {},
   "source": [
    "Dessa forma, podemos observar que o modelo considera a atenção apenas para o token atual e os anteriores, nunca para os tokens futuros.\n",
    "\n",
    "Agora vamos introduzir um novo componente muito comum em várias arquiteturas de rede e está presente também nos transformers, dentro dos mecanismos de atenção: a camada de Dropout"
   ]
  },
  {
   "cell_type": "code",
   "execution_count": 261,
   "metadata": {},
   "outputs": [
    {
     "data": {
      "image/png": "[encoded data removed]",
      "text/plain": [
       "<Figure size 1000x800 with 2 Axes>"
      ]
     },
     "metadata": {},
     "output_type": "display_data"
    }
   ],
   "source": [
    "plt.figure(figsize=(10, 8))\n",
    "sns.heatmap(attention_weights.detach().numpy(), annot=True, cmap='rocket_r', xticklabels=tokens, yticklabels=tokens)\n",
    "plt.title('Matriz de Atenção com Máscara')\n",
    "plt.xlabel('Tokens')\n",
    "plt.ylabel('Tokens')\n",
    "plt.show()"
   ]
  },
  {
   "cell_type": "markdown",
   "metadata": {},
   "source": [
    "## Evitando overffiting: adicionando Dropout\n",
    "\n",
    "O Dropout é uma técnica de regularização que desativa aleatoriamente um conjunto de neurônios durante cada etapa do treinamento. Durante o treinamento, cada neurônio tem uma probabilidade de ser temporariamente removido da rede, forçando o modelo a aprender padrões mais robustos e distribuídos.\n",
    "\n",
    "Essa abordagem previne o overfitting ao evitar que o modelo se torne excessivamente dependente de neurônios específicos. É importante ressaltar que o Dropout é ativado apenas durante o treinamento - durante a inferência, todos os neurônios são mantidos ativos para maximizar a capacidade preditiva do modelo.\n",
    "\n",
    "Nos modelos como o GPT, o dropout pode ser aplicado em dois pontos estratégicos do mecanismo de atenção: após o cálculo dos pesos de atenção (attention dropout) ou após o cálculo dos vetores contextuais (projection dropout). Em nossa implementação, utilizaremos o attention dropout, por ser a abordagem mais comum nas arquiteturas."
   ]
  },
  {
   "cell_type": "code",
   "execution_count": 262,
   "metadata": {},
   "outputs": [
    {
     "name": "stdout",
     "output_type": "stream",
     "text": [
      "Matriz original:\n",
      "tensor([[1., 1., 1., 1., 1., 1.],\n",
      "        [1., 1., 1., 1., 1., 1.],\n",
      "        [1., 1., 1., 1., 1., 1.],\n",
      "        [1., 1., 1., 1., 1., 1.],\n",
      "        [1., 1., 1., 1., 1., 1.],\n",
      "        [1., 1., 1., 1., 1., 1.]])\n",
      "\n",
      "Exemplo de dropout:\n",
      "tensor([[0., 2., 0., 0., 2., 2.],\n",
      "        [0., 0., 0., 2., 0., 0.],\n",
      "        [2., 2., 0., 0., 2., 2.],\n",
      "        [0., 2., 0., 0., 2., 0.],\n",
      "        [0., 0., 2., 2., 2., 2.],\n",
      "        [0., 2., 0., 0., 0., 0.]])\n"
     ]
    }
   ],
   "source": [
    "dropout = torch.nn.Dropout(0.5)     # Dropout com probabilidade de 50%\n",
    "matriz = torch.ones(6,6)            # Matriz de 1's (Shape: [6,6])\n",
    "\n",
    "print(\"Matriz original:\")\n",
    "print(matriz)\n",
    "print(\"\\nExemplo de dropout:\")\n",
    "print(dropout(matriz))\n"
   ]
  },
  {
   "cell_type": "markdown",
   "metadata": {},
   "source": [
    "No exemplo anterior, implementamos um dropout com taxa de 50%. Isso significa que, durante o treinamento, metade dos neurônios são aleatoriamente desativados (seus valores são zerados).\n",
    "\n",
    "Para manter a magnitude dos sinais consistente na rede, os valores dos neurônios ativos são reescalados dividindo-os pelo dropout rate (que no nosso caso é 0,5). Esta compensação é necessária porque, com metade dos neurônios desativados, precisamos dobrar a intensidade dos sinais dos neurônios restantes para manter o mesmo nível de ativação total da camada.\n",
    "\n",
    "Vamos aplicar o dropout na matriz dos pesos de atenção criada anteriormente"
   ]
  },
  {
   "cell_type": "code",
   "execution_count": 263,
   "metadata": {},
   "outputs": [
    {
     "name": "stdout",
     "output_type": "stream",
     "text": [
      "\n",
      "Pesos de atenção sem dropout:\n",
      "tensor([[1.0000, 0.0000, 0.0000, 0.0000, 0.0000, 0.0000],\n",
      "        [0.5055, 0.4945, 0.0000, 0.0000, 0.0000, 0.0000],\n",
      "        [0.3440, 0.2986, 0.3574, 0.0000, 0.0000, 0.0000],\n",
      "        [0.2522, 0.2475, 0.2539, 0.2464, 0.0000, 0.0000],\n",
      "        [0.2058, 0.1946, 0.2092, 0.1926, 0.1977, 0.0000],\n",
      "        [0.1730, 0.1532, 0.1792, 0.1499, 0.1586, 0.1861]],\n",
      "       grad_fn=<SoftmaxBackward0>)\n",
      "Pesos de atenção com dropout:\n",
      "tensor([[2.0000, 0.0000, 0.0000, 0.0000, 0.0000, 0.0000],\n",
      "        [0.0000, 0.0000, 0.0000, 0.0000, 0.0000, 0.0000],\n",
      "        [0.0000, 0.0000, 0.7147, 0.0000, 0.0000, 0.0000],\n",
      "        [0.0000, 0.4951, 0.5077, 0.0000, 0.0000, 0.0000],\n",
      "        [0.4117, 0.3892, 0.0000, 0.3853, 0.3955, 0.0000],\n",
      "        [0.3459, 0.3064, 0.3585, 0.2997, 0.0000, 0.0000]],\n",
      "       grad_fn=<MulBackward0>)\n"
     ]
    }
   ],
   "source": [
    "torch.manual_seed(42)\n",
    "attention_weights_with_dropout = dropout(attention_weights)\n",
    "\n",
    "print(\"\\nPesos de atenção sem dropout:\")\n",
    "print(attention_weights)\n",
    "print(\"Pesos de atenção com dropout:\")\n",
    "print(attention_weights_with_dropout)"
   ]
  },
  {
   "cell_type": "code",
   "execution_count": 265,
   "metadata": {},
   "outputs": [
    {
     "data": {
      "image/png": "[encoded data removed]",
      "text/plain": [
       "<Figure size 1000x800 with 2 Axes>"
      ]
     },
     "metadata": {},
     "output_type": "display_data"
    }
   ],
   "source": [
    "plt.figure(figsize=(10, 8))\n",
    "sns.heatmap(attention_weights_with_dropout.detach().numpy(), annot=True, cmap='rocket_r', xticklabels=tokens, yticklabels=tokens)\n",
    "plt.title('Matriz de Atenção com Máscara + Dropout')\n",
    "plt.xlabel('Tokens')\n",
    "plt.ylabel('Tokens')\n",
    "plt.show()"
   ]
  },
  {
   "cell_type": "markdown",
   "metadata": {},
   "source": [
    "Agora que o conceito do dropout e da atenção causal foram explicados vamos modificar nossa classe de atenção para incorporar esses dois mecanismos"
   ]
  },
  {
   "cell_type": "code",
   "execution_count": 108,
   "metadata": {},
   "outputs": [],
   "source": [
    "class CausalAttention(torch.nn.Module):\n",
    "\n",
    "    def __init__(self, d_in, d_out, context_length, qkv_bias=False, dropout = 0.1):\n",
    "        super().__init__()\n",
    "\n",
    "        self.W_query = torch.nn.Linear(d_in, d_out, bias=qkv_bias)\n",
    "        self.W_key = torch.nn.Linear(d_in, d_out, bias=qkv_bias)\n",
    "        self.W_value = torch.nn.Linear(d_in, d_out, bias=qkv_bias)\n",
    "\n",
    "        self.dropout = torch.nn.Dropout(dropout) #1\n",
    "\n",
    "        self.register_buffer( #2\n",
    "            \"mask\",\n",
    "            torch.triu(torch.ones(context_length, context_length), diagonal=1)\n",
    "        )\n",
    "\n",
    "    def forward(self, x):\n",
    "        n_tokens, _ = x.size()\n",
    "\n",
    "        query = self.W_query(x)\n",
    "        keys = self.W_key(x)\n",
    "        values = self.W_value(x)\n",
    "\n",
    "        attention_scores = query @ keys.T\n",
    "        attention_scores.masked_fill_(\n",
    "            self.mask.bool()[:n_tokens, :n_tokens], -torch.inf #3\n",
    "        )\n",
    "\n",
    "        attention_weights = torch.softmax(\n",
    "            attention_scores / keys.size(-1)**0.5,\n",
    "            dim=-1\n",
    "        )\n",
    "        attention_weights = self.dropout(attention_weights) #4\n",
    "\n",
    "        context_vector = attention_weights @ values\n",
    "        return context_vector"
   ]
  },
  {
   "cell_type": "markdown",
   "metadata": {},
   "source": [
    "As únicas mudanças que fizemos foram adicionar uma nova camada de dropout (1), que chamamos antes de calcular o vetor contextual, e adicionar a máscara com os valores infinitos negativos acima da diagonal principal (4).\n",
    "\n",
    "Para criar a máscara, usamos a função `register_buffer` (2), que permite registrar um tensor como parte do estado do módulo sem que ele seja considerado um parâmetro treinável. Isso é útil para valores que precisam ser persistentes durante a execução do modelo mas não devem ser otimizados durante o treinamento, como é o caso da nossa máscara de atenção causal.\n",
    "\n",
    "Além disso, ao aplicar a máscara à matriz de Scores de Atenção, garantimos o recorte da máscara para o tamanho equivalente ao número de tokens (3), já que nem todas as entradas terão o mesmo tamanho. Isso é particularmente importante quando processamos sequências que podem ter diferentes comprimentos (podemos ter uma frase com 4 tokens e outra com 20), garantindo que a máscara seja aplicada corretamente, independentemente do tamanho da entrada."
   ]
  },
  {
   "cell_type": "code",
   "execution_count": 121,
   "metadata": {},
   "outputs": [
    {
     "name": "stdout",
     "output_type": "stream",
     "text": [
      "Vetor de contexto para TODOS tokens:\n",
      "tensor([[-0.2788,  0.0071, -0.6651],\n",
      "        [-0.1542, -0.0146, -0.4205],\n",
      "        [-0.2146, -0.0040, -0.5452],\n",
      "        [-0.1624, -0.0079, -0.4307],\n",
      "        [-0.1552, -0.0070, -0.4135],\n",
      "        [-0.1747, -0.0119, -0.4754]], grad_fn=<MmBackward0>)\n"
     ]
    }
   ],
   "source": [
    "torch.manual_seed(42)\n",
    "ca = CausalAttention(d_in, d_out, context_length=6, qkv_bias=False, dropout=0.2)\n",
    "\n",
    "ca.eval() #1\n",
    "context_vector = ca(inputs)\n",
    "\n",
    "print(\"Vetor de contexto para TODOS tokens:\")\n",
    "print(context_vector)"
   ]
  },
  {
   "cell_type": "markdown",
   "metadata": {},
   "source": [
    "Para utilizar a classe, seguimos o mesmo procedimento anterior, com uma diferença importante: precisamos informar ao PyTorch que não estamos em modo de treinamento **(1)**, desativando assim o dropout. Sem essa configuração, o dropout continuará ativo e poderá gerar vetores contextuais zerados por conta da desativação aleatória dos neurônios.\n",
    "\n",
    "Apesar da eficácia do nosso mecanismo de atenção atual, podemos fazer uma alteração para deixa-lo mais robusto em tarefas mais complexas. Imagine que ao invés de utilizarmos uma camada de atenção, podemos utilizar múltiplas, em paralelo, cada uma funcionando como um especialista dedicado a detectar padrões específicos nos dados de entrada.\n",
    "\n",
    "Para ilustrar, imagine um grupo de especialistas analisando o texto. Enquanto um especialista foca nas relações entre palavras adjacentes, como artigos e substantivos outro observa conexões de média distância, como pronomes e seus referentes e um terceiro analisa o contexto global, identificando o tom e tema geral do texto.\n",
    "\n",
    "Esta divisão de responsabilidades permite que o modelo capture desde detalhes gramaticais sutis até estruturas semânticas complexas que seriam imperceptíveis com uma única camada de atenção.\n",
    "\n",
    "Os vetores contextuais gerados por cada \"especialista\" (cabeça) são combinados em um único vetor que incorpora todas essas informações, nosso vetor contextual. Essa estrutura é conhecida como Multi-Head Attention (Atenção Multi-Cabeça)."
   ]
  },
  {
   "cell_type": "markdown",
   "metadata": {},
   "source": [
    "# De uma Cabeça para Muitas\n",
    "\n",
    "O termo \"multi cabeça\" (multi-head) refere-se à divisão do mecanismo de atenção em múltiplas cabeças, cada uma operando de forma independente. O que implementamos anteriormente pode ser considerado como uma single-head attention, já que temos apenas um único conjunto de pesos processando os inputs.\n",
    "\n",
    "Para implementar nossa camada *Multi-head Attention*, poderíamos criar várias instâncias da nossa classe CausalAttention e combinar seus resultados. Porém, existe uma abordagem mais eficiente: criaremos as diversas cabeças redimensionando as matrizes **query**, **key** e **value** e, após calcular a atenção, combinaremos os resultados de cada cabeça em uma única matriz\n",
    "\n",
    "Antes de implementar uma classe que faça o calculo do Multi-Head Attention, vamos realizar os cálculos novamente passo a passo. Primeiro vamos definir nosso input, que continua sendo a frase \"Atenção é tudo o que precisamos” e para cada token, criamos um “embedding” aleatório de dimensão 8"
   ]
  },
  {
   "cell_type": "code",
   "execution_count": 189,
   "metadata": {},
   "outputs": [],
   "source": [
    "torch.manual_seed(42)\n",
    "phrase = \"Atenção é tudo o que precisamos\"\n",
    "tokens = phrase.split()\n",
    "\n",
    "# Simulando um embedding de palavras\n",
    "embeds = {\n",
    "    \"Atenção\": torch.randn(8),\n",
    "    \"é\": torch.randn(8),\n",
    "    \"tudo\": torch.randn(8),\n",
    "    \"o\": torch.randn(8),\n",
    "    \"que\": torch.randn(8),\n",
    "    \"precisamos\": torch.randn(8),\n",
    "}\n",
    "\n",
    "inputs = torch.stack([embeds[token] for token in tokens])\n",
    "\n",
    "d_in = inputs.size(-1)      # Dimensão do embedding\n",
    "d_out = d_in                # Dimensão da projeção\n",
    "n_heads = 2                 # Número de cabeças de atenção\n",
    "d_head = d_out // n_heads   # Dimensão da projeção em cada cabeça\n",
    "\n",
    "W_query = torch.nn.Linear(d_in, d_out, bias=False)\n",
    "W_key = torch.nn.Linear(d_in, d_out, bias=False)\n",
    "W_value = torch.nn.Linear(d_in, d_out, bias=False)\n",
    "\n",
    "out_proj = torch.nn.Linear(d_out, d_out)\n",
    "mask = torch.triu(torch.ones(len(tokens), len(tokens)), diagonal=1)"
   ]
  },
  {
   "cell_type": "markdown",
   "metadata": {},
   "source": [
    "Além das variáveis já conhecidas, como as matrizes de peso $w$ e a máscara triangular da atenção causal, temos `n_heads`, que define quantas cabeças de atenção teremos, e `d_head`, que determina a dimensão das matrizes **query**, **key** e **value** de cada cabeça - sendo esta dimensão o resultado da divisão das dimensões iniciais pelo número de cabeças.\n",
    "\n",
    "Outra novidade é uma camada linear chamada `out_proj` que servirá para projetar o resultado das cabeças no nosso vetor contextual final. Pense nas múltiplas cabeças de atenção como vários especialistas e a camada linear como um \"moderador\", combinando as opiniões desses especialistas para produzir uma única decisão ou representação final (vetor contextual).\n",
    "\n",
    "Agora vamos gerar as matrizes **query**, key e value multiplicando nosso input pelos respectivos pesos $w$"
   ]
  },
  {
   "cell_type": "code",
   "execution_count": 190,
   "metadata": {},
   "outputs": [
    {
     "name": "stdout",
     "output_type": "stream",
     "text": [
      "Shape Queries: torch.Size([6, 8])\n",
      "Shape Keys: torch.Size([6, 8])\n",
      "Shape Values: torch.Size([6, 8])\n"
     ]
    }
   ],
   "source": [
    "queries = W_query(inputs)\n",
    "keys = W_key(inputs)\n",
    "values = W_value(inputs)\n",
    "\n",
    "print(\"Shape Queries:\", queries.shape)\n",
    "print(\"Shape Keys:\", keys.shape)\n",
    "print(\"Shape Values:\", values.shape)"
   ]
  },
  {
   "cell_type": "markdown",
   "metadata": {},
   "source": [
    "Podemos ver que as dimensões das nossas matrizes são 6 linhas, uma para cada token, e 8 valores em cada linha — os valores dos embeddings já ponderados pelos pesos $w$. Vamos agora dividir esses 8 valores entre as duas cabeças utilizando o comando `view`"
   ]
  },
  {
   "cell_type": "code",
   "execution_count": 192,
   "metadata": {},
   "outputs": [
    {
     "name": "stdout",
     "output_type": "stream",
     "text": [
      "Shape Queries: torch.Size([6, 2, 4])\n",
      "Shape Keys: torch.Size([6, 2, 4])\n",
      "Shape Values: torch.Size([6, 2, 4])\n"
     ]
    }
   ],
   "source": [
    "queries = queries.view(len(tokens), n_heads, d_head)\n",
    "keys = keys.view(len(tokens), n_heads, d_head)\n",
    "values = values.view(len(tokens), n_heads, d_head)\n",
    "\n",
    "print(\"Shape Queries:\", queries.shape)\n",
    "print(\"Shape Keys:\", keys.shape)\n",
    "print(\"Shape Values:\", values.shape)"
   ]
  },
  {
   "cell_type": "markdown",
   "metadata": {},
   "source": [
    "Vemos que nossas matrizes **query**, **key** e **value** são compostas por 6 tokens, onde para cada um desses tokens temos 2 cabeças com 4 valores cada. Antes de calcular os *Scores de Atenção* e em seguida os Pesos de Atenção precisamos fazer a transposição dessas matrizes.\n",
    "\n",
    "Precisamos reorganizar nossas matrizes de modo que os cálculos sejam feitos por cabeça e não por token. Isso é feito trocando a primeira dimensão (tokens) com a segunda dimensão (cabeças) através da operação de transposição. Dessa forma, poderemos processar as cabeças de atenção de forma independente e paralela."
   ]
  },
  {
   "cell_type": "code",
   "execution_count": 193,
   "metadata": {},
   "outputs": [
    {
     "name": "stdout",
     "output_type": "stream",
     "text": [
      "Shape Queries: torch.Size([2, 6, 4])\n",
      "Shape Keys: torch.Size([2, 6, 4])\n",
      "Shape Values: torch.Size([2, 6, 4])\n"
     ]
    }
   ],
   "source": [
    "# Transpondo as dimensões para que possamos multiplicar as matrizes corretamente (Shape esperado: [n_heads, n_tokens, d_head])\n",
    "queries = queries.transpose(0, 1)\n",
    "keys = keys.transpose(0, 1)\n",
    "values = values.transpose(0, 1)\n",
    "\n",
    "print(\"Shape Queries:\", queries.shape)\n",
    "print(\"Shape Keys:\", keys.shape)\n",
    "print(\"Shape Values:\", values.shape)"
   ]
  },
  {
   "cell_type": "markdown",
   "metadata": {},
   "source": [
    "Agora os valores estão organizados na ordem correta: primeiro as cabeças, depois os tokens e, por fim, os valores individuais. Com essa estrutura, podemos calcular os Scores de Atenção e aplicar a máscara causal."
   ]
  },
  {
   "cell_type": "code",
   "execution_count": 194,
   "metadata": {},
   "outputs": [
    {
     "name": "stdout",
     "output_type": "stream",
     "text": [
      "Shape Attention Scores: torch.Size([2, 6, 6])\n",
      "\n",
      "Attention Scores:\n",
      "tensor([[[-0.7591,    -inf,    -inf,    -inf,    -inf,    -inf],\n",
      "         [ 0.8709, -0.8787,    -inf,    -inf,    -inf,    -inf],\n",
      "         [ 0.0184,  0.1349,  0.1138,    -inf,    -inf,    -inf],\n",
      "         [ 0.0916,  0.1808, -0.0922, -0.0583,    -inf,    -inf],\n",
      "         [-0.1927,  0.1316,  0.1359, -0.0222,  0.0728,    -inf],\n",
      "         [ 0.4217, -0.5818, -0.6180, -0.0103, -0.2964, -0.4543]],\n",
      "\n",
      "        [[-0.0480,    -inf,    -inf,    -inf,    -inf,    -inf],\n",
      "         [ 0.0837,  0.7436,    -inf,    -inf,    -inf,    -inf],\n",
      "         [ 0.1602, -0.4546,  1.2174,    -inf,    -inf,    -inf],\n",
      "         [ 0.1047, -0.3286,  0.7837,  0.1288,    -inf,    -inf],\n",
      "         [ 0.0237, -0.2529,  0.7510, -0.0975,  0.2896,    -inf],\n",
      "         [-0.0731,  0.2625, -0.7685,  0.0042, -0.2592, -0.3273]]],\n",
      "       grad_fn=<MaskedFillBackward0>)\n"
     ]
    }
   ],
   "source": [
    "attention_scores = queries @ keys.transpose(-2, -1) # Fazendo a multiplicação das queries e keys transpondo as últimas duas dimensões\n",
    "mask_bool = mask.bool()[:len(tokens), :len(tokens)]\n",
    "attention_scores.masked_fill_(mask_bool, float('-inf'))\n",
    "\n",
    "print(\"Shape Attention Scores:\", attention_scores.shape)\n",
    "print(\"\\nAttention Scores:\")\n",
    "print(attention_scores)"
   ]
  },
  {
   "cell_type": "markdown",
   "metadata": {},
   "source": [
    "Temos agora as nossas duas matrizes com os Scores de Atenção, uma para cada cabeça. Vamos achar os Pesos de Atenção"
   ]
  },
  {
   "cell_type": "code",
   "execution_count": 196,
   "metadata": {},
   "outputs": [
    {
     "name": "stdout",
     "output_type": "stream",
     "text": [
      "Shape Attention Weights: torch.Size([2, 6, 6])\n",
      "\n",
      "Attention Weights:\n",
      "tensor([[[1.0000, 0.0000, 0.0000, 0.0000, 0.0000, 0.0000],\n",
      "         [0.7057, 0.2943, 0.0000, 0.0000, 0.0000, 0.0000],\n",
      "         [0.3217, 0.3410, 0.3374, 0.0000, 0.0000, 0.0000],\n",
      "         [0.2574, 0.2691, 0.2348, 0.2388, 0.0000, 0.0000],\n",
      "         [0.1790, 0.2106, 0.2110, 0.1950, 0.2045, 0.0000],\n",
      "         [0.2299, 0.1392, 0.1367, 0.1852, 0.1606, 0.1484]],\n",
      "\n",
      "        [[1.0000, 0.0000, 0.0000, 0.0000, 0.0000, 0.0000],\n",
      "         [0.4183, 0.5817, 0.0000, 0.0000, 0.0000, 0.0000],\n",
      "         [0.2914, 0.2143, 0.4943, 0.0000, 0.0000, 0.0000],\n",
      "         [0.2369, 0.1907, 0.3326, 0.2397, 0.0000, 0.0000],\n",
      "         [0.1854, 0.1615, 0.2668, 0.1745, 0.2118, 0.0000],\n",
      "         [0.1748, 0.2068, 0.1235, 0.1817, 0.1593, 0.1540]]],\n",
      "       grad_fn=<SoftmaxBackward0>)\n"
     ]
    }
   ],
   "source": [
    "attention_weights = torch.nn.functional.softmax(\n",
    "    attention_scores / keys.size(-1)**0.5,\n",
    "    dim=-1\n",
    ")\n",
    "\n",
    "print(\"Shape Attention Weights:\", attention_weights.shape)\n",
    "print(\"\\nAttention Weights:\")\n",
    "print(attention_weights)"
   ]
  },
  {
   "cell_type": "markdown",
   "metadata": {},
   "source": [
    "Chegamos na última etapa: calcular os vetores contextuais."
   ]
  },
  {
   "cell_type": "code",
   "execution_count": 198,
   "metadata": {},
   "outputs": [
    {
     "name": "stdout",
     "output_type": "stream",
     "text": [
      "Shape Vetor de Contexto: torch.Size([6, 8])\n",
      "\n",
      "Vetor de Contexto:\n",
      "tensor([[ 0.0257,  0.3181, -0.0296,  0.2585, -0.1248,  0.0339, -0.1693,  0.2312],\n",
      "        [ 0.0084,  0.2291, -0.3647,  0.2155, -0.0515, -0.2924, -0.1800,  0.1574],\n",
      "        [ 0.1803,  0.2423, -0.3487,  0.1708,  0.2053, -0.0517, -0.1429,  0.3193],\n",
      "        [ 0.2501,  0.2304, -0.3660,  0.0852,  0.1882, -0.0400, -0.1757,  0.3423],\n",
      "        [ 0.2623,  0.1995, -0.3935,  0.0788,  0.2488, -0.0262, -0.2089,  0.4014],\n",
      "        [ 0.1728,  0.2577, -0.4239,  0.1221,  0.2583, -0.0639, -0.1834,  0.3750]],\n",
      "       grad_fn=<AddmmBackward0>)\n"
     ]
    }
   ],
   "source": [
    "context_vector = attention_weights @ values\n",
    "context_vector = context_vector.transpose(0, 1) # Transpondo de volta para o formato original (Shape esperado: [n_tokens, n_heads, d_head])\n",
    "context_vector = context_vector.contiguous().view(len(tokens), d_out) # Remodelando para o formato original (Shape esperado: [n_tokens, d_out])\n",
    "context_vector = out_proj(context_vector)\n",
    "\n",
    "print(\"Shape Vetor de Contexto:\", context_vector.shape)\n",
    "print(\"\\nVetor de Contexto:\")\n",
    "print(context_vector)"
   ]
  },
  {
   "cell_type": "markdown",
   "metadata": {},
   "source": [
    "O cálculo dos vetores contextuais é feito com pequenas diferenças: após a multiplicação dos **Pesos de Atenção** com a matriz **values**, fazemos uma transposição, retornando a dimensão dos tokens para a primeira posição. Em seguida, concatenamos as cabeças usando a função `view` e, por fim, passamos o resultado pela nossa camada linear.\n",
    "\n",
    "Agora temos nossos vetores contextuais resultantes do cálculo de múltiplas cabeças. Estamos prontos para implementar a classe que usaremos no nosso LLM"
   ]
  },
  {
   "cell_type": "code",
   "execution_count": 183,
   "metadata": {},
   "outputs": [],
   "source": [
    "class MultiHeadAttention(torch.nn.Module):\n",
    "\n",
    "    def __init__(self, d_in, d_out, context_length, n_heads, qkv_bias=False, dropout = 0.1):\n",
    "        super().__init__()\n",
    "\n",
    "        assert d_out % n_heads == 0, \"d_out deve ser divisível por num_heads\"\n",
    "\n",
    "        self.d_out = d_out\n",
    "        self.n_heads = n_heads\n",
    "        self.d_head = d_out // n_heads\n",
    "\n",
    "        self.W_query = torch.nn.Linear(d_in, d_out, bias=qkv_bias)\n",
    "        self.W_key = torch.nn.Linear(d_in, d_out, bias=qkv_bias)\n",
    "        self.W_value = torch.nn.Linear(d_in, d_out, bias=qkv_bias)\n",
    "\n",
    "        self.out_proj = torch.nn.Linear(d_out, d_out)\n",
    "        self.dropout = torch.nn.Dropout(dropout)\n",
    "\n",
    "        self.register_buffer(\n",
    "            \"mask\",\n",
    "            torch.triu(torch.ones(context_length, context_length), diagonal=1)\n",
    "        )\n",
    "\n",
    "    def forward(self, x):\n",
    "        n_batch, n_tokens, _ = x.size()\n",
    "\n",
    "        queries = self.W_query(x)\n",
    "        keys = self.W_key(x)\n",
    "        values = self.W_value(x)\n",
    "\n",
    "        queries = queries.view(n_batch, n_tokens, self.n_heads, self.d_head)\n",
    "        keys = keys.view(n_batch, n_tokens, self.n_heads, self.d_head)\n",
    "        values = values.view(n_batch, n_tokens, self.n_heads, self.d_head)\n",
    "\n",
    "        queries = queries.transpose(1, 2)\n",
    "        keys = keys.transpose(1, 2)\n",
    "        values = values.transpose(1, 2)\n",
    "\n",
    "        attention_scores = queries @ keys.transpose(-2, -1)\n",
    "        attention_scores.masked_fill_(\n",
    "            self.mask.bool()[:n_tokens, :n_tokens], -torch.inf\n",
    "        )\n",
    "\n",
    "        attention_weights = torch.softmax(\n",
    "            attention_scores / keys.size(-1)**0.5,\n",
    "            dim=-1\n",
    "        )\n",
    "        attention_weights = self.dropout(attention_weights)\n",
    "\n",
    "        context_vector = (attention_weights @ values).transpose(1, 2)\n",
    "        context_vector = context_vector.contiguous().view(n_batch, n_tokens, self.d_out)\n",
    "        context_vector = self.out_proj(context_vector)\n",
    "\n",
    "        return context_vector"
   ]
  },
  {
   "cell_type": "markdown",
   "metadata": {},
   "source": [
    "A classe `MultiHeadAttention` implementa exatamente o mesmo processo que fizemos anteriormente, com uma única diferença: quando formos treinar nosso LLM não enviaremos apenas uma sequência de texto e sim um conjunto de sequências (os famosos batchs). Essa técnica auxilia melhora a convergência do modelo e o tempo necessário para isso.\n",
    "\n",
    "Por conta disso, já construímos a classe preparada para receber uma dimensão extra nos inputs: os batches. Em vez de receber apenas `[n_tokens, d_out]`, receberemos `[n_batch, n_tokens, d_out]`"
   ]
  },
  {
   "cell_type": "code",
   "execution_count": 205,
   "metadata": {},
   "outputs": [
    {
     "name": "stdout",
     "output_type": "stream",
     "text": [
      "Vetor de contexto para TODOS tokens:\n",
      "tensor([[ 0.4427, -0.2856,  0.6128,  0.1079,  0.6926,  0.0858,  0.3974, -0.0293],\n",
      "        [ 0.2974, -0.1247,  0.4476,  0.2000,  0.6202,  0.0128,  0.3492, -0.0699],\n",
      "        [ 0.2069, -0.1970,  0.1220,  0.1342,  0.2787, -0.1903,  0.2832, -0.2000],\n",
      "        [ 0.1517, -0.1998,  0.0960,  0.1153,  0.2119, -0.2781,  0.3234, -0.2299],\n",
      "        [ 0.1197, -0.1825,  0.0191,  0.1142,  0.1672, -0.3232,  0.3075, -0.2100],\n",
      "        [ 0.0767, -0.1438,  0.0484,  0.1368,  0.2004, -0.3595,  0.3050, -0.1914]],\n",
      "       grad_fn=<SqueezeBackward1>)\n"
     ]
    }
   ],
   "source": [
    "torch.manual_seed(42)\n",
    "mha = MultiHeadAttention(d_in, d_out, context_length=6, n_heads=2, qkv_bias=False, dropout=0.2)\n",
    "\n",
    "mha.eval()\n",
    "inputs_with_batch = inputs.unsqueeze(0) # Adicionando uma dimensão de batch\n",
    "context_vector = mha(inputs_with_batch)\n",
    "\n",
    "print(\"Vetor de contexto para TODOS tokens:\")\n",
    "print(context_vector.squeeze(0))"
   ]
  },
  {
   "cell_type": "markdown",
   "metadata": {},
   "source": [
    "Com esses vetores contextuais calculados, podemos considerar nosso módulo de atenção completo!\n",
    "\n",
    "---\n",
    "\n",
    "# Conclusão\n",
    "\n",
    "Neste artigo, exploramos detalhadamente o mecanismo de atenção — um componente revolucionário que transformou a maneira como os modelos de linguagem processam informações. Começamos com a arquitetura básica de atenção e avançamos até a arquitetura de múltiplas cabeças, que permite ao nosso modelo aprender relações complexas entre as palavras.\n",
    "\n",
    "No próximo artigo, daremos um passo crucial rumo à conclusão do nosso LLM: implementaremos o bloco Transformer completo, combinando o mecanismo de atenção com feed-forward networks e normalização. Isso nos aproximará da conclusão do modelo e do início do momento mais aguardado: o pré-treinamento."
   ]
  }
 ],
 "metadata": {
  "kernelspec": {
   "display_name": ".venv",
   "language": "python",
   "name": "python3"
  },
  "language_info": {
   "codemirror_mode": {
    "name": "ipython",
    "version": 3
   },
   "file_extension": ".py",
   "mimetype": "text/x-python",
   "name": "python",
   "nbconvert_exporter": "python",
   "pygments_lexer": "ipython3",
   "version": "3.12.1"
  }
 },
 "nbformat": 4,
 "nbformat_minor": 2
}
