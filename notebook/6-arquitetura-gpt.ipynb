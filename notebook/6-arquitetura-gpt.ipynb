{
 "cells": [
  {
   "cell_type": "markdown",
   "metadata": {},
   "source": [
    "# 6 - Construindo um LLM do Zero: GPT — Do Token ao Texto\n",
    "\n",
    "Este é o **sexto** de uma série de oito artigos que podem ser encontrados no meu medium. Acesse o primeiro artigo da série aqui: [Construindo um LLM: entendendo os Grandes Modelos de Linguagem](https://blog.zfab.me/construindo-um-llm-entendendo-os-grandes-modelos-de-linguagem-b37884219eaa)\n",
    "\n",
    "----\n",
    "Chegamos ao momento em que concluímos nosso modelo e o deixamos pronto para ser pré-treinado. Nos artigos anteriores, exploramos os conceitos fundamentais de tokenização, embeddings, multi-head attention e a arquitetura do bloco Transformer. Agora, daremos o passo final: montar o modelo GPT completo e funcional."
   ]
  },
  {
   "cell_type": "code",
   "execution_count": 49,
   "metadata": {},
   "outputs": [],
   "source": [
    "import torch\n",
    "import torch.nn as nn\n",
    "import matplotlib.pyplot as plt\n",
    "import seaborn as sns\n",
    "from tqdm import tqdm\n",
    "from torch.nn import functional as F\n",
    "import sentencepiece as spm\n",
    "import numpy as np\n",
    "\n",
    "sns.set_style(\"whitegrid\")\n",
    "plt.rcParams.update({\"font.size\": 12})"
   ]
  },
  {
   "cell_type": "code",
   "execution_count": 50,
   "metadata": {},
   "outputs": [],
   "source": [
    "class MultiHeadAttention(torch.nn.Module):\n",
    "    def __init__(\n",
    "        self, d_in, d_out, context_length, n_heads, qkv_bias=False, dropout=0.1\n",
    "    ):\n",
    "        super().__init__()\n",
    "\n",
    "        assert d_out % n_heads == 0, \"d_out deve ser divisível por num_heads\"\n",
    "\n",
    "        self.d_out = d_out\n",
    "        self.n_heads = n_heads\n",
    "        self.d_head = d_out // n_heads\n",
    "\n",
    "        self.W_query = torch.nn.Linear(d_in, d_out, bias=qkv_bias)\n",
    "        self.W_key = torch.nn.Linear(d_in, d_out, bias=qkv_bias)\n",
    "        self.W_value = torch.nn.Linear(d_in, d_out, bias=qkv_bias)\n",
    "\n",
    "        self.out_proj = torch.nn.Linear(d_out, d_out)\n",
    "        self.dropout = torch.nn.Dropout(dropout)\n",
    "\n",
    "        self.register_buffer(\n",
    "            \"mask\", torch.triu(torch.ones(context_length, context_length), diagonal=1)\n",
    "        )\n",
    "\n",
    "    def forward(self, x):\n",
    "        n_batch, n_tokens, _ = x.size()\n",
    "\n",
    "        queries = self.W_query(x)\n",
    "        keys = self.W_key(x)\n",
    "        values = self.W_value(x)\n",
    "\n",
    "        queries = queries.view(n_batch, n_tokens, self.n_heads, self.d_head)\n",
    "        keys = keys.view(n_batch, n_tokens, self.n_heads, self.d_head)\n",
    "        values = values.view(n_batch, n_tokens, self.n_heads, self.d_head)\n",
    "\n",
    "        queries = queries.transpose(1, 2)\n",
    "        keys = keys.transpose(1, 2)\n",
    "        values = values.transpose(1, 2)\n",
    "\n",
    "        attention_scores = queries @ keys.transpose(-2, -1)\n",
    "        attention_scores.masked_fill_(\n",
    "            self.mask.bool()[:n_tokens, :n_tokens], -torch.inf\n",
    "        )\n",
    "\n",
    "        attention_weights = torch.softmax(\n",
    "            attention_scores / keys.size(-1) ** 0.5, dim=-1\n",
    "        )\n",
    "        attention_weights = self.dropout(attention_weights)\n",
    "\n",
    "        context_vector = (attention_weights @ values).transpose(1, 2)\n",
    "        context_vector = context_vector.contiguous().view(n_batch, n_tokens, self.d_out)\n",
    "        context_vector = self.out_proj(context_vector)\n",
    "\n",
    "        return context_vector\n",
    "\n",
    "class LayerNorm(nn.Module):\n",
    "    def __init__(self, d_emb):\n",
    "        super().__init__()\n",
    "        self.eps = 1e-6  # Epsilon para evitar divisão por zero\n",
    "        self.scale = nn.Parameter(\n",
    "            torch.ones(d_emb)\n",
    "        )  # Gamma - Inicializando com 1 para não alterar a escala\n",
    "        self.shift = nn.Parameter(\n",
    "            torch.zeros(d_emb)\n",
    "        )  # Beta - Inicializando com 0 para não alterar o deslocamento\n",
    "\n",
    "    def forward(self, x):\n",
    "        mean = x.mean(dim=-1, keepdim=True)\n",
    "        var = x.var(dim=-1, keepdim=True, unbiased=False)\n",
    "        norm_x = (x - mean) / torch.sqrt(var + self.eps)\n",
    "        return self.scale * norm_x + self.shift  # Gamma * x_norm + Beta\n",
    "\n",
    "class GeLU(nn.Module):\n",
    "    def __init__(self):\n",
    "        super().__init__()\n",
    "\n",
    "    def forward(self, x):\n",
    "        return (\n",
    "            0.5\n",
    "            * x\n",
    "            * (\n",
    "                1\n",
    "                + torch.tanh(\n",
    "                    torch.sqrt(torch.tensor(2.0 / torch.pi))\n",
    "                    * (x + 0.044715 * torch.pow(x, 3))\n",
    "                )\n",
    "            )\n",
    "        )\n",
    "\n",
    "class FeedForward(nn.Module):\n",
    "    def __init__(self, d_emb):\n",
    "        super().__init__()\n",
    "        self.layers = nn.Sequential(\n",
    "            nn.Linear(d_emb, d_emb * 4),\n",
    "            GeLU(),\n",
    "            nn.Linear(d_emb * 4, d_emb),\n",
    "        )\n",
    "\n",
    "    def forward(self, x):\n",
    "        return self.layers(x)\n",
    "\n",
    "class TransformerBlock(nn.Module):\n",
    "    def __init__(self, d_emb, n_heads, context_length, dropout=0.1, qkv_bias=False):\n",
    "        super().__init__()\n",
    "        self.mha = MultiHeadAttention(\n",
    "            d_in=d_emb,\n",
    "            d_out=d_emb,\n",
    "            context_length=context_length,\n",
    "            n_heads=n_heads,\n",
    "            dropout=dropout,\n",
    "            qkv_bias=qkv_bias,\n",
    "        )\n",
    "        self.ff = FeedForward(d_emb)\n",
    "        self.norm1 = LayerNorm(d_emb)\n",
    "        self.norm2 = LayerNorm(d_emb)\n",
    "        self.drop_shortcut = nn.Dropout(dropout)\n",
    "\n",
    "    def forward(self, x):\n",
    "        shortcut = x\n",
    "        x = self.norm1(x)  # 1\n",
    "        x = self.mha(x)  # 2\n",
    "        x = self.drop_shortcut(x)  # 3\n",
    "        x = x + shortcut  # 4\n",
    "\n",
    "        shortcut = x\n",
    "        x = self.norm2(x)  # 5\n",
    "        x = self.ff(x)  # 6\n",
    "        x = self.drop_shortcut(x)  # 7\n",
    "        x = x + shortcut  # 8\n",
    "        return x\n"
   ]
  },
  {
   "cell_type": "markdown",
   "metadata": {},
   "source": [
    "Finalizando a arquitetura GPT\n",
    "A arquitetura GPT (Generative Pre-trained Transformer) é baseada em uma pilha de blocos Transformer, especificamente o decodificador. Sua principal característica é ser um modelo autoregressivo, ou seja, gera um token com base nos tokens anteriores, e esse resultado é alimentado como entrada para geração do próximo token. Este processo se repete até que uma condição de parada seja atingida, geralmente a presença de um token especial de fim de sentença (eos).\n",
    "\n",
    "Fazendo uma retrospectiva dos artigos anteriores, já temos todos os blocos necessários para a construção do nosso modelo\n",
    "\n",
    "Camada de Embedding: Converte tokens em representações vetoriais contínuas.\n",
    "Embeddings Posicionais: Adiciona informações de posição aos embeddings de tokens para manter a ordem sequencial.\n",
    "Blocos Transformer: Cada bloco contém mecanismos de atenção mascarada, normalização e redes feedforward.\n",
    "Agora precisamos apenas conectar tudo isso e adicionar duas últimas camadas ao final do último bloco transformer: uma Layer Normalization, que vimos no artigo anterior, e uma camada Linear, semelhante a Feed Foward Network que também vimos anteriormente\n",
    "\n",
    "![Modelo Autorregressivo](../assets/6-AUTORREGRESSIVO.png)\n",
    "\n",
    "A camada LayerNorm, como discutido anteriormente, servirá para normalizar as representações garantindo estabilidade numérica. Já a camada linear tem a função crucial de projetar os vetores da dimensão do embedding (tamanho d_emb) para a dimensão do vocabulário completo, transformando matrizes de formato (Número de Tokens × Tamanho do Embedding) em (Número de Tokens × Tamanho do Vocabulário).\n",
    "\n",
    "Com essa transformação, o modelo gera, para cada posição na sequência de entrada, um vetor contendo valores logit para cada token do vocabulário. Logits são valores numéricos que representam as “pontuações brutas” atribuídas pelo modelo a cada token do vocabulário.\n",
    "\n",
    "Ao aplicarmos a função softmax nos logits, eles se convertem em distribuições de probabilidade sobre todo o vocabulário, indicando a chance de cada token ser o próximo na sequência. Com essa informação conseguimos, por exemplo, prever o próximo token como aquele com maior probabilidade e então concatenar esse novo token à sequência e jogá-la toda novamente para dentro do modelo.\n",
    "\n",
    "Vamos criar, finalmente nosso modelo:"
   ]
  },
  {
   "cell_type": "code",
   "execution_count": 51,
   "metadata": {},
   "outputs": [],
   "source": [
    "class GPTModel(nn.Module):\n",
    "    def __init__(self, \n",
    "        d_vocab,\n",
    "        d_emb,\n",
    "        context_length,\n",
    "        n_layers,\n",
    "        n_heads,\n",
    "        dropout,\n",
    "        qkv_bias        \n",
    "    ):\n",
    "        super().__init__()\n",
    "        self.context_length = context_length\n",
    "\n",
    "        # Embedding de tokens e de posição\n",
    "        self.tok_emb = nn.Embedding(d_vocab, d_emb)\n",
    "        self.pos_emb = nn.Embedding(context_length, d_emb)\n",
    "        self.drop_emb = nn.Dropout(dropout)\n",
    "\n",
    "        # Sequência de Blocos Transformers\n",
    "        self.trf_blocks = nn.Sequential(\n",
    "            *[TransformerBlock(d_emb, n_heads, context_length, dropout, qkv_bias) for _ in range(n_layers)]\n",
    "        )\n",
    "\n",
    "        # Normalização e projeção para o vocabulário\n",
    "        self.final_norm = LayerNorm(d_emb)\n",
    "        self.out_head = nn.Linear(d_emb, d_vocab, bias=False)\n",
    "        \n",
    "        # Inicialização dos pesos\n",
    "        self.apply(self._init_weights)\n",
    "\n",
    "    def _init_weights(self, module):\n",
    "        if isinstance(module, nn.Linear):\n",
    "            torch.nn.init.normal_(module.weight, mean=0.0, std=0.02)\n",
    "            if module.bias is not None:\n",
    "                torch.nn.init.zeros_(module.bias)\n",
    "\n",
    "        elif isinstance(module, nn.Embedding):\n",
    "            torch.nn.init.normal_(module.weight, mean=0.0, std=0.02)\n",
    "\n",
    "    def forward(self, in_idx):\n",
    "        batch_size, seq_len = in_idx.shape\n",
    "\n",
    "        # Embedding de tokens e de posição\n",
    "        tok_embeds = self.tok_emb(in_idx)\n",
    "        pos_embeds = self.pos_emb(torch.arange(seq_len, device=in_idx.device))\n",
    "        x = tok_embeds + pos_embeds\n",
    "        x = self.drop_emb(x)\n",
    "\n",
    "        # Sequência de Blocos Transformers\n",
    "        x = self.trf_blocks(x)\n",
    "\n",
    "        # Normalização e projeção para o vocabulário\n",
    "        x = self.final_norm(x)\n",
    "        logits = self.out_head(x)\n",
    "        return logits\n",
    "    \n",
    "    # Função para gerar texto\n",
    "    def generate(self, input, max=200):\n",
    "        for _ in tqdm(range(max), desc=\"Gerando Tokens...\"):\n",
    "            input = input[:, -self.context_length:] # Garantindo que o seja no máximo do tamanho do contexto. \n",
    "            logits = self(input)\n",
    "            logits = logits[:, -1, :]\n",
    "            prob = F.softmax(logits, dim=-1)\n",
    "            next_token = torch.multinomial(prob, num_samples=1)\n",
    "            input = torch.cat([input, next_token], dim=-1)\n",
    "        return input\n"
   ]
  },
  {
   "cell_type": "markdown",
   "metadata": {},
   "source": [
    "Como podem ver, estamos simplesmente pegando nosso vetor de tokens, transformando-os em embeddings, passando esses embeddings pelos blocos transformers e, ao final, normalizando e projetando esses embeddings na dimensão do vocabulário.\n",
    "\n",
    "Também que estamos aplicando uma função para inicializar os pesos do modelo. Essa inicialização serve para termos uma convergência mais estável e rápida durante o treinamento.\n",
    "\n",
    "Estamos utilizando a inicialização normal (gaussiana) com média 0 e desvio padrão de 0.02 para os pesos lineares e de embedding, ou seja, os pesos iniciais são amostrados com essa distribuição. Os vieses (quando presentes) inicializamos com zeros.\n",
    "\n",
    "Essas escolhas de inicialização baseiam-se em práticas padrão que se mostraram eficazes em modelos transformers. Como ocorre com muitos aspectos na área de Deep Learning, não sabemos exatamente o porquê funciona — temos uma noção, mas não a certeza — e por isso continuamos aplicando.\n",
    "\n",
    "Agora vamos testar nosso modelo. Primeiro, criaremos duas frases de exemplo e converteremos essas frases em vetores de tokens usando nosso tokenizador, que foi desenvolvido no segundo artigo desta série."
   ]
  },
  {
   "cell_type": "code",
   "execution_count": null,
   "metadata": {},
   "outputs": [
    {
     "name": "stdout",
     "output_type": "stream",
     "text": [
      "Frase 1 [3188, 4047, 2362, 341, 4040, 1927, 824, 4091, 3]\n",
      "Frase 2 [346, 444, 341, 2390, 1429, 495, 4085, 4068, 3]\n"
     ]
    }
   ],
   "source": [
    "frase_1 = \"Olá Mundo, tudo bem?<|eos|>\"\n",
    "frase_2 = \"Criando meu primeiro LLM<|eos|>\"\n",
    "\n",
    "tk = spm.SentencePieceProcessor(\n",
    "    model_file=\"../models/gigaverbo_tk.model\"\n",
    ")  # Instanciando o tokenizador treinado\n",
    "\n",
    "frase_1_encode = tk.encode(frase_1)\n",
    "frase_2_encode = tk.encode(frase_2)\n",
    "\n",
    "batch = torch.tensor([frase_1_encode, frase_2_encode])\n",
    "\n",
    "print(\"Frase 1\", frase_1_encode)\n",
    "print(\"Frase 2\", frase_2_encode)"
   ]
  },
  {
   "cell_type": "markdown",
   "metadata": {},
   "source": [
    "Agrupamos as duas frases em um batch (conjunto) e passaremos ele como entrada pro nosso modelo. Vamos criar um modelo usando as configurações do GPT-2 small"
   ]
  },
  {
   "cell_type": "code",
   "execution_count": null,
   "metadata": {},
   "outputs": [
    {
     "name": "stdout",
     "output_type": "stream",
     "text": [
      "Input batch: torch.Size([2, 9])\n",
      "Output shape:  torch.Size([2, 9, 4096])\n",
      "Logits (Último Token, Primeira frase):  tensor([ 0.7082,  0.7826, -0.1804,  ...,  1.1423,  0.1249,  0.4783],\n",
      "       grad_fn=<SliceBackward0>)\n"
     ]
    }
   ],
   "source": [
    "torch.manual_seed(123)\n",
    "model = GPTModel(\n",
    "    d_vocab=tk.vocab_size(),\n",
    "    d_emb=768,\n",
    "    context_length=1024,\n",
    "    n_layers=12,\n",
    "    n_heads=12,\n",
    "    dropout=0.1,\n",
    "    qkv_bias=False,\n",
    ")\n",
    "\n",
    "out = model(batch)\n",
    "print(\"Input batch:\", batch.shape)\n",
    "print(\"Output shape: \", out.shape)\n",
    "print(\"Logits (Último Token, Primeira frase): \", out[0, -1, :])"
   ]
  },
  {
   "cell_type": "markdown",
   "metadata": {},
   "source": [
    "Como entrada (input batch) temos nossas 2 frases, ambas com o comprimento de 9 tokens (o equivalente a [2, 9, 1]). Ao passar pelo modelo, vemos que a saída é um tensor ainda com 2 frases de 9 tokens, porém agora a última dimensão tem tamanho 4096, que corresponde ao tamanho do nosso vocabulário.\n",
    "\n",
    "Para prevermos a próxima palavra, sempre pegaremos o último token da frase (já que ele está prevendo sempre o próximo token) e, com base nos logits, escolhemos qual seria o token mais provável dentre as 4096 opções que nosso vocabulário oferece."
   ]
  },
  {
   "cell_type": "code",
   "execution_count": null,
   "metadata": {},
   "outputs": [
    {
     "name": "stdout",
     "output_type": "stream",
     "text": [
      "Top 5 IDs tokens mais prováveis:  tensor([ 114, 2943, 3100, 1369, 3151])\n",
      "Token (114): n\n",
      "Token (2943): quí\n",
      "Token (3100): Aqui\n",
      "Token (1369): animais\n",
      "Token (3151): istir\n"
     ]
    }
   ],
   "source": [
    "top5 = torch.topk(out[0, -1, :], k=5).indices\n",
    "print(\"Top 5 IDs tokens mais prováveis: \", top5)\n",
    "for i in top5:\n",
    "    print(f\"Token ({i.item()}): {tk.decode_ids([i.item()])}\")"
   ]
  },
  {
   "cell_type": "markdown",
   "metadata": {},
   "source": [
    "Analisando a primeira frase e o último token, podemos identificar os maiores logits e definir uma regra de seleção, como escolher o token com o maior valor. No exemplo acima, listamos os 5 tokens com os maiores logits, obtivemos seus IDs (identificando suas posições no vetor) e verificamos no vocabulário quais palavras eles representam.\n",
    "\n",
    "É importante destacar que poderíamos aplicar a função `softmax` nos logits para obter as probabilidades associadas a cada token, convertendo os valores brutos em uma distribuição de probabilidade normalizada. No entanto, ao buscarmos apenas os tokens com os maiores valores, como fizemos com a função `torch.topk()`, não precisamos da softmax. Isso ocorre porque a função softmax preserva a ordem dos valores—o maior logit continuará correspondendo à maior probabilidade—portanto, para simplesmente identificar os tokens mais prováveis, podemos trabalhar diretamente com os logits.\n",
    "\n",
    "Nesse nosso exemplo, o token com maior logit é o 114, que representa a letra \"n\". Portanto, nosso modelo está prevendo que para a sequência `Olá Mundo, tudo bem?<|eos|>` o próximo token seria `n`.\n",
    "\n",
    "Obviamente não faz sentido, mas vale lembrarmos que não treinamos ainda o modelo — ele está com os pesos aleatórios e, portanto, está funcionando de maneira totalmente estocástica. Ou seja, prever com ele ou fazendo uma jogada de moeda pra cima, dá no mesmo.\n",
    "\n",
    "Pronto, temos nosso modelo funcional, basta treina-lo para que ele comece a se comportar como um LLM de verdade.  Vamos verificar com quantos parâmetros nosso modelo ficou"
   ]
  },
  {
   "cell_type": "code",
   "execution_count": null,
   "metadata": {},
   "outputs": [
    {
     "name": "stdout",
     "output_type": "stream",
     "text": [
      "Número de Parâmetros: 92,106,240\n",
      "Número de Parâmetros GPT-2 Small: 163,009,536\n"
     ]
    }
   ],
   "source": [
    "model_gpt2 = GPTModel(\n",
    "    d_vocab=50257, # Nosso vocabulário é muito menor que o do GPT-2\n",
    "    d_emb=768,\n",
    "    context_length=1024,\n",
    "    n_layers=12,\n",
    "    n_heads=12,\n",
    "    dropout=0.1,\n",
    "    qkv_bias=False,\n",
    ")\n",
    "\n",
    "total_params = sum(p.numel() for p in model.parameters())\n",
    "print(f\"Número de Parâmetros: {total_params:,}\")\n",
    "\n",
    "total_params = sum(p.numel() for p in model_gpt2.parameters())\n",
    "print(f\"Número de Parâmetros GPT-2 Small: {total_params:,}\")"
   ]
  },
  {
   "cell_type": "markdown",
   "metadata": {},
   "source": [
    "Vemos que nosso modelo ficou com \"apenas\" 92 milhões de parâmetros. Apesar da arquitetura e configurações serem praticamente as mesmas do GPT-2 Small, temos um vocabulário mais de 10x menor, o que resulta nessa diferença significativa.\n",
    "\n",
    "Leitores mais curiosos notarão que o GPT-2 em sua versão Small tem cerca de 124 milhões de parâmetros, porém a nossa “replica” aparece com 163M. Por que essa diferença?\n",
    "\n",
    "## Weight Tying\n",
    "\n",
    "Uma técnica usada na construção de LLMs é o conceito de **weight tying** (compartilhamento de pesos). Esta prática consiste em compartilhar os mesmos pesos entre a camada de embedding de entrada e a camada linear de saída do modelo, que projeta os embeddings de volta em tokens.\n",
    "\n",
    "Em nossa replica do GPT, isso significaria que os pesos da camada `tok_emb` (responsável por converter IDs de tokens em embeddings) seriam os mesmos utilizados na camada `out_head` (que projeta os embeddings de volta para o espaço do vocabulário)."
   ]
  },
  {
   "cell_type": "code",
   "execution_count": null,
   "metadata": {},
   "outputs": [
    {
     "name": "stdout",
     "output_type": "stream",
     "text": [
      "Camada Token -> Embedding (tok_emb): torch.Size([4096, 768])\n",
      "Camada Embedding -> Token (out_head): torch.Size([4096, 768])\n"
     ]
    }
   ],
   "source": [
    "print(\"Camada Token -> Embedding (tok_emb):\", model.tok_emb.weight.shape)\n",
    "print(\"Camada Embedding -> Token (out_head):\", model.out_head.weight.shape)"
   ]
  },
  {
   "cell_type": "markdown",
   "metadata": {},
   "source": [
    "O weight tying oferece algumas vantagens:\n",
    "\n",
    "- **Redução significativa de parâmetros:** Para um vocabulário típico de 50.000 tokens e dimensão de embedding de 768, economizamos cerca de 38 milhões de parâmetros (50.000 × 768).\n",
    "- **Melhoria na generalização:** O compartilhamento de pesos funciona como uma forma de regularização, forçando o modelo a aprender representações mais robustas e coerentes.\n",
    "- **Aceleração da convergência:** Modelos com weight tying tendem a convergir mais rapidamente durante o treinamento.\n",
    "\n",
    "A intuição por trás dessa técnica é que existe uma relação simétrica entre a tarefa de converter tokens em representações semânticas (embedding) e a tarefa inversa de projetar representações semânticas de volta para probabilidades sobre o vocabulário (classificação).\n",
    "\n",
    "Estudos empíricos, como o apresentado no artigo [*Using the Output Embedding to Improve Language Models*](https://arxiv.org/abs/1608.05859) (Press & Wolf, 2016), demonstraram que esta técnica não apenas reduz a quantidade de parâmetros, mas também melhora o desempenho do modelo em várias tarefas de linguagem.\n",
    "\n",
    "Para implementar o weight tying em nosso modelo GPT, basta adicionar uma linha de código após a inicialização das camadas no método `__init__`:"
   ]
  },
  {
   "cell_type": "code",
   "execution_count": 57,
   "metadata": {},
   "outputs": [],
   "source": [
    "class GPTModel(nn.Module):\n",
    "    def __init__(\n",
    "        self, d_vocab, d_emb, context_length, n_layers, n_heads, dropout, qkv_bias\n",
    "    ):\n",
    "        super().__init__()\n",
    "        self.context_length = context_length\n",
    "\n",
    "        # Embedding de tokens e de posição\n",
    "        self.tok_emb = nn.Embedding(d_vocab, d_emb)\n",
    "        self.pos_emb = nn.Embedding(context_length, d_emb)\n",
    "        self.drop_emb = nn.Dropout(dropout)\n",
    "\n",
    "        # Sequência de Blocos Transformers\n",
    "        self.trf_blocks = nn.Sequential(\n",
    "            *[\n",
    "                TransformerBlock(d_emb, n_heads, context_length, dropout, qkv_bias)\n",
    "                for _ in range(n_layers)\n",
    "            ]\n",
    "        )\n",
    "\n",
    "        # Normalização e projeção para o vocabulário\n",
    "        self.final_norm = LayerNorm(d_emb)\n",
    "        self.out_head = nn.Linear(d_emb, d_vocab, bias=False)\n",
    "\n",
    "        # Inicialização dos pesos\n",
    "        self.apply(self._init_weights)\n",
    "\n",
    "        # Weight tying\n",
    "        self.out_head.weight = self.tok_emb.weight\n",
    "\n",
    "\n",
    "    def _init_weights(self, module):\n",
    "        if isinstance(module, nn.Linear):\n",
    "            torch.nn.init.normal_(module.weight, mean=0.0, std=0.02)\n",
    "            if module.bias is not None:\n",
    "                torch.nn.init.zeros_(module.bias)\n",
    "\n",
    "        elif isinstance(module, nn.Embedding):\n",
    "            torch.nn.init.normal_(module.weight, mean=0.0, std=0.02)\n",
    "\n",
    "    def forward(self, in_idx):\n",
    "        batch_size, seq_len = in_idx.shape\n",
    "\n",
    "        # Embedding de tokens e de posição\n",
    "        tok_embeds = self.tok_emb(in_idx)\n",
    "        pos_embeds = self.pos_emb(torch.arange(seq_len, device=in_idx.device))\n",
    "        x = tok_embeds + pos_embeds\n",
    "        x = self.drop_emb(x)\n",
    "\n",
    "        # Sequência de Blocos Transformers\n",
    "        x = self.trf_blocks(x)\n",
    "\n",
    "        # Normalização e projeção para o vocabulário\n",
    "        x = self.final_norm(x)\n",
    "        logits = self.out_head(x)\n",
    "        return logits\n",
    "\n",
    "    # Função para gerar texto\n",
    "    def generate(self, input, max=200):\n",
    "        for _ in tqdm(range(max), desc=\"Gerando Tokens...\"):\n",
    "            input = input[\n",
    "                :, -self.context_length :\n",
    "            ]  # Garantindo que o seja no máximo do tamanho do contexto.\n",
    "            logits = self(input)\n",
    "            logits = logits[:, -1, :]\n",
    "            prob = F.softmax(logits, dim=-1)\n",
    "            next_token = torch.multinomial(prob, num_samples=1)\n",
    "            input = torch.cat([input, next_token], dim=-1)\n",
    "        return input"
   ]
  },
  {
   "cell_type": "markdown",
   "metadata": {},
   "source": [
    "Esta simples modificação tornará nosso modelo mais eficiente tanto em termos de memória quanto de desempenho. Vamos verificar os parâmetros novamente"
   ]
  },
  {
   "cell_type": "code",
   "execution_count": null,
   "metadata": {},
   "outputs": [
    {
     "name": "stdout",
     "output_type": "stream",
     "text": [
      "Número de Parâmetros: 88,960,512\n",
      "Número de Parâmetros GPT-2 Small: 124,412,160\n"
     ]
    }
   ],
   "source": [
    "model = GPTModel(\n",
    "    d_vocab=tk.vocab_size(),\n",
    "    d_emb=768,\n",
    "    context_length=1024,\n",
    "    n_layers=12,\n",
    "    n_heads=12,\n",
    "    dropout=0.1,\n",
    "    qkv_bias=False,\n",
    ")\n",
    "\n",
    "model_gpt2 = GPTModel(\n",
    "    d_vocab=50257,  # Nosso vocabulário é muito menor que o do GPT-2\n",
    "    d_emb=768,\n",
    "    context_length=1024,\n",
    "    n_layers=12,\n",
    "    n_heads=12,\n",
    "    dropout=0.1,\n",
    "    qkv_bias=False,\n",
    ")\n",
    "\n",
    "total_params_model = sum(p.numel() for p in model.parameters())\n",
    "print(f\"Número de Parâmetros: {total_params_model:,}\")\n",
    "\n",
    "total_params_model_gpt2 = sum(p.numel() for p in model_gpt2.parameters())\n",
    "print(f\"Número de Parâmetros GPT-2 Small: {total_params_model_gpt2:,}\")"
   ]
  },
  {
   "cell_type": "markdown",
   "metadata": {},
   "source": [
    "Enquanto nosso modelo “perdeu” cerca de 3M de parâmetros, a nossa réplica do GPT-2 chegou aos famosos 124M. Com isso conseguimos calcular o tamanho que esses modelos ocupariam na memória."
   ]
  },
  {
   "cell_type": "code",
   "execution_count": null,
   "metadata": {},
   "outputs": [
    {
     "name": "stdout",
     "output_type": "stream",
     "text": [
      "Tamanho total do modelo: 339.36 MB\n",
      "Tamanho total do modelo GPT-2 Small: 474.59 MB\n"
     ]
    }
   ],
   "source": [
    "total_size_bytes = total_params_model * 4\n",
    "total_size_mb = total_size_bytes / (1024 * 1024)\n",
    "print(f\"Tamanho total do modelo: {total_size_mb:.2f} MB\")\n",
    "\n",
    "total_size_bytes = total_params_model_gpt2* 4\n",
    "total_size_mb = total_size_bytes / (1024 * 1024)\n",
    "print(f\"Tamanho total do modelo GPT-2 Small: {total_size_mb:.2f} MB\")"
   ]
  },
  {
   "cell_type": "markdown",
   "metadata": {},
   "source": [
    "Para calcular o tamanho, multiplicamos o número de parâmetros pelo espaço necessário para armazenar cada um em ponto flutuante (4 bytes para precisão simples). Por exemplo, usando precisão simples (float32), nosso modelo de ~89M de parâmetros ocuparia aproximadamente 339 MB apenas para os pesos, enquanto o GPT-2 Small necessitaria de cerca de 474 MB.\n",
    "\n",
    "## Geração de Texto com o nosso Modelo\n",
    "\n",
    "Antes de partirmos para o pré-treinamento, é interessante entender como utilizaremos o output do nosso modelo para gerar texto. O processo é autoregressivo: alimentamos o modelo com as previsões anteriores até atingirmos o comprimento desejado ou um token de parada.\n",
    "\n",
    "Leitores mais atentos notaram que adicionamos uma função de geração no código do modelo. Vamos entendê-la:\n",
    "\n",
    "```python\n",
    "    def generate(self, input, max=200):\n",
    "        for _ in tqdm(range(max), desc=\"Gerando Tokens...\"):\n",
    "            input = input[:, -self.context_length:] # (1) Garantindo que o seja no máximo do tamanho do contexto. \n",
    "            logits = self(input) # (2)\n",
    "            logits = logits[:, -1, :] # (3)\n",
    "            prob = F.softmax(logits, dim=-1) # (4)\n",
    "            next_token = torch.multinomial(prob, num_samples=1) # (5)\n",
    "            input = torch.cat([input, next_token], dim=-1) # (6)\n",
    "        return input\n",
    "```\n",
    "\n",
    "A função recebe uma sequência de tokens (input) e repete uma série de passos para gerar uma quantidade predeterminada de tokens (max).\n",
    "\n",
    "Em cada iteração, primeiro truncamos o input (1) para garantir que não exceda o tamanho máximo do contexto (definimos em nosso modelo 1024 tokens). Em seguida, passamos o input pelo modelo (2) para obter os logits e selecionamos apenas os logits do último token da sequência (3).\n",
    "\n",
    "Aplicamos a função softmax para converter os logits em probabilidades (4) e, usando a função multinomial, amostramos o próximo token (5).\n",
    "\n",
    "Por fim, concatenamos o token amostrado à sequência de input (6), que será usado na próxima iteração (1).\n",
    "\n",
    "Vamos criar uma função de apoio para auxiliar a geração de texto"
   ]
  },
  {
   "cell_type": "code",
   "execution_count": 60,
   "metadata": {},
   "outputs": [],
   "source": [
    "@torch.no_grad()  # (1)\n",
    "def generate_sample(model, input_text, max_token=200):\n",
    "    input_tokens = torch.tensor(tk.encode(input_text), dtype=torch.long)  # (2)\n",
    "    input_tokens = input_tokens.unsqueeze(0)  # (3)\n",
    "\n",
    "    output = model.generate(input_tokens, max_token)  # (4)\n",
    "    output_text = tk.decode(output.squeeze().tolist())  # (5)\n",
    "\n",
    "    return output_text  # (6)"
   ]
  },
  {
   "cell_type": "markdown",
   "metadata": {},
   "source": [
    "Essa função recebe uma string de texto e a quantidade máxima de tokens como entrada. Ela prepara o texto para ser enviado ao modelo e, posteriormente, converte a saída do modelo de volta para texto.\n",
    "\n",
    "O decorador @torch.no_grad (1) desativa o cálculo de gradientes durante a inferência, pois estes são necessários apenas durante o treinamento.\n",
    "\n",
    "Em seguida, convertemos o texto de entrada em tokens usando nosso tokenizador (2) e adicionamos uma dimensão extra (3), pois precisamos passar o tensor no formato (batch x tokens). Depois, chamamos a função generate do modelo (4) que vimos anteriormente.\n",
    "\n",
    "O output do modelo é então convertido de volta em texto usando o decode do tokenizador (5) e, por fim, retornamos o texto gerado (6)."
   ]
  },
  {
   "cell_type": "code",
   "execution_count": null,
   "metadata": {},
   "outputs": [
    {
     "name": "stderr",
     "output_type": "stream",
     "text": [
      "Gerando Tokens...: 100%|██████████| 15/15 [00:00<00:00, 19.20it/s]\n"
     ]
    },
    {
     "name": "stdout",
     "output_type": "stream",
     "text": [
      "Olá Mundo, tudo bem?ru escolh` luta andocaelo im segui Au Exemp duas Ch virtual altura\n"
     ]
    },
    {
     "name": "stderr",
     "output_type": "stream",
     "text": [
      "Gerando Tokens...: 100%|██████████| 15/15 [00:00<00:00, 19.79it/s]"
     ]
    },
    {
     "name": "stdout",
     "output_type": "stream",
     "text": [
      "Olá Mundo, tudo bem?ign num clientesvidaaráliseiaíb Os Pla eficiente algumasistemasicul qu\n"
     ]
    },
    {
     "name": "stderr",
     "output_type": "stream",
     "text": [
      "\n"
     ]
    }
   ],
   "source": [
    "texto_gerado = generate_sample(model, \"Olá Mundo, tudo bem?\", 15)\n",
    "print(texto_gerado)\n",
    "\n",
    "texto_gerado = generate_sample(model, \"Olá Mundo, tudo bem?\", 15)\n",
    "print(texto_gerado)"
   ]
  },
  {
   "cell_type": "markdown",
   "metadata": {},
   "source": [
    "Podemos ver que está funcionando. O resultado ainda é sem sentido mas podemos ver que mesmo passando a mesma frase de entrada obtemos resultados diferentes. \n",
    "\n",
    "Diferente do **método *greedy***, que usamos anteriormente, onde simplesmente selecionamos o token com o maior logit (e, portanto, maior probabilidade), a amostragem probabilística oferece uma abordagem mais rica e flexível. Em vez de uma escolha determinística (maior logit), usamos uma função multinomial para sortear o próximo token, com base em sua probabilidade.\n",
    "\n",
    "A função `torch.multinomial` é a chave para essa amostragem baseada em probabilidades. Imagine um sorteio de palavras do vocabulário, onde cada palavra tem um peso proporcional à sua probabilidade. Palavras com maior probabilidade têm mais chances de serem sorteadas, mas palavras com menor probabilidade ainda têm uma chance de serem escolhidas. Este processo introduz uma aleatoriedade controlada na geração, permitindo que o modelo explore diferentes caminhos e evite respostas repetitivas.\n",
    "\n",
    "É por isso que, mesmo fornecendo o mesmo texto de entrada, obtemos resultados diferentes, diferentemente do que aconteceria se sempre escolhêssemos o token com maior logit. Como o processo é autoregressivo, essas pequenas variações se acumulam durante a geração, resultando em frases completamente distintas.\n",
    "\n",
    "Mas como podemos controlar essa aleatoriedade e direcionar a geração para resultados mais \"criativos\" quando necessário e mais conservadores em outros momentos? Para isso, existem algumas técnicas de amostragem:\n",
    "\n",
    "### **Temperature Scaling (T)**\n",
    "\n",
    "O parâmetro **Temperature (T)** é um hiperparâmetro crucial que ajusta a distribuição de probabilidades dos tokens. Em essência, ele \"achata\" ou \"aguça\" a distribuição de probabilidades, influenciando a diversidade das saídas.\n",
    "\n",
    "Para isso, basta dividirmos os logits por (T) antes de aplicar a função softmax. Essa simples divisão traz um comportamento interessante:\n",
    "\n",
    "- **(T > 1): Mais Criatividade -** Uma temperatura maior que 1 torna a distribuição mais uniforme, dando mais chances para tokens menos prováveis. Isso resulta em texto mais diverso, criativo. Use (T > 1) para tarefas que exigem um toque artístico, como:\n",
    "- **(T < 1): Mais Precisão -** Uma temperatura menor que 1 concentra a distribuição nos tokens mais prováveis, tornando a geração mais conservadora e precisa.\n",
    "- **(T = 1): Equilíbrio -** Uma temperatura igual a 1 mantém a distribuição original sem modificação, oferecendo um ponto de partida neutro."
   ]
  },
  {
   "cell_type": "code",
   "execution_count": 62,
   "metadata": {},
   "outputs": [
    {
     "data": {
      "image/png": "[encoded data removed]",
      "text/plain": [
       "<Figure size 1800x600 with 3 Axes>"
      ]
     },
     "metadata": {},
     "output_type": "display_data"
    }
   ],
   "source": [
    "# Criando uma distribuição aleatória de 15 tokens\n",
    "np.random.seed(42)\n",
    "random_probs = np.random.dirichlet(\n",
    "    np.ones(15) * 0.5\n",
    ")\n",
    "probs = torch.tensor(random_probs, dtype=torch.float32)\n",
    "num_tokens = len(probs)\n",
    "\n",
    "# Temperaturas para os gráficos de barras\n",
    "temp_low = 0.3  # Temperatura baixa\n",
    "temp_high = 2.0  # Temperatura alta\n",
    "\n",
    "# Calculando as probabilidades com temperaturas ajustadas\n",
    "logits = torch.log(probs)  # Convertendo probabilidades de volta para logits\n",
    "probs_low = F.softmax(logits / temp_low, dim=0).numpy()\n",
    "probs_high = F.softmax(logits / temp_high, dim=0).numpy()\n",
    "\n",
    "# Preparando o gráfico\n",
    "fig, axes = plt.subplots(1, 3, figsize=(18, 6), sharey=True)\n",
    "\n",
    "# Gráfico de barras para temperatura baixa\n",
    "sns.barplot(\n",
    "    x=np.arange(num_tokens), \n",
    "    y=probs_low, \n",
    "    ax=axes[0], \n",
    "    hue=np.arange(num_tokens), \n",
    "    legend=False, \n",
    "    palette=\"Blues_d\"\n",
    ")\n",
    "axes[0].set_title(f\"Temperatura Baixa (T = {temp_low})\")\n",
    "axes[0].set_xlabel(\"Índice do Token\")\n",
    "axes[0].set_ylabel(\"Probabilidade\")\n",
    "axes[0].set_xticks(np.arange(num_tokens))\n",
    "axes[0].set_ylim(\n",
    "    0, max(np.max(probs_low), np.max(probs.numpy()), np.max(probs_high)) * 1.1\n",
    ")\n",
    "\n",
    "# Gráfico da distribuição original\n",
    "sns.barplot(\n",
    "    x=np.arange(num_tokens), \n",
    "    y=probs.numpy(), \n",
    "    ax=axes[1], \n",
    "    hue=np.arange(num_tokens), \n",
    "    legend=False, \n",
    "    palette=\"Reds_d\"\n",
    ")\n",
    "axes[1].set_title(\"Distribuição Original (T = 1.0)\")\n",
    "axes[1].set_xlabel(\"Índice do Token\")\n",
    "axes[1].set_xticks(np.arange(num_tokens))\n",
    "\n",
    "# Gráfico de barras para temperatura alta\n",
    "sns.barplot(\n",
    "    x=np.arange(num_tokens),\n",
    "    y=probs_high,\n",
    "    ax=axes[2],\n",
    "    hue=np.arange(num_tokens),\n",
    "    legend=False,\n",
    "    palette=\"Greens_d\",\n",
    ")\n",
    "axes[2].set_title(f\"Temperatura Alta (T = {temp_high})\")\n",
    "axes[2].set_xlabel(\"Índice do Token\")\n",
    "axes[2].set_xticks(np.arange(num_tokens))\n",
    "\n",
    "plt.tight_layout()\n"
   ]
  },
  {
   "cell_type": "markdown",
   "metadata": {},
   "source": [
    "Podemos perceber pelos gráficos que temperaturas mais baixas modificam a distribuição de modo a realçar os picos da distribuição original, enquanto temperaturas altas tendem a equalizar as probabilidades.\n",
    "\n",
    "### **Top-k Sampling**\n",
    "\n",
    "A técnica **Top-k Sampling** restringe a amostragem apenas aos (k) tokens mais prováveis, ajudando a evitar escolhas improváveis que poderiam prejudicar a coerência do texto. Pense nisso como um filtro que remove as opções mais \"malucas\" do sorteio.\n",
    "\n",
    "O valor de (k) é crucial. Um valor **muito baixo pode tornar o texto repetitivo** e previsível, enquanto um valor **muito alto pode não filtrar** suficientemente as opções indesejadas."
   ]
  },
  {
   "cell_type": "code",
   "execution_count": 63,
   "metadata": {},
   "outputs": [
    {
     "data": {
      "image/png": "[encoded data removed]",
      "text/plain": [
       "<Figure size 1400x600 with 2 Axes>"
      ]
     },
     "metadata": {},
     "output_type": "display_data"
    }
   ],
   "source": [
    "# Criando uma distribuição aleatória de 15 tokens\n",
    "np.random.seed(42)\n",
    "random_probs = np.random.dirichlet(\n",
    "    np.ones(15) * 0.5\n",
    ")  # Distribuição Dirichlet para gerar probabilidades aleatórias\n",
    "probs = torch.tensor(random_probs, dtype=torch.float32)\n",
    "num_tokens = len(probs)\n",
    "\n",
    "# Definindo o valor de k para o Top-K Sampling\n",
    "k = 5\n",
    "\n",
    "# Aplicando Top-K Sampling\n",
    "values, indices = torch.topk(probs, k=k)\n",
    "top_k_probs = torch.zeros_like(probs)\n",
    "top_k_probs[indices] = values\n",
    "\n",
    "# Renormalizando as probabilidades após o Top-K\n",
    "top_k_probs = top_k_probs / top_k_probs.sum()\n",
    "\n",
    "# Preparando o gráfico\n",
    "fig, axes = plt.subplots(1, 2, figsize=(14, 6), sharey=True)\n",
    "\n",
    "# Criando uma paleta de cores para destacar os tokens selecionados\n",
    "colors_original = [\"#3498db\" if i in indices else \"#e74c3c\" for i in range(num_tokens)]\n",
    "colors_topk = [\"#3498db\" if i in indices else \"#e74c3c\" for i in range(num_tokens)]\n",
    "\n",
    "# Gráfico da distribuição original\n",
    "sns.barplot(\n",
    "    x=np.arange(num_tokens),\n",
    "    y=probs.numpy(),\n",
    "    ax=axes[0],\n",
    "    hue=np.arange(num_tokens),\n",
    "    legend=False,\n",
    "    palette=colors_original,\n",
    ")\n",
    "axes[0].set_title(\"Distribuição Original (Top 5 probabilidade = Azul)\")\n",
    "axes[0].set_xlabel(\"Índice do Token\")\n",
    "axes[0].set_xticks(np.arange(num_tokens))\n",
    "\n",
    "# Gráfico de barras para Top-K Sampling\n",
    "sns.barplot(\n",
    "    x=np.arange(num_tokens), y=top_k_probs.numpy(), ax=axes[1], hue=np.arange(num_tokens), legend=False, palette=colors_topk\n",
    ")\n",
    "axes[1].set_title(f\"Top-{k} Sampling\")\n",
    "axes[1].set_xlabel(\"Índice do Token\")\n",
    "axes[1].set_ylabel(\"Probabilidade\")\n",
    "axes[1].set_xticks(np.arange(num_tokens))\n",
    "axes[1].set_ylim(\n",
    "    0, max(np.max(probs.numpy()), np.max(top_k_probs.numpy())) * 1.1\n",
    ")\n",
    "\n",
    "plt.tight_layout()\n"
   ]
  },
  {
   "cell_type": "markdown",
   "metadata": {},
   "source": [
    "O gráfico demonstra claramente o efeito da técnica Top-K: ela remove da \"disputa\" todos os tokens que não estão entre os K mais prováveis e reajusta as probabilidades apenas para esses tokens selecionados\n",
    "\n",
    "### **Top-P (Nucleus) Sampling**\n",
    "\n",
    "O **Top-P Sampling**, também conhecido como **Nucleus Sampling**, é uma técnica que, diferentemente do Top-k, não fixa um número arbitrário de tokens. Em vez disso, seleciona o menor conjunto de tokens cuja probabilidade cumulativa excede um limiar (p).\n",
    "\n",
    "Imagine que estamos construindo um \"núcleo\" de tokens: começamos pelos mais prováveis e vamos adicionando outros até que a probabilidade total desse núcleo atinja (p). A amostragem considera apenas os tokens dentro desse núcleo.\n",
    "\n",
    "Quando o modelo está muito confiante em alguns tokens, o núcleo permanece pequeno, favorecendo a precisão. Quando está incerto, o núcleo se expande, permitindo maior diversidade."
   ]
  },
  {
   "cell_type": "code",
   "execution_count": 64,
   "metadata": {},
   "outputs": [
    {
     "data": {
      "image/png": "[encoded data removed]",
      "text/plain": [
       "<Figure size 1400x600 with 2 Axes>"
      ]
     },
     "metadata": {},
     "output_type": "display_data"
    }
   ],
   "source": [
    "# Criando uma distribuição aleatória de 15 tokens\n",
    "np.random.seed(42)\n",
    "random_probs = np.random.dirichlet(\n",
    "    np.ones(15) * 0.5\n",
    ")  # Distribuição Dirichlet para gerar probabilidades aleatórias\n",
    "probs = torch.tensor(random_probs, dtype=torch.float32)\n",
    "num_tokens = len(probs)\n",
    "\n",
    "# Definindo o valor de p para o Top-P (Nucleus) Sampling\n",
    "p = 0.85  # Vamos manter tokens que somam 70% da probabilidade total\n",
    "\n",
    "# Aplicando Top-P Sampling\n",
    "sorted_probs, sorted_indices = torch.sort(probs, descending=True)\n",
    "cumulative_probs = torch.cumsum(sorted_probs, dim=0)\n",
    "sorted_indices_to_remove = cumulative_probs > p\n",
    "\n",
    "nucleus_mask = torch.ones_like(probs, dtype=torch.bool)\n",
    "nucleus_mask[sorted_indices[sorted_indices_to_remove]] = False\n",
    "\n",
    "# Aplicando a máscara para obter as probabilidades após o Top-P\n",
    "top_p_probs = probs.clone()\n",
    "top_p_probs[~nucleus_mask] = 0\n",
    "\n",
    "# Renormalizando as probabilidades após o Top-P\n",
    "top_p_probs = top_p_probs / top_p_probs.sum()\n",
    "\n",
    "# Contando quantos tokens foram mantidos\n",
    "num_tokens_kept = nucleus_mask.sum().item()\n",
    "\n",
    "# Preparando o gráfico\n",
    "fig, axes = plt.subplots(1, 2, figsize=(14, 6), sharey=True)\n",
    "\n",
    "# Criando uma paleta de cores para destacar os tokens selecionados\n",
    "colors_original = [\n",
    "    \"#3498db\" if nucleus_mask[i] else \"#e74c3c\" for i in range(num_tokens)\n",
    "]\n",
    "colors_topp = [\"#3498db\" if nucleus_mask[i] else \"#e74c3c\" for i in range(num_tokens)]\n",
    "\n",
    "# Gráfico da distribuição original\n",
    "sns.barplot(\n",
    "    x=np.arange(num_tokens),\n",
    "    y=probs.numpy(),\n",
    "    ax=axes[0],\n",
    "    hue=np.arange(num_tokens),\n",
    "    legend=False,\n",
    "    palette=colors_original,\n",
    ")\n",
    "axes[0].set_title(\"Distribuição Original\")\n",
    "axes[0].set_xlabel(\"Índice do Token\")\n",
    "axes[0].set_xticks(np.arange(num_tokens))\n",
    "\n",
    "# Adicionando uma linha horizontal para mostrar o \"corte\" do Top-P\n",
    "cumsum_threshold = None\n",
    "for i, cum_prob in enumerate(cumulative_probs):\n",
    "    if cum_prob > p:\n",
    "        cumsum_threshold = i\n",
    "        break\n",
    "\n",
    "if cumsum_threshold is not None:\n",
    "    # Adicionando uma linha no gráfico original para mostrar o limite do Top-P\n",
    "    axes[0].axhline(\n",
    "        y=sorted_probs[cumsum_threshold - 1],\n",
    "        color=\"#f39c12\",\n",
    "        linestyle=\"--\",\n",
    "        linewidth=2,\n",
    "    )\n",
    "    axes[0].text(\n",
    "        num_tokens / 2,\n",
    "        sorted_probs[cumsum_threshold - 1] * 1.05,\n",
    "        f\"Limite do Top-P = ~{p * 100:.0f}%\",\n",
    "        ha=\"center\",\n",
    "        color=\"#f39c12\",\n",
    "        fontweight=\"bold\",\n",
    "    )\n",
    "\n",
    "# Gráfico de barras para Top-P Sampling\n",
    "sns.barplot(\n",
    "    x=np.arange(num_tokens),\n",
    "    y=top_p_probs.numpy(),\n",
    "    ax=axes[1],\n",
    "    hue=np.arange(num_tokens),\n",
    "    legend=False,\n",
    "    palette=colors_topp,\n",
    ")\n",
    "axes[1].set_title(f\"Top-P Sampling (p={p})\")\n",
    "axes[1].set_xlabel(\"Índice do Token\")\n",
    "axes[1].set_ylabel(\"Probabilidade\")\n",
    "axes[1].set_xticks(np.arange(num_tokens))\n",
    "axes[1].set_ylim(\n",
    "    0, max(np.max(probs.numpy()), np.max(top_p_probs.numpy())) * 1.1\n",
    ")\n",
    "\n",
    "plt.tight_layout()"
   ]
  },
  {
   "cell_type": "markdown",
   "metadata": {},
   "source": [
    "No gráfico vemos que os tokens com maior probabilidade são selecionados até atingir a probabilidade cumulativa definida por p (no gráfico é 85%). Ou seja, se somarmos as probabilidades da barras azuis do gráfico da esquerda teremos um valor próximo de 85%.\n",
    "\n",
    "### Ajustando nossa função\n",
    "\n",
    "A beleza dessas técnicas reside em sua capacidade de serem combinadas para obter resultados ainda melhores. Por exemplo, é comum usar Temperature junto com Top-k Sampling ou Top-P Sampling para ter um controle mais fino sobre a aleatoriedade, mantendo a coerência do texto.\n",
    "\n",
    "Ao ajustar cuidadosamente os parâmetros de Temperature, Top-k e Top-P, podemos guiar nossos modelos de linguagem para gerar textos que sejam, ao mesmo tempo, criativos, coerentes e relevantes para a tarefa. \n",
    "\n",
    "Vamos adicionar esses 3 parâmetros em nosso modelo"
   ]
  },
  {
   "cell_type": "code",
   "execution_count": 65,
   "metadata": {},
   "outputs": [],
   "source": [
    "class GPTModel(nn.Module):\n",
    "    def __init__(\n",
    "        self, d_vocab, d_emb, context_length, n_layers, n_heads, dropout, qkv_bias\n",
    "    ):\n",
    "        super().__init__()\n",
    "        self.context_length = context_length\n",
    "\n",
    "        # Embedding de tokens e de posição\n",
    "        self.tok_emb = nn.Embedding(d_vocab, d_emb)\n",
    "        self.pos_emb = nn.Embedding(context_length, d_emb)\n",
    "        self.drop_emb = nn.Dropout(dropout)\n",
    "\n",
    "        # Sequência de Blocos Transformers\n",
    "        self.trf_blocks = nn.Sequential(\n",
    "            *[\n",
    "                TransformerBlock(d_emb, n_heads, context_length, dropout, qkv_bias)\n",
    "                for _ in range(n_layers)\n",
    "            ]\n",
    "        )\n",
    "\n",
    "        # Normalização e projeção para o vocabulário\n",
    "        self.final_norm = LayerNorm(d_emb)\n",
    "        self.out_head = nn.Linear(d_emb, d_vocab, bias=False)\n",
    "\n",
    "        # Inicialização dos pesos\n",
    "        self.apply(self._init_weights)\n",
    "\n",
    "        # Weight tying\n",
    "        self.out_head.weight = self.tok_emb.weight\n",
    "\n",
    "\n",
    "    def _init_weights(self, module):\n",
    "        if isinstance(module, nn.Linear):\n",
    "            torch.nn.init.normal_(module.weight, mean=0.0, std=0.02)\n",
    "            if module.bias is not None:\n",
    "                torch.nn.init.zeros_(module.bias)\n",
    "\n",
    "        elif isinstance(module, nn.Embedding):\n",
    "            torch.nn.init.normal_(module.weight, mean=0.0, std=0.02)\n",
    "\n",
    "    def forward(self, in_idx):\n",
    "        batch_size, seq_len = in_idx.shape\n",
    "\n",
    "        # Embedding de tokens e de posição\n",
    "        tok_embeds = self.tok_emb(in_idx)\n",
    "        pos_embeds = self.pos_emb(torch.arange(seq_len, device=in_idx.device))\n",
    "        x = tok_embeds + pos_embeds\n",
    "        x = self.drop_emb(x)\n",
    "\n",
    "        # Sequência de Blocos Transformers\n",
    "        x = self.trf_blocks(x)\n",
    "\n",
    "        # Normalização e projeção para o vocabulário\n",
    "        x = self.final_norm(x)\n",
    "        logits = self.out_head(x)\n",
    "        return logits\n",
    "\n",
    "    # Função para gerar texto\n",
    "    def generate(self, input, max=200, temperature=1.0, top_k=0, top_p=1.0):\n",
    "        for _ in tqdm(range(max), desc=\"Gerando Tokens...\"):\n",
    "            input = input[\n",
    "                :, -self.context_length :\n",
    "            ]  # Garantindo que o seja no máximo do tamanho do contexto.\n",
    "            logits = self(input)\n",
    "            logits = logits[:, -1, :]\n",
    "            \n",
    "            # Aplicando temperature\n",
    "            logits = logits / temperature\n",
    "            \n",
    "            # Aplicando top_k se especificado\n",
    "            if top_k > 0:\n",
    "                top_k_values, top_k_indices = torch.topk(logits, min(top_k, logits.size(-1)))\n",
    "                logits = torch.full_like(logits, float('-inf'))\n",
    "                logits.scatter_(1, top_k_indices, top_k_values)\n",
    "            \n",
    "            # Aplicando top_p (nucleus sampling) se menor que 1.0\n",
    "            if top_p < 1.0:\n",
    "                sorted_logits, sorted_indices = torch.sort(logits, descending=True)\n",
    "                cumulative_probs = torch.cumsum(F.softmax(sorted_logits, dim=-1), dim=-1)\n",
    "                \n",
    "                # Remove tokens com probabilidade cumulativa acima do threshold\n",
    "                sorted_indices_to_remove = cumulative_probs > top_p\n",
    "                # Shift para manter pelo menos um token\n",
    "                sorted_indices_to_remove[..., 1:] = sorted_indices_to_remove[..., :-1].clone()\n",
    "                sorted_indices_to_remove[..., 0] = 0\n",
    "                \n",
    "                indices_to_remove = sorted_indices[sorted_indices_to_remove]\n",
    "                logits[..., indices_to_remove] = float('-inf')\n",
    "            \n",
    "            # Convertendo para probabilidades e amostrando\n",
    "            prob = F.softmax(logits, dim=-1)\n",
    "            next_token = torch.multinomial(prob, num_samples=1)\n",
    "            input = torch.cat([input, next_token], dim=-1)\n",
    "        return input"
   ]
  },
  {
   "cell_type": "markdown",
   "metadata": {},
   "source": [
    "A função acima foi modificada para incorporar as técnicas que estudamos anteriormente. Embora o código pareça complexo, sua essência realiza exatamente o que vimos:\n",
    "\n",
    "- Temperature divide os logits pelo valor do parâmetro Temperature\n",
    "- Top K seleciona os K maiores logits e define o restante como `-inf`, fazendo com que a Softmax resulte em zero para esses valores (seguindo o mesmo princípio usado para zerar a probabilidade dos tokens futuros no mecanismo de atenção)\n",
    "- Top P converte os logits em probabilidades usando Softmax, seleciona os maiores tokens até que sua soma atinja o valor p, e atribui `-inf` aos logits restantes\n",
    "\n",
    "Após essas modificações nos logits, aplicamos a softmax para gerar a distribuição de probabilidade e selecionamos o próximo token usando a função multinomial"
   ]
  },
  {
   "cell_type": "code",
   "execution_count": 66,
   "metadata": {},
   "outputs": [],
   "source": [
    "model = GPTModel(\n",
    "    d_vocab=tk.vocab_size(),\n",
    "    d_emb=768,\n",
    "    context_length=1024,\n",
    "    n_layers=12,\n",
    "    n_heads=12,\n",
    "    dropout=0.1,\n",
    "    qkv_bias=False,\n",
    ")\n",
    "\n",
    "@torch.no_grad()\n",
    "def generate_sample(model, input_text, max_token=200, temperature=1, top_k=0, top_p=1):\n",
    "    input_tokens = torch.tensor(tk.encode(input_text), dtype=torch.long)\n",
    "    input_tokens = input_tokens.unsqueeze(0)\n",
    "\n",
    "    output = model.generate(input_tokens, max_token, temperature, top_k, top_p)\n",
    "    output_text = tk.decode(output.squeeze().tolist())\n",
    "\n",
    "    return output_text"
   ]
  },
  {
   "cell_type": "code",
   "execution_count": null,
   "metadata": {},
   "outputs": [
    {
     "name": "stderr",
     "output_type": "stream",
     "text": [
      "Gerando Tokens...: 100%|██████████| 15/15 [00:00<00:00, 23.47it/s]"
     ]
    },
    {
     "name": "stdout",
     "output_type": "stream",
     "text": [
      "Olá Mundo, tudo bem? benefícios risco un depoisgaG Enquantoânndemia telaga quí pe então depois\n"
     ]
    },
    {
     "name": "stderr",
     "output_type": "stream",
     "text": [
      "\n"
     ]
    }
   ],
   "source": [
    "texto_gerado = generate_sample(model, \"Olá Mundo, tudo bem?\", 15, 0.7, 50, 0.9)\n",
    "print(texto_gerado)"
   ]
  },
  {
   "cell_type": "markdown",
   "metadata": {},
   "source": [
    "Podemos testar nossa nova função. Obviamente o resultado ainda é totalmente sem sentido mas isso mudará a partir do próximo artigo!\n",
    "\n",
    "# Conclusão\n",
    "\n",
    "Neste artigo, finalizamos a montagem do nosso GPT — um LLM criado do zero! Ao longo desta série, exploramos em profundidade sua arquitetura e funcionamento, implementamos todos os componentes essenciais (desde a camada de embeddings até o decoder transformer completo) e concluímos com técnicas de geração de texto.\n",
    "\n",
    "Descobrimos que mesmo um modelo relativamente \"pequeno\" como o nosso, com cerca de 89M de parâmetros, apresenta uma complexidade considerável em sua arquitetura e requisitos computacionais.\n",
    "\n",
    "No próximo artigo, abordaremos o momento mais aguardado: o pré-treinamento do nosso modelo, que o transformará de um simples gerador de tokens aleatórios em um **verdadeiro LLM**."
   ]
  }
 ],
 "metadata": {
  "kernelspec": {
   "display_name": ".venv",
   "language": "python",
   "name": "python3"
  },
  "language_info": {
   "codemirror_mode": {
    "name": "ipython",
    "version": 3
   },
   "file_extension": ".py",
   "mimetype": "text/x-python",
   "name": "python",
   "nbconvert_exporter": "python",
   "pygments_lexer": "ipython3",
   "version": "3.12.1"
  }
 },
 "nbformat": 4,
 "nbformat_minor": 2
}
