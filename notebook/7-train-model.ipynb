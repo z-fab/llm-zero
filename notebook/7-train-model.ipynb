{
 "cells": [
  {
   "cell_type": "markdown",
   "metadata": {},
   "source": [
    "# 7 - Construindo um LLM do Zero: Treinando um Foundational Model\n",
    "\n",
    "Este é o **sétimo** de uma série de oito artigos que podem ser encontrados no meu medium. Acesse o primeiro artigo da série aqui: [Construindo um LLM: entendendo os Grandes Modelos de Linguagem](https://blog.zfab.me/construindo-um-llm-entendendo-os-grandes-modelos-de-linguagem-b37884219eaa)\n",
    "\n",
    "----\n",
    "Com a arquitetura do nosso modelo concluída, alcançamos o primeiro objetivo desta série: construir um LLM do zero. No entanto, nosso modelo atual consiste apenas em matrizes aleatórias que produzem texto sem significado. Neste artigo, daremos um passo crucial: transformar esse modelo em uma ferramenta capaz de gerar texto (um pouco mais) coerente.\n",
    "\n",
    "Para alcançar esse objetivo, precisamos treinar o modelo com um imenso volume de texto, ensinando-o a prever o próximo token com base nos anteriores. Este processo, conhecido como pré-treino, é o que nos entregará nosso Modelo Fundacional."
   ]
  },
  {
   "cell_type": "code",
   "execution_count": 4,
   "metadata": {},
   "outputs": [],
   "source": [
    "import torch\n",
    "import torch.nn as nn\n",
    "import matplotlib.pyplot as plt\n",
    "import seaborn as sns\n",
    "from tqdm import tqdm\n",
    "from torch.nn import functional as F\n",
    "import sentencepiece as spm\n",
    "import numpy as np\n",
    "from torch.utils.data import Dataset, DataLoader\n",
    "import matplotlib.pyplot as plt\n",
    "from matplotlib.ticker import MaxNLocator\n",
    "import seaborn as sns\n",
    "\n",
    "sns.set_style(\"whitegrid\")\n",
    "plt.rcParams.update({\"font.size\": 12})"
   ]
  },
  {
   "cell_type": "code",
   "execution_count": 5,
   "metadata": {},
   "outputs": [],
   "source": [
    "class MultiHeadAttention(torch.nn.Module):\n",
    "    def __init__(\n",
    "        self, d_in, d_out, context_length, n_heads, qkv_bias=False, dropout=0.1\n",
    "    ):\n",
    "        super().__init__()\n",
    "\n",
    "        assert d_out % n_heads == 0, \"d_out deve ser divisível por num_heads\"\n",
    "\n",
    "        self.d_out = d_out\n",
    "        self.n_heads = n_heads\n",
    "        self.d_head = d_out // n_heads\n",
    "\n",
    "        self.W_query = torch.nn.Linear(d_in, d_out, bias=qkv_bias)\n",
    "        self.W_key = torch.nn.Linear(d_in, d_out, bias=qkv_bias)\n",
    "        self.W_value = torch.nn.Linear(d_in, d_out, bias=qkv_bias)\n",
    "\n",
    "        self.out_proj = torch.nn.Linear(d_out, d_out)\n",
    "        self.dropout = torch.nn.Dropout(dropout)\n",
    "\n",
    "        self.register_buffer(\n",
    "            \"mask\", torch.triu(torch.ones(context_length, context_length), diagonal=1)\n",
    "        )\n",
    "\n",
    "    def forward(self, x):\n",
    "        n_batch, n_tokens, _ = x.size()\n",
    "\n",
    "        queries = self.W_query(x)\n",
    "        keys = self.W_key(x)\n",
    "        values = self.W_value(x)\n",
    "\n",
    "        queries = queries.view(n_batch, n_tokens, self.n_heads, self.d_head)\n",
    "        keys = keys.view(n_batch, n_tokens, self.n_heads, self.d_head)\n",
    "        values = values.view(n_batch, n_tokens, self.n_heads, self.d_head)\n",
    "\n",
    "        queries = queries.transpose(1, 2)\n",
    "        keys = keys.transpose(1, 2)\n",
    "        values = values.transpose(1, 2)\n",
    "\n",
    "        attention_scores = queries @ keys.transpose(-2, -1)\n",
    "        attention_scores.masked_fill_(\n",
    "            self.mask.bool()[:n_tokens, :n_tokens], -torch.inf\n",
    "        )\n",
    "\n",
    "        attention_weights = torch.softmax(\n",
    "            attention_scores / keys.size(-1) ** 0.5, dim=-1\n",
    "        )\n",
    "        attention_weights = self.dropout(attention_weights)\n",
    "\n",
    "        context_vector = (attention_weights @ values).transpose(1, 2)\n",
    "        context_vector = context_vector.contiguous().view(n_batch, n_tokens, self.d_out)\n",
    "        context_vector = self.out_proj(context_vector)\n",
    "\n",
    "        return context_vector\n",
    "\n",
    "class LayerNorm(nn.Module):\n",
    "    def __init__(self, d_emb):\n",
    "        super().__init__()\n",
    "        self.eps = 1e-6  # Epsilon para evitar divisão por zero\n",
    "        self.scale = nn.Parameter(\n",
    "            torch.ones(d_emb)\n",
    "        )  # Gamma - Inicializando com 1 para não alterar a escala\n",
    "        self.shift = nn.Parameter(\n",
    "            torch.zeros(d_emb)\n",
    "        )  # Beta - Inicializando com 0 para não alterar o deslocamento\n",
    "\n",
    "    def forward(self, x):\n",
    "        mean = x.mean(dim=-1, keepdim=True)\n",
    "        var = x.var(dim=-1, keepdim=True, unbiased=False)\n",
    "        norm_x = (x - mean) / torch.sqrt(var + self.eps)\n",
    "        return self.scale * norm_x + self.shift  # Gamma * x_norm + Beta\n",
    "\n",
    "class GeLU(nn.Module):\n",
    "    def __init__(self):\n",
    "        super().__init__()\n",
    "\n",
    "    def forward(self, x):\n",
    "        return (\n",
    "            0.5\n",
    "            * x\n",
    "            * (\n",
    "                1\n",
    "                + torch.tanh(\n",
    "                    torch.sqrt(torch.tensor(2.0 / torch.pi))\n",
    "                    * (x + 0.044715 * torch.pow(x, 3))\n",
    "                )\n",
    "            )\n",
    "        )\n",
    "\n",
    "class FeedForward(nn.Module):\n",
    "    def __init__(self, d_emb):\n",
    "        super().__init__()\n",
    "        self.layers = nn.Sequential(\n",
    "            nn.Linear(d_emb, d_emb * 4),\n",
    "            GeLU(),\n",
    "            nn.Linear(d_emb * 4, d_emb),\n",
    "        )\n",
    "\n",
    "    def forward(self, x):\n",
    "        return self.layers(x)\n",
    "\n",
    "class TransformerBlock(nn.Module):\n",
    "    def __init__(self, d_emb, n_heads, context_length, dropout=0.1, qkv_bias=False):\n",
    "        super().__init__()\n",
    "        self.mha = MultiHeadAttention(\n",
    "            d_in=d_emb,\n",
    "            d_out=d_emb,\n",
    "            context_length=context_length,\n",
    "            n_heads=n_heads,\n",
    "            dropout=dropout,\n",
    "            qkv_bias=qkv_bias,\n",
    "        )\n",
    "        self.ff = FeedForward(d_emb)\n",
    "        self.norm1 = LayerNorm(d_emb)\n",
    "        self.norm2 = LayerNorm(d_emb)\n",
    "        self.drop_shortcut = nn.Dropout(dropout)\n",
    "\n",
    "    def forward(self, x):\n",
    "        shortcut = x\n",
    "        x = self.norm1(x)  # 1\n",
    "        x = self.mha(x)  # 2\n",
    "        x = self.drop_shortcut(x)  # 3\n",
    "        x = x + shortcut  # 4\n",
    "\n",
    "        shortcut = x\n",
    "        x = self.norm2(x)  # 5\n",
    "        x = self.ff(x)  # 6\n",
    "        x = self.drop_shortcut(x)  # 7\n",
    "        x = x + shortcut  # 8\n",
    "        return x\n",
    "\n",
    "class GPTModel(nn.Module):\n",
    "    def __init__(\n",
    "        self, d_vocab, d_emb, context_length, n_layers, n_heads, dropout, qkv_bias\n",
    "    ):\n",
    "        super().__init__()\n",
    "        self.context_length = context_length\n",
    "\n",
    "        # Embedding de tokens e de posição\n",
    "        self.tok_emb = nn.Embedding(d_vocab, d_emb)\n",
    "        self.pos_emb = nn.Embedding(context_length, d_emb)\n",
    "        self.drop_emb = nn.Dropout(dropout)\n",
    "\n",
    "        # Sequência de Blocos Transformers\n",
    "        self.trf_blocks = nn.Sequential(\n",
    "            *[\n",
    "                TransformerBlock(d_emb, n_heads, context_length, dropout, qkv_bias)\n",
    "                for _ in range(n_layers)\n",
    "            ]\n",
    "        )\n",
    "\n",
    "        # Normalização e projeção para o vocabulário\n",
    "        self.final_norm = LayerNorm(d_emb)\n",
    "        self.out_head = nn.Linear(d_emb, d_vocab, bias=False)\n",
    "\n",
    "        # Inicialização dos pesos\n",
    "        self.apply(self._init_weights)\n",
    "\n",
    "        # Weight tying\n",
    "        self.out_head.weight = self.tok_emb.weight\n",
    "\n",
    "    def _init_weights(self, module):\n",
    "        if isinstance(module, nn.Linear):\n",
    "            torch.nn.init.normal_(module.weight, mean=0.0, std=0.02)\n",
    "            if module.bias is not None:\n",
    "                torch.nn.init.zeros_(module.bias)\n",
    "\n",
    "        elif isinstance(module, nn.Embedding):\n",
    "            torch.nn.init.normal_(module.weight, mean=0.0, std=0.02)\n",
    "\n",
    "    def forward(self, in_idx):\n",
    "        batch_size, seq_len = in_idx.shape\n",
    "\n",
    "        # Embedding de tokens e de posição\n",
    "        tok_embeds = self.tok_emb(in_idx)\n",
    "        pos_embeds = self.pos_emb(torch.arange(seq_len, device=in_idx.device))\n",
    "        x = tok_embeds + pos_embeds\n",
    "        x = self.drop_emb(x)\n",
    "\n",
    "        # Sequência de Blocos Transformers\n",
    "        x = self.trf_blocks(x)\n",
    "\n",
    "        # Normalização e projeção para o vocabulário\n",
    "        x = self.final_norm(x)\n",
    "        logits = self.out_head(x)\n",
    "        return logits\n",
    "\n",
    "    # Função para gerar texto\n",
    "    def generate(self, input, max=200, temperature=1.0, top_k=0, top_p=1.0):\n",
    "        for _ in tqdm(range(max), desc=\"Gerando Tokens...\"):\n",
    "            input = input[\n",
    "                :, -self.context_length :\n",
    "            ]  # Garantindo que o seja no máximo do tamanho do contexto.\n",
    "            logits = self(input)\n",
    "            logits = logits[:, -1, :]\n",
    "\n",
    "            # Aplicando temperature\n",
    "            logits = logits / temperature\n",
    "\n",
    "            # Aplicando top_k se especificado\n",
    "            if top_k > 0:\n",
    "                top_k_values, top_k_indices = torch.topk(\n",
    "                    logits, min(top_k, logits.size(-1))\n",
    "                )\n",
    "                logits = torch.full_like(logits, float(\"-inf\"))\n",
    "                logits.scatter_(1, top_k_indices, top_k_values)\n",
    "\n",
    "            # Aplicando top_p (nucleus sampling) se menor que 1.0\n",
    "            if top_p < 1.0:\n",
    "                sorted_logits, sorted_indices = torch.sort(logits, descending=True)\n",
    "                cumulative_probs = torch.cumsum(\n",
    "                    F.softmax(sorted_logits, dim=-1), dim=-1\n",
    "                )\n",
    "\n",
    "                # Remove tokens com probabilidade cumulativa acima do threshold\n",
    "                sorted_indices_to_remove = cumulative_probs > top_p\n",
    "                # Shift para manter pelo menos um token\n",
    "                sorted_indices_to_remove[..., 1:] = sorted_indices_to_remove[\n",
    "                    ..., :-1\n",
    "                ].clone()\n",
    "                sorted_indices_to_remove[..., 0] = 0\n",
    "\n",
    "                indices_to_remove = sorted_indices[sorted_indices_to_remove]\n",
    "                logits[..., indices_to_remove] = float(\"-inf\")\n",
    "\n",
    "            # Convertendo para probabilidades e amostrando\n",
    "            prob = F.softmax(logits, dim=-1)\n",
    "            next_token = torch.multinomial(prob, num_samples=1)\n",
    "            input = torch.cat([input, next_token], dim=-1)\n",
    "\n",
    "            if next_token == 3:  # Token de fim de texto\n",
    "                break\n",
    "\n",
    "        return input\n",
    "    \n",
    "def get_device():\n",
    "    if torch.cuda.is_available():\n",
    "        return torch.device(\"cuda\")\n",
    "    elif torch.mps.is_available():\n",
    "        return torch.device(\"mps\")\n",
    "    else:\n",
    "        return torch.device(\"cpu\")\n",
    "\n",
    "@torch.no_grad()\n",
    "def generate_sample(model, device, tokenizer, input_text, max_token=200, temperature=1, top_k=0, top_p=1):\n",
    "    input_tokens = torch.tensor(tokenizer.encode(input_text), dtype=torch.long)\n",
    "    input_tokens = input_tokens.unsqueeze(0).to(device)\n",
    "\n",
    "    output = model.generate(input_tokens, max_token, temperature, top_k, top_p)\n",
    "    output_text = tokenizer.decode(output.squeeze().tolist())\n",
    "\n",
    "    return output_text"
   ]
  },
  {
   "cell_type": "markdown",
   "metadata": {},
   "source": [
    "# Modelos Fundacionais\n",
    "\n",
    "Um Modelo Fundacional (Foundational Model) é um LLM pré-treinado em uma vasta quantidade de dados não rotulados — no nosso caso, textos de diversas origens. São chamados “fundacionais” porque estabelecem uma base de conhecimento que pode ser adaptada para múltiplos propósitos.\n",
    "\n",
    "Os modelos opensource, como os que encontramos no HuggingFace, eles são identificados com sufixos como “-base” ou “-pt” (pré-treinado). Por exemplo, “bert-base” ou “gemma3–4b-pt” indicam versões fundacionais que passaram apenas pela fase de pré-treino, sem especialização para tarefas específicas.\n",
    "\n",
    "Por si só, esses modelos pré-treinados são excelentes completadores de frases: dados os tokens anteriores, eles preveem o próximo e, ao realizar esse processo recursivamente, geram conteúdo.\n",
    "\n",
    "Uma descoberta interessante foi a capacidade desses modelos de realizar tarefas sem treino específico, conhecido como “**zero-shot learning**”. Pesquisadores observaram que modelos pré-treinados em grandes volumes de texto conseguiam responder perguntas, classificar textos e até resolver problemas simples de raciocínio sem nunca terem sido explicitamente treinados para isso.\n",
    "\n",
    "Esse fenômeno sugere que o processo de pré-treino não apenas ensina o modelo a prever palavras, mas também permite que ele desenvolva uma compreensão mais profunda da linguagem e do conhecimento contido nos textos. No entanto, o desempenho zero-shot geralmente é inferior ao de modelos especializados, justificando a necessidade de fine-tuning para tarefas específicas como conversação ou classificação de texto.\n",
    "\n",
    "# Processo de Treinamento\n",
    "\n",
    "Vamos começar instanciando nosso modelo e gerando alguns textos para avaliarmos após o pré treinamento seu desempenho.\n",
    "\n",
    "Vamos instanciar nosso tokenizer, que criamos no segundo artigo da série, e o `GPTModel` que finalizamos no artigo passado"
   ]
  },
  {
   "cell_type": "code",
   "execution_count": 6,
   "metadata": {},
   "outputs": [
    {
     "name": "stdout",
     "output_type": "stream",
     "text": [
      "Total de parâmetros: 88,398,336\n"
     ]
    }
   ],
   "source": [
    "# Carregando o Tokenizer e o Modelo\n",
    "tk = spm.SentencePieceProcessor(\n",
    "    model_file=\"../models/gigaverbo_tk.model\"\n",
    ")\n",
    "\n",
    "MODEL = GPTModel(\n",
    "    d_vocab=tk.vocab_size(),\n",
    "    d_emb=768,\n",
    "    context_length=256,\n",
    "    n_layers=12,\n",
    "    n_heads=12,\n",
    "    dropout=0.1,\n",
    "    qkv_bias=True,\n",
    ")\n",
    "\n",
    "total_params = sum(p.numel() for p in MODEL.parameters())\n",
    "print(f\"Total de parâmetros: {total_params:,}\")\n",
    "\n",
    "# OUTPUT\n",
    "# Total de parâmetros: 88,398,336"
   ]
  },
  {
   "cell_type": "markdown",
   "metadata": {},
   "source": [
    "Nosso objetivo não é criar uma nova família de modelos ou competir com as Big Techs, por isso nosso modelo será pequeno — muito pequeno: apenas **88M de parâmetros**. Para colocar em perspectiva, hoje em dia até os modelos considerados pequenos têm alguns **bilhões de parâmetros**.\n",
    "\n",
    "Como nosso foco é entender o funcionamento dos LLMs, desde sua arquitetura até seu treinamento, não precisamos gastar processamento com um modelo gigante. O que diferencia nosso modelo dos demais será basicamente seu tamanho, a quantidade de tokens processados no pré-treinamento e, consequentemente, o tempo de treinamento.\n",
    "\n",
    "Se você tiver uma GPU disponível e quiser treinar um modelo maior, poderá usar o mesmo código — basta ajustar parâmetros como janela de contexto, número de blocos transformers e tamanho dos embeddings.\n",
    "\n",
    "Por enquanto, para nosso objetivo de aprendizado, esse modelinho será mais que suficiente."
   ]
  },
  {
   "cell_type": "code",
   "execution_count": 7,
   "metadata": {},
   "outputs": [
    {
     "name": "stderr",
     "output_type": "stream",
     "text": [
      "Gerando Tokens...: 100%|██████████| 30/30 [00:02<00:00, 14.02it/s]\n",
      "Gerando Tokens...: 100%|██████████| 30/30 [00:02<00:00, 11.37it/s]\n",
      "Gerando Tokens...: 100%|██████████| 30/30 [00:02<00:00, 12.81it/s]\n",
      "Gerando Tokens...: 100%|██████████| 30/30 [00:02<00:00, 14.39it/s]\n",
      "Gerando Tokens...: 100%|██████████| 30/30 [00:02<00:00, 13.42it/s]"
     ]
    },
    {
     "name": "stdout",
     "output_type": "stream",
     "text": [
      "\n",
      "Resposta 1: O Brasil é umcho ó estiver veíançasTu Geren clima Mo ó estabel Colhoumou� poderiacu confi\u0018ais porporte entrada tur[stitumanha ent\n",
      "Resposta 2: O Brasil é umussãochouas chamadaram capvenção atual dicas veí existemst frequentementehou venchocho veí veíanotação diferentehou Apple Alguns jorn prov sites combussão\n",
      "Resposta 3: O Brasil é um prov dim cap metas pol Com paiselo af comb maiorementwnica sono fazendoohpidamenteíqu essencial Apple identicaicapres dada existem\u0015 sono grav\n",
      "Resposta 4: O Brasil é um poleloenef Austeloícileleza Ol financeiros Apple conexug Austcho mercado dor filmebora alternastitusarb met ing ele alternatur[ Califórnia us\n",
      "Resposta 5: O Brasil é umCrie produzeral po\u0015 víde M empresastur Eu Apple ingonesongão estiver especial melhor mem�� natural empresaicamente específica resul\u0003 ent gencho\n"
     ]
    },
    {
     "name": "stderr",
     "output_type": "stream",
     "text": [
      "\n"
     ]
    }
   ],
   "source": [
    "responses = []\n",
    "for i in range(5):\n",
    "    response = generate_sample(\n",
    "        model=MODEL, \n",
    "        device=\"cpu\", \n",
    "        tokenizer=tk, \n",
    "        input_text=\"O Brasil é um\", \n",
    "        max_token=30, \n",
    "        temperature=0.4,\n",
    "        top_k=40,\n",
    "        top_p=0.9\n",
    "    )\n",
    "    responses.append(response)\n",
    "print(\"\")\n",
    "for i, response in enumerate(responses):\n",
    "    print(f\"Resposta {i+1}: {response}\")\n",
    "\n",
    "#OUTPUT\n",
    "# Gerando Tokens...: 100%|██████████| 30/30 [00:01<00:00, 15.56it/s]\n",
    "# Gerando Tokens...: 100%|██████████| 30/30 [00:01<00:00, 17.86it/s]\n",
    "# Gerando Tokens...: 100%|██████████| 30/30 [00:01<00:00, 18.20it/s]\n",
    "# Gerando Tokens...: 100%|██████████| 30/30 [00:01<00:00, 17.56it/s]\n",
    "# Gerando Tokens...: 100%|██████████| 30/30 [00:01<00:00, 21.82it/s]\n",
    "#\n",
    "# Resposta 1: O Brasil é umiros alterna frase Terposição maneirasró ide ganiros� benefíciosbilidades bas baix tele baixaérciobilidades necessidade acab específicasab espera negócios� fecoocê\n",
    "# Resposta 2: O Brasil é um descont Eleeio fe relexto programater.bilidades legumes resumociar sequin bollialia noviros baixa eventos muitoodos tradicionalhhe sequ tentume\n",
    "# Resposta 3: O Brasil é umbilidades minha mund x fraseá mó medoientocê minhatório programa situocê mon Pateretes vi espa profissionalard\u0004 Googleale notícias nov baixaocê\n",
    "# Resposta 4: O Brasil é ummicas interaçãoando especial\" candida Reitos prática Sim passos na tarocêritân emissões partetional amigo Falvamalidade tradicional parte benefícios usar iP muito facil facil\n",
    "# Resposta 5: O Brasil é um candidats saudável perguntasYáticas negócios frutas tele Ol descont capacidadearami cai� tele emp usadasumeing Ro lamico escolhabilidades negóciosbilidades segundo"
   ]
  },
  {
   "cell_type": "markdown",
   "metadata": {},
   "source": [
    "Como podemos observar, nosso modelo atual é apenas um gerador de palavras sem sentido. Ao fornecer a entrada \"O Brasil é um\", ele gera frases completamente aleatórias. Nosso objetivo é que, após o pré-treinamento, o modelo seja capaz de construir frases mais coerentes.\n",
    "\n",
    "## Preparando o Dataset\n",
    "\n",
    "A preparação adequada dos dados é um elemento crítico no treinamento de modelos de linguagem. O processo envolve fornecer tokens de entrada ao modelo para que ele aprenda a prever o próximo token da sequência.\n",
    "\n",
    "Para isso, precisamos estruturar nosso dataset de maneira específica, permitindo que o modelo desenvolva a capacidade de fazer previsões contextualizadas."
   ]
  },
  {
   "cell_type": "code",
   "execution_count": 8,
   "metadata": {},
   "outputs": [
    {
     "name": "stdout",
     "output_type": "stream",
     "text": [
      "Iteração 1\n",
      "Input:\t['O', 'Brasil', 'é']\n",
      "Output:\t['Brasil', 'é', 'um']\n",
      "---\n",
      "Iteração 2\n",
      "Input:\t['Brasil', 'é', 'um']\n",
      "Output:\t['é', 'um', 'país']\n",
      "---\n",
      "Iteração 3\n",
      "Input:\t['é', 'um', 'país']\n",
      "Output:\t['um', 'país', 'muito']\n",
      "---\n",
      "Iteração 4\n",
      "Input:\t['um', 'país', 'muito']\n",
      "Output:\t['país', 'muito', 'bonito']\n",
      "---\n",
      "Iteração 5\n",
      "Input:\t['país', 'muito', 'bonito']\n",
      "Output:\t['muito', 'bonito', '<|eos|>']\n",
      "---\n"
     ]
    }
   ],
   "source": [
    "phrase = \"O Brasil é um país muito bonito <|eos|>\"\n",
    "words = phrase.split()\n",
    "\n",
    "context_window = 3\n",
    "\n",
    "for i in range(len(words)-context_window):\n",
    "    print(\"Iteração\", i+1)\n",
    "    print(f\"Input:\\t{words[i:i+context_window]}\")\n",
    "    print(f\"Output:\\t{words[i+1:i+context_window+1]}\")\n",
    "    print(\"---\")\n",
    "\n",
    "#OUTPUT\n",
    "# Iteração 1\n",
    "# Input:\t['O', 'Brasil', 'é']\n",
    "# Output:\t['Brasil', 'é', 'um']\n",
    "# ---\n",
    "# Iteração 2\n",
    "# Input:\t['Brasil', 'é', 'um']\n",
    "# Output:\t['é', 'um', 'país']\n",
    "# ---\n",
    "# Iteração 3\n",
    "# Input:\t['é', 'um', 'país']\n",
    "# Output:\t['um', 'país', 'muito']\n",
    "# ---\n",
    "# Iteração 4\n",
    "# Input:\t['um', 'país', 'muito']\n",
    "# Output:\t['país', 'muito', 'bonito']\n",
    "# ---\n",
    "# Iteração 5\n",
    "# Input:\t['país', 'muito', 'bonito']\n",
    "# Output:\t['muito', 'bonito', '<|eos|>']\n",
    "# ---"
   ]
  },
  {
   "cell_type": "markdown",
   "metadata": {},
   "source": [
    "No exemplo acima, usando uma janela de contexto de 3 tokens e a frase `O Brasil é um país muito bonito <|eos|>` como dado de treinamento, precisamos estruturar o dataset para ter 3 tokens de entrada, com a saída sendo os mesmos 3 tokens deslocados uma posição para a direita.\n",
    "\n",
    "Por exemplo, quando usamos como input o início `O Brasil é`, o output correspondente será `Brasil é um` , assim o modelo aprenderá a prever qual token deve vir após certas palavras, dado certos contextos.\n",
    "\n",
    "Na hora de preparar o dataset, além da janela de contexto, para podermos “separar” os inputs, outra informação importante é o que chamamos de stride, que determina o tamanho do \"passo\" entre as janelas de contexto consecutivas.\n",
    "\n",
    "Um stride menor cria mais sobreposição entre as janelas, gerando mais dados de treinamento, enquanto um stride maior reduz a sobreposição e economiza memória. A escolha do stride ideal é um trade-off entre volume de dados e eficiência computacional."
   ]
  },
  {
   "cell_type": "code",
   "execution_count": 9,
   "metadata": {},
   "outputs": [
    {
     "name": "stdout",
     "output_type": "stream",
     "text": [
      "Iteração 1\n",
      "Input:\t['O', 'Brasil', 'é']\n",
      "Output:\t['Brasil', 'é', 'um']\n",
      "---\n",
      "Iteração 2\n",
      "Input:\t['é', 'um', 'país']\n",
      "Output:\t['um', 'país', 'muito']\n",
      "---\n",
      "Iteração 3\n",
      "Input:\t['país', 'muito', 'bonito']\n",
      "Output:\t['muito', 'bonito', '<|eos|>']\n",
      "---\n"
     ]
    }
   ],
   "source": [
    "phrase = \"O Brasil é um país muito bonito <|eos|>\"\n",
    "words = phrase.split()\n",
    "\n",
    "context_window = 3\n",
    "stride = 2\n",
    "\n",
    "for i in range(0, len(words)-context_window, stride):\n",
    "    print(\"Iteração\", (i//stride)+1)\n",
    "    print(f\"Input:\\t{words[i:i+context_window]}\")\n",
    "    print(f\"Output:\\t{words[i+1:i+context_window+1]}\")\n",
    "    print(\"---\")\n",
    "\n",
    "#OUTPUT\n",
    "# Iteração 1\n",
    "# Input:\t['O', 'Brasil', 'é']\n",
    "# Output:\t['Brasil', 'é', 'um']\n",
    "# ---\n",
    "# Iteração 2\n",
    "# Input:\t['é', 'um', 'país']\n",
    "# Output:\t['um', 'país', 'muito']\n",
    "# ---\n",
    "# Iteração 3\n",
    "# Input:\t['país', 'muito', 'bonito']\n",
    "# Output:\t['muito', 'bonito', '<|eos|>']\n",
    "# ---"
   ]
  },
  {
   "cell_type": "markdown",
   "metadata": {},
   "source": [
    "Ao adicionar o stride ao nosso exemplo, vemos que entre as iterações estamos pulando 2 palavras (em vez de uma). Por exemplo, se na primeira janela pegamos `O Brasil é`, na próxima pegaremos `é um país`, pulando `O` e `Brasil`.\n",
    "\n",
    "Com stride igual a 2, obtivemos apenas 3 conjuntos de inputs com a frase, em comparação aos 5 conjuntos obtidos sem stride (ou com stride igual a 1).\n",
    "\n",
    "Para nosso treinamento, precisaremos de mais conteúdo que apenas uma frase. Por isso, criaremos o dataset com o mesmo corpus usado para gerar o tokenizer: uma parte do dataset **GigaVerbo**. Nosso corpus contém aproximadamente 25 milhões de tokens."
   ]
  },
  {
   "cell_type": "code",
   "execution_count": 10,
   "metadata": {},
   "outputs": [
    {
     "name": "stdout",
     "output_type": "stream",
     "text": [
      "Número de tokens no corpus: 24,982,439\n"
     ]
    }
   ],
   "source": [
    "with open(\"../data/gigaverbo_tokenized.txt\", \"r\", encoding=\"utf-8\") as f:\n",
    "    text_tokenized = f.read()\n",
    "\n",
    "num_tokens = len(text_tokenized.split())\n",
    "print(f\"Número de tokens no corpus: {num_tokens:,}\")\n",
    "\n",
    "#OUTPUT\n",
    "# Número de tokens no corpus: 24,982,439"
   ]
  },
  {
   "cell_type": "markdown",
   "metadata": {},
   "source": [
    "Além de organizar os tokens do nosso corpus nesse formato de input e output, precisamos também agrupar os inputs e seus respectivos outputs esperados (que chamaremos de targets) em conjuntos chamados batches, para otimizar o processo de treinamento.\n",
    "\n",
    "Um batch reúne múltiplos exemplos para processamento simultâneo pelo modelo, tornando o treinamento mais eficiente."
   ]
  },
  {
   "cell_type": "code",
   "execution_count": 11,
   "metadata": {},
   "outputs": [
    {
     "name": "stdout",
     "output_type": "stream",
     "text": [
      "Shape (Batch x Trecho x Tokens): (2, 2, 3)\n",
      "\n",
      "Batch 1\n",
      "Input:\n",
      "[['O' 'Brasil' 'é']\n",
      " ['é' 'um' 'país']]\n",
      "Target:\n",
      "[['Brasil' 'é' 'um']\n",
      " ['um' 'país' 'da']]\n",
      "---\n",
      "Batch 2\n",
      "Input:\n",
      "[['país' 'da' 'América']\n",
      " ['América' 'do' 'Sul']]\n",
      "Target:\n",
      "[['da' 'América' 'do']\n",
      " ['do' 'Sul' '<|eos|>']]\n",
      "---\n"
     ]
    }
   ],
   "source": [
    "phrase = \"O Brasil é um país da América do Sul <|eos|>\"\n",
    "words = phrase.split()\n",
    "\n",
    "context_window = 3\n",
    "stride = 2\n",
    "batch_size = 2  # Number of examples per batch\n",
    "\n",
    "inputs = []\n",
    "targets = []\n",
    "\n",
    "for i in range(0, len(words)-context_window, stride):\n",
    "    inputs.append(words[i:i+context_window])\n",
    "    targets.append(words[i+1:i+context_window+1])\n",
    "\n",
    "# Reshape the list to batch_size x num_examples x num_words\n",
    "inputs = np.array(inputs).reshape(batch_size, -1, 3)\n",
    "targets = np.array(targets).reshape(batch_size, -1, 3)\n",
    "\n",
    "print(f\"Shape (Batch x Trecho x Tokens): {inputs.shape}\\n\")\n",
    "for i in range(batch_size):\n",
    "    print(f\"Batch {i+1}\")\n",
    "    print(f\"Input:\\n{inputs[i]}\")\n",
    "    print(f\"Target:\\n{targets[i]}\")\n",
    "    print(\"---\")\n",
    "\n",
    "#OUTPUT\n",
    "# Shape (Batch x Trecho x Tokens): (2, 2, 3)\n",
    "# \n",
    "# Batch 1\n",
    "# Input:\n",
    "# [['O' 'Brasil' 'é']\n",
    "#  ['é' 'um' 'país']]\n",
    "# Target:\n",
    "# [['Brasil' 'é' 'um']\n",
    "#  ['um' 'país' 'da']]\n",
    "# ---\n",
    "# Batch 2\n",
    "# Input:\n",
    "# [['país' 'da' 'América']\n",
    "#  ['América' 'do' 'Sul']]\n",
    "# Target:\n",
    "# [['da' 'América' 'do']\n",
    "#  ['do' 'Sul' '<|eos|>']]\n",
    "# ---"
   ]
  },
  {
   "cell_type": "markdown",
   "metadata": {},
   "source": [
    "Para fazer todo esse processamento, usaremos duas classes da biblioteca PyTorch que facilitam a estruturação e o gerenciamento dos inputs e targets usados no treinamento.\n",
    "\n",
    "Criaremos uma classe que herda de Dataset para representar nossos dados, enquanto usaremos o DataLoader para gerenciar o carregamento e a distribuição dos dados durante o treinamento."
   ]
  },
  {
   "cell_type": "code",
   "execution_count": 12,
   "metadata": {},
   "outputs": [],
   "source": [
    "class GPTDataset(Dataset):\n",
    "    def __init__(self, txt, tokenizer, max_length, stride):\n",
    "        self.input_ids = []\n",
    "        self.target_ids = []\n",
    "\n",
    "        token_ids = tokenizer.encode(txt)\n",
    "\n",
    "        for i in range(0, len(token_ids) - max_length, stride):\n",
    "            input_chunk = token_ids[i : i + max_length]\n",
    "            target_chunk = token_ids[i + 1 : i + max_length + 1]\n",
    "            self.input_ids.append(torch.tensor(input_chunk))\n",
    "            self.target_ids.append(torch.tensor(target_chunk))\n",
    "\n",
    "    def __len__(self):\n",
    "        return len(self.input_ids)\n",
    "\n",
    "    def __getitem__(self, idx):\n",
    "        return self.input_ids[idx], self.target_ids[idx]\n",
    "\n",
    "def create_dataloader(\n",
    "    txt,\n",
    "    batch_size=4,\n",
    "    max_length=256,\n",
    "    stride=128,\n",
    "    shuffle=True,\n",
    "    drop_last=True,\n",
    "    num_workers=0,\n",
    "):\n",
    "    dataset = GPTDataset(txt, tk, max_length, stride)\n",
    "    dataloader = DataLoader(\n",
    "        dataset,\n",
    "        batch_size=batch_size,\n",
    "        shuffle=shuffle,\n",
    "        drop_last=drop_last,\n",
    "        num_workers=num_workers,\n",
    "        pin_memory=True,\n",
    "    )\n",
    "\n",
    "    return dataloader"
   ]
  },
  {
   "cell_type": "markdown",
   "metadata": {},
   "source": [
    "Reparem que nossa classe Dataset está separando o conteúdo passado (`txt`) em inputs e targets usando a mesma lógica que vimos anteriormente. Além disso precisamos implementar a função `__len__` e `__getitem__` que são métodos especiais do Python necessários para que nossa classe funcione corretamente com o DataLoader. O método **len** retorna o tamanho total do dataset, enquanto **getitem** permite acessar um elemento específico através de seu índice.\n",
    "\n",
    "A função que `create_dataloader` que criamos serve para criar o Dataset e passa-lo para um DataLoader que cuidará de gerenciar e separar nossos batchs. Ao criar o Dataloader estamos definindo alguns parametros para configurar como nossos dados serão gerenciados e disponibilizados para o modelo:\n",
    "\n",
    "- `batch_size` : Quantas “frases” teremos dentro de cada batch\n",
    "- `shuffle` : Controla se os dados serão embaralhados aleatoriamente durante o treinamento\n",
    "- `drop_last` : Define se o último batch será descartado caso seja menor que o tamanho definido\n",
    "- `num_workers` : Número de processos paralelos para carregamento dos dados\n",
    "- `pin_memory` : Define se os tensores serão alocados em uma região de memória específica da CPU que permite transferência mais rápida para a GPU\n",
    "\n",
    "Vamos testar e ver se a classe e a função estão funcionando corretamente"
   ]
  },
  {
   "cell_type": "code",
   "execution_count": 13,
   "metadata": {},
   "outputs": [
    {
     "name": "stdout",
     "output_type": "stream",
     "text": [
      "Batch 1\n",
      "Input:\n",
      "tensor([[ 355,  474,  385],\n",
      "        [3268,  320, 3254]])\n",
      "Target:\n",
      "tensor([[ 474,  385,  363],\n",
      "        [ 320, 3254, 4021]])\n",
      "---\n",
      "Batch 2\n",
      "Input:\n",
      "tensor([[1040,  334, 3268],\n",
      "        [ 323,  313, 1040]])\n",
      "Target:\n",
      "tensor([[ 334, 3268,  320],\n",
      "        [ 313, 1040,  334]])\n",
      "---\n"
     ]
    }
   ],
   "source": [
    "phrase = \"O Brasil é um país da América do Sul <|eos|>\"\n",
    "dataloader = create_dataloader(phrase, batch_size=2, max_length=3, stride=2)\n",
    "\n",
    "for i, (input_ids, target_ids) in enumerate(dataloader):\n",
    "    print(f\"Batch {i+1}\")\n",
    "    print(f\"Input:\\n{input_ids}\")\n",
    "    print(f\"Target:\\n{target_ids}\")\n",
    "    print(\"---\")\n",
    "\n",
    "#OUTPUT\n",
    "# Batch 1\n",
    "# Input:\n",
    "# tensor([[ 355,  474,  385],\n",
    "#         [ 323,  313, 1040]])\n",
    "# Target:\n",
    "# tensor([[ 474,  385,  363],\n",
    "#         [ 313, 1040,  334]])\n",
    "# ---\n",
    "# Batch 2\n",
    "# Input:\n",
    "# tensor([[1040,  334, 3268],\n",
    "#         [ 385,  363,  323]])\n",
    "# Target:\n",
    "# tensor([[ 334, 3268,  320],\n",
    "#         [ 363,  323,  313]])\n",
    "# ---"
   ]
  },
  {
   "cell_type": "markdown",
   "metadata": {},
   "source": [
    "Observe que obtivemos a mesma estrutura do nosso exemplo manual, mas agora com números (os IDs dos tokens) no lugar das palavras.\n",
    "\n",
    "Como em todo processo de treinamento vamos separar uma parte do nosso corpus para validação e manter o restante para treinamento"
   ]
  },
  {
   "cell_type": "code",
   "execution_count": 14,
   "metadata": {},
   "outputs": [],
   "source": [
    "with open(\"../data/gigaverbo.txt\", \"r\", encoding=\"utf-8\") as f:\n",
    "    text = f.read()\n",
    "\n",
    "train_ratio = 0.9\n",
    "split_idx = int(len(text) * train_ratio)\n",
    "\n",
    "train_data = text[:split_idx]\n",
    "val_data = text[split_idx:]"
   ]
  },
  {
   "cell_type": "markdown",
   "metadata": {},
   "source": [
    "Após separar, vamos criar nossos Dataloader, um para treino e outro para validação"
   ]
  },
  {
   "cell_type": "code",
   "execution_count": null,
   "metadata": {},
   "outputs": [
    {
     "ename": "NameError",
     "evalue": "name 'create_dataloader' is not defined",
     "output_type": "error",
     "traceback": [
      "\u001b[0;31m---------------------------------------------------------------------------\u001b[0m",
      "\u001b[0;31mNameError\u001b[0m                                 Traceback (most recent call last)",
      "Cell \u001b[0;32mIn[3], line 1\u001b[0m\n\u001b[0;32m----> 1\u001b[0m train_dataloader \u001b[38;5;241m=\u001b[39m \u001b[43mcreate_dataloader\u001b[49m(\n\u001b[1;32m      2\u001b[0m     train_data,\n\u001b[1;32m      3\u001b[0m     batch_size\u001b[38;5;241m=\u001b[39m\u001b[38;5;241m8\u001b[39m,\n\u001b[1;32m      4\u001b[0m     max_length\u001b[38;5;241m=\u001b[39m\u001b[38;5;241m256\u001b[39m,\n\u001b[1;32m      5\u001b[0m     stride\u001b[38;5;241m=\u001b[39m\u001b[38;5;241m128\u001b[39m,\n\u001b[1;32m      6\u001b[0m     drop_last\u001b[38;5;241m=\u001b[39m\u001b[38;5;28;01mTrue\u001b[39;00m,\n\u001b[1;32m      7\u001b[0m     shuffle\u001b[38;5;241m=\u001b[39m\u001b[38;5;28;01mTrue\u001b[39;00m,\n\u001b[1;32m      8\u001b[0m     num_workers\u001b[38;5;241m=\u001b[39m\u001b[38;5;241m0\u001b[39m\n\u001b[1;32m      9\u001b[0m )\n\u001b[1;32m     11\u001b[0m val_dataloader \u001b[38;5;241m=\u001b[39m create_dataloader(\n\u001b[1;32m     12\u001b[0m     val_data,\n\u001b[1;32m     13\u001b[0m     batch_size\u001b[38;5;241m=\u001b[39m\u001b[38;5;241m8\u001b[39m,\n\u001b[0;32m   (...)\u001b[0m\n\u001b[1;32m     18\u001b[0m     num_workers\u001b[38;5;241m=\u001b[39m\u001b[38;5;241m0\u001b[39m\n\u001b[1;32m     19\u001b[0m )\n",
      "\u001b[0;31mNameError\u001b[0m: name 'create_dataloader' is not defined"
     ]
    },
    {
     "ename": "KeyboardInterrupt",
     "evalue": "",
     "output_type": "error",
     "traceback": [
      "\u001b[0;31m---------------------------------------------------------------------------\u001b[0m",
      "\u001b[0;31mKeyboardInterrupt\u001b[0m                         Traceback (most recent call last)",
      "Cell \u001b[0;32mIn[15], line 1\u001b[0m\n\u001b[0;32m----> 1\u001b[0m train_dataloader \u001b[38;5;241m=\u001b[39m \u001b[43mcreate_dataloader\u001b[49m\u001b[43m(\u001b[49m\n\u001b[1;32m      2\u001b[0m \u001b[43m    \u001b[49m\u001b[43mtrain_data\u001b[49m\u001b[43m,\u001b[49m\n\u001b[1;32m      3\u001b[0m \u001b[43m    \u001b[49m\u001b[43mbatch_size\u001b[49m\u001b[38;5;241;43m=\u001b[39;49m\u001b[38;5;241;43m8\u001b[39;49m\u001b[43m,\u001b[49m\n\u001b[1;32m      4\u001b[0m \u001b[43m    \u001b[49m\u001b[43mmax_length\u001b[49m\u001b[38;5;241;43m=\u001b[39;49m\u001b[38;5;241;43m256\u001b[39;49m\u001b[43m,\u001b[49m\n\u001b[1;32m      5\u001b[0m \u001b[43m    \u001b[49m\u001b[43mstride\u001b[49m\u001b[38;5;241;43m=\u001b[39;49m\u001b[38;5;241;43m128\u001b[39;49m\u001b[43m,\u001b[49m\n\u001b[1;32m      6\u001b[0m \u001b[43m    \u001b[49m\u001b[43mdrop_last\u001b[49m\u001b[38;5;241;43m=\u001b[39;49m\u001b[38;5;28;43;01mTrue\u001b[39;49;00m\u001b[43m,\u001b[49m\n\u001b[1;32m      7\u001b[0m \u001b[43m    \u001b[49m\u001b[43mshuffle\u001b[49m\u001b[38;5;241;43m=\u001b[39;49m\u001b[38;5;28;43;01mTrue\u001b[39;49;00m\u001b[43m,\u001b[49m\n\u001b[1;32m      8\u001b[0m \u001b[43m    \u001b[49m\u001b[43mnum_workers\u001b[49m\u001b[38;5;241;43m=\u001b[39;49m\u001b[38;5;241;43m0\u001b[39;49m\n\u001b[1;32m      9\u001b[0m \u001b[43m)\u001b[49m\n\u001b[1;32m     11\u001b[0m val_dataloader \u001b[38;5;241m=\u001b[39m create_dataloader(\n\u001b[1;32m     12\u001b[0m     val_data,\n\u001b[1;32m     13\u001b[0m     batch_size\u001b[38;5;241m=\u001b[39m\u001b[38;5;241m8\u001b[39m,\n\u001b[0;32m   (...)\u001b[0m\n\u001b[1;32m     18\u001b[0m     num_workers\u001b[38;5;241m=\u001b[39m\u001b[38;5;241m0\u001b[39m\n\u001b[1;32m     19\u001b[0m )\n",
      "Cell \u001b[0;32mIn[12], line 29\u001b[0m, in \u001b[0;36mcreate_dataloader\u001b[0;34m(txt, batch_size, max_length, stride, shuffle, drop_last, num_workers)\u001b[0m\n\u001b[1;32m     20\u001b[0m \u001b[38;5;28;01mdef\u001b[39;00m\u001b[38;5;250m \u001b[39m\u001b[38;5;21mcreate_dataloader\u001b[39m(\n\u001b[1;32m     21\u001b[0m     txt,\n\u001b[1;32m     22\u001b[0m     batch_size\u001b[38;5;241m=\u001b[39m\u001b[38;5;241m4\u001b[39m,\n\u001b[0;32m   (...)\u001b[0m\n\u001b[1;32m     27\u001b[0m     num_workers\u001b[38;5;241m=\u001b[39m\u001b[38;5;241m0\u001b[39m,\n\u001b[1;32m     28\u001b[0m ):\n\u001b[0;32m---> 29\u001b[0m     dataset \u001b[38;5;241m=\u001b[39m \u001b[43mGPTDataset\u001b[49m\u001b[43m(\u001b[49m\u001b[43mtxt\u001b[49m\u001b[43m,\u001b[49m\u001b[43m \u001b[49m\u001b[43mtk\u001b[49m\u001b[43m,\u001b[49m\u001b[43m \u001b[49m\u001b[43mmax_length\u001b[49m\u001b[43m,\u001b[49m\u001b[43m \u001b[49m\u001b[43mstride\u001b[49m\u001b[43m)\u001b[49m\n\u001b[1;32m     30\u001b[0m     dataloader \u001b[38;5;241m=\u001b[39m DataLoader(\n\u001b[1;32m     31\u001b[0m         dataset,\n\u001b[1;32m     32\u001b[0m         batch_size\u001b[38;5;241m=\u001b[39mbatch_size,\n\u001b[0;32m   (...)\u001b[0m\n\u001b[1;32m     36\u001b[0m         pin_memory\u001b[38;5;241m=\u001b[39m\u001b[38;5;28;01mTrue\u001b[39;00m,\n\u001b[1;32m     37\u001b[0m     )\n\u001b[1;32m     39\u001b[0m     \u001b[38;5;28;01mreturn\u001b[39;00m dataloader\n",
      "Cell \u001b[0;32mIn[12], line 6\u001b[0m, in \u001b[0;36mGPTDataset.__init__\u001b[0;34m(self, txt, tokenizer, max_length, stride)\u001b[0m\n\u001b[1;32m      3\u001b[0m \u001b[38;5;28mself\u001b[39m\u001b[38;5;241m.\u001b[39minput_ids \u001b[38;5;241m=\u001b[39m []\n\u001b[1;32m      4\u001b[0m \u001b[38;5;28mself\u001b[39m\u001b[38;5;241m.\u001b[39mtarget_ids \u001b[38;5;241m=\u001b[39m []\n\u001b[0;32m----> 6\u001b[0m token_ids \u001b[38;5;241m=\u001b[39m \u001b[43mtokenizer\u001b[49m\u001b[38;5;241;43m.\u001b[39;49m\u001b[43mencode\u001b[49m\u001b[43m(\u001b[49m\u001b[43mtxt\u001b[49m\u001b[43m)\u001b[49m\n\u001b[1;32m      8\u001b[0m \u001b[38;5;28;01mfor\u001b[39;00m i \u001b[38;5;129;01min\u001b[39;00m \u001b[38;5;28mrange\u001b[39m(\u001b[38;5;241m0\u001b[39m, \u001b[38;5;28mlen\u001b[39m(token_ids) \u001b[38;5;241m-\u001b[39m max_length, stride):\n\u001b[1;32m      9\u001b[0m     input_chunk \u001b[38;5;241m=\u001b[39m token_ids[i : i \u001b[38;5;241m+\u001b[39m max_length]\n",
      "File \u001b[0;32m~/repos/llm_zero/.venv/lib/python3.12/site-packages/sentencepiece/__init__.py:549\u001b[0m, in \u001b[0;36mSentencePieceProcessor.Encode\u001b[0;34m(self, input, out_type, add_bos, add_eos, reverse, emit_unk_piece, enable_sampling, nbest_size, alpha, num_threads)\u001b[0m\n\u001b[1;32m    545\u001b[0m     \u001b[38;5;28;01mreturn\u001b[39;00m \u001b[38;5;28mself\u001b[39m\u001b[38;5;241m.\u001b[39m_EncodeAsImmutableProtoBatch(\u001b[38;5;28minput\u001b[39m, num_threads, enable_sampling, nbest_size,\n\u001b[1;32m    546\u001b[0m                                              alpha, add_bos, add_eos, reverse, emit_unk_piece)\n\u001b[1;32m    548\u001b[0m \u001b[38;5;28;01mif\u001b[39;00m out_type \u001b[38;5;129;01mis\u001b[39;00m \u001b[38;5;28mint\u001b[39m:\n\u001b[0;32m--> 549\u001b[0m   \u001b[38;5;28;01mreturn\u001b[39;00m \u001b[38;5;28;43mself\u001b[39;49m\u001b[38;5;241;43m.\u001b[39;49m\u001b[43m_EncodeAsIds\u001b[49m\u001b[43m(\u001b[49m\u001b[38;5;28;43minput\u001b[39;49m\u001b[43m,\u001b[49m\u001b[43m \u001b[49m\u001b[43menable_sampling\u001b[49m\u001b[43m,\u001b[49m\u001b[43m \u001b[49m\u001b[43mnbest_size\u001b[49m\u001b[43m,\u001b[49m\n\u001b[1;32m    550\u001b[0m \u001b[43m                           \u001b[49m\u001b[43malpha\u001b[49m\u001b[43m,\u001b[49m\u001b[43m \u001b[49m\u001b[43madd_bos\u001b[49m\u001b[43m,\u001b[49m\u001b[43m \u001b[49m\u001b[43madd_eos\u001b[49m\u001b[43m,\u001b[49m\u001b[43m \u001b[49m\u001b[43mreverse\u001b[49m\u001b[43m,\u001b[49m\u001b[43m \u001b[49m\u001b[43memit_unk_piece\u001b[49m\u001b[43m)\u001b[49m\n\u001b[1;32m    551\u001b[0m \u001b[38;5;28;01mif\u001b[39;00m out_type \u001b[38;5;129;01mis\u001b[39;00m \u001b[38;5;28mstr\u001b[39m:\n\u001b[1;32m    552\u001b[0m   \u001b[38;5;28;01mreturn\u001b[39;00m \u001b[38;5;28mself\u001b[39m\u001b[38;5;241m.\u001b[39m_EncodeAsPieces(\u001b[38;5;28minput\u001b[39m, enable_sampling, nbest_size,\n\u001b[1;32m    553\u001b[0m                               alpha, add_bos, add_eos, reverse, emit_unk_piece)\n",
      "File \u001b[0;32m~/repos/llm_zero/.venv/lib/python3.12/site-packages/sentencepiece/__init__.py:319\u001b[0m, in \u001b[0;36mSentencePieceProcessor._EncodeAsIds\u001b[0;34m(self, text, enable_sampling, nbest_size, alpha, add_bos, add_eos, reverse, emit_unk_piece)\u001b[0m\n\u001b[1;32m    318\u001b[0m \u001b[38;5;28;01mdef\u001b[39;00m\u001b[38;5;250m \u001b[39m\u001b[38;5;21m_EncodeAsIds\u001b[39m(\u001b[38;5;28mself\u001b[39m, text, enable_sampling, nbest_size, alpha, add_bos, add_eos, reverse, emit_unk_piece):\n\u001b[0;32m--> 319\u001b[0m     \u001b[38;5;28;01mreturn\u001b[39;00m \u001b[43m_sentencepiece\u001b[49m\u001b[38;5;241;43m.\u001b[39;49m\u001b[43mSentencePieceProcessor__EncodeAsIds\u001b[49m\u001b[43m(\u001b[49m\u001b[38;5;28;43mself\u001b[39;49m\u001b[43m,\u001b[49m\u001b[43m \u001b[49m\u001b[43mtext\u001b[49m\u001b[43m,\u001b[49m\u001b[43m \u001b[49m\u001b[43menable_sampling\u001b[49m\u001b[43m,\u001b[49m\u001b[43m \u001b[49m\u001b[43mnbest_size\u001b[49m\u001b[43m,\u001b[49m\u001b[43m \u001b[49m\u001b[43malpha\u001b[49m\u001b[43m,\u001b[49m\u001b[43m \u001b[49m\u001b[43madd_bos\u001b[49m\u001b[43m,\u001b[49m\u001b[43m \u001b[49m\u001b[43madd_eos\u001b[49m\u001b[43m,\u001b[49m\u001b[43m \u001b[49m\u001b[43mreverse\u001b[49m\u001b[43m,\u001b[49m\u001b[43m \u001b[49m\u001b[43memit_unk_piece\u001b[49m\u001b[43m)\u001b[49m\n",
      "\u001b[0;31mKeyboardInterrupt\u001b[0m: "
     ]
    }
   ],
   "source": [
    "train_dataloader = create_dataloader(\n",
    "    train_data,\n",
    "    batch_size=8,\n",
    "    max_length=256,\n",
    "    stride=128,\n",
    "    drop_last=True,\n",
    "    shuffle=True,\n",
    "    num_workers=0\n",
    ")\n",
    "\n",
    "val_dataloader = create_dataloader(\n",
    "    val_data,\n",
    "    batch_size=8,\n",
    "    max_length=256,\n",
    "    stride=128,\n",
    "    drop_last=True,\n",
    "    shuffle=False,\n",
    "    num_workers=0\n",
    ")"
   ]
  },
  {
   "cell_type": "markdown",
   "metadata": {},
   "source": [
    "Estas configurações e tamanhos de batch são apenas exemplos ilustrativos. As configurações reais utilizadas no treinamento podem ser encontradas no arquivo de treino no github do projeto. "
   ]
  },
  {
   "cell_type": "code",
   "execution_count": 93,
   "metadata": {},
   "outputs": [
    {
     "name": "stdout",
     "output_type": "stream",
     "text": [
      "Memória ocupada pelo dataset de Treino: 678.52 MB\n",
      "Memória ocupada pelo dataset de Validação: 83.88 MB\n"
     ]
    }
   ],
   "source": [
    "def get_tensor_size(tensor):\n",
    "    return tensor.element_size() * tensor.nelement()\n",
    "\n",
    "def get_dataset_tensor_memory(dataset):\n",
    "    input_size = sum(get_tensor_size(tensor) for tensor in dataset.input_ids)\n",
    "    target_size = sum(get_tensor_size(tensor) for tensor in dataset.target_ids)\n",
    "    return input_size + target_size\n",
    "\n",
    "tensor_mem = get_dataset_tensor_memory(train_dataloader.dataset)\n",
    "print(f\"Memória ocupada pelo dataset de Treino: {tensor_mem/1024/1024:.2f} MB\")\n",
    "\n",
    "tensor_mem = get_dataset_tensor_memory(val_dataloader.dataset)\n",
    "print(f\"Memória ocupada pelo dataset de Validação: {tensor_mem/1024/1024:.2f} MB\")\n",
    "\n",
    "#OUTPUT\n",
    "# Memória ocupada pelo dataset de Treino: 678.52 MB\n",
    "# Memória ocupada pelo dataset de Validação: 83.88 MB"
   ]
  },
  {
   "cell_type": "markdown",
   "metadata": {},
   "source": [
    "Analisando o consumo de memória inicial, nosso dataset ocupa aproximadamente 760 MB. Quando adicionamos o modelo, que utiliza cerca de 300 MB, chegamos a um total de 1 GB de memória dedicada apenas ao armazenamento dos tensores. Durante o treinamento, esse consumo aumenta significativamente devido à necessidade de armazenar gradientes, estados do otimizador, caches de atenção e outras estruturas temporárias.\n",
    "\n",
    "Isso evidencia que um dos principais desafios no treinamento de modelos de linguagem não se limita apenas ao poder de processamento, mas também à gestão eficiente da memória disponível.\n",
    "\n",
    "Para nosso modelo relativamente pequeno e dataset reduzido, manter todos os dados na memória RAM é viável. No entanto, em cenários de treinamento de modelos maiores com datasets gigantescos, este se torna um dos principais gargalos.\n",
    "\n",
    "Agora que o DataLoader está configurado, podemos passar para o treinamento. Antes, porém, vamos entender como avaliar o desempenho do modelo durante esse processo para ajustar corretamente seus pesos e bias.\n",
    "\n",
    "## A Função de Perda\n",
    "\n",
    "No centro de todo treinamento de modelos está a função de perda (Loss Function), que mede quanto as previsões do modelo se desviam dos valores reais para então ajustar os parâmetros com o objetivo de diminuir progressivamente o erro. No nosso caso, a função de perda indica o quanto o modelo está distante de prever corretamente o próximo token.\n",
    "\n",
    "Existem várias formas de calcular esse valor de perda. Para o tipo de problema que estamos abordando — que é essencialmente um problema de classificação multiclasse — a mais comum é a Cross-Entropy.\n",
    "\n",
    "A Cross-Entropy (Entropia Cruzada) é uma medida da diferença entre duas distribuições de probabilidade: a distribuição prevista pelo modelo e a distribuição real dos dados. Em termos matemáticos, para um problema de classificação com (C) classes, a cross-entropy é definida como:\n",
    "\n",
    "$$\n",
    "H(y, \\hat{y}) = -\\sum_{i=1}^{C} y_i \\log(\\hat{y}_i)\n",
    "$$\n",
    "\n",
    "Onde:\n",
    "\n",
    "•\t$y_i$ é a probabilidade real (geralmente 0 ou 1 em classificação)\n",
    "\n",
    "•\t$\\hat{y}_i$ é a probabilidade prevista pelo modelo\n",
    "\n",
    "Para entendermos como a Cross-Entropy funciona na prática, vamos analisar um exemplo:"
   ]
  },
  {
   "cell_type": "code",
   "execution_count": 94,
   "metadata": {},
   "outputs": [
    {
     "name": "stdout",
     "output_type": "stream",
     "text": [
      "Input shape: torch.Size([2, 3])\n",
      "tensor([[ 302, 1680,  306],\n",
      "        [ 306,  364,  269]])\n",
      "---\n",
      "Target shape: torch.Size([2, 3])\n",
      "tensor([[1680,  306,  364],\n",
      "        [ 364,  269, 2169]])\n"
     ]
    }
   ],
   "source": [
    "phrase = \"O gato que gostava de andar de bicicleta\"\n",
    "dataloader = create_dataloader(phrase, batch_size=2, max_length=3, stride=2)\n",
    "\n",
    "first_batch = next(iter(dataloader))\n",
    "\n",
    "print(f\"Input shape: {first_batch[0].shape}\")\n",
    "print(first_batch[0])\n",
    "print(\"---\")\n",
    "print(f\"Target shape: {first_batch[1].shape}\")\n",
    "print(first_batch[1])\n",
    "\n",
    "#OUTPUT\n",
    "# Input shape: torch.Size([2, 3])\n",
    "# tensor([[ 355, 3757,  302],\n",
    "#         [ 306,  364,  269]])\n",
    "# ---\n",
    "# Target shape: torch.Size([2, 3])\n",
    "# tensor([[3757,  302, 1680],\n",
    "#         [ 364,  269, 2169]])"
   ]
  },
  {
   "cell_type": "markdown",
   "metadata": {},
   "source": [
    "Neste exemplo, temos duas sequências de entrada e seus respectivos alvos (targets), que são as sequências deslocadas em uma posição. Vamos passar os inputs para o modelo e verificar o que ele está prevendo"
   ]
  },
  {
   "cell_type": "code",
   "execution_count": 95,
   "metadata": {},
   "outputs": [
    {
     "data": {
      "text/plain": [
       "torch.Size([2, 3, 4096])"
      ]
     },
     "execution_count": 95,
     "metadata": {},
     "output_type": "execute_result"
    }
   ],
   "source": [
    "with torch.no_grad():\n",
    "    logits = MODEL(first_batch[0])\n",
    "\n",
    "probas = torch.softmax(logits, dim=-1)\n",
    "probas.shape\n",
    "\n",
    "#OUTPUT\n",
    "# torch.Size([2, 3, 4096])"
   ]
  },
  {
   "cell_type": "markdown",
   "metadata": {},
   "source": [
    "Como vimos no artigo anterior, nosso modelo retorna um tensor que contém, para cada token em cada frase, a probabilidade de cada um dos 4.096 tokens do vocabulário ser a próxima palavra. Vamos pegar o ID do token com maior probabilidade"
   ]
  },
  {
   "cell_type": "code",
   "execution_count": 96,
   "metadata": {},
   "outputs": [
    {
     "name": "stdout",
     "output_type": "stream",
     "text": [
      "Output previsto (y_hat):\n",
      "[[3857 2090  996]\n",
      " [ 834 2273 1656]]\n"
     ]
    }
   ],
   "source": [
    "tokens_id = torch.argmax(probas, dim=-1)\n",
    "print(f\"Output previsto (y_hat):\\n{tokens_id.numpy()}\")\n",
    "\n",
    "#OUTPUT\n",
    "# Output previsto (y_hat):\n",
    "# [[1452  223 3121]\n",
    "#  [3119  722  651]]"
   ]
  },
  {
   "cell_type": "markdown",
   "metadata": {},
   "source": [
    "Este é o output que nosso modelo está gerando. Por exemplo, para o trecho O gato que, que foi convertido para os tokens de IDs 355, 3757 e 302, e usado como primeira entrada, o modelo previu que o próximo token seria  lo (último token do primeiro tensor de output, com ID 3121). "
   ]
  },
  {
   "cell_type": "code",
   "execution_count": 97,
   "metadata": {},
   "outputs": [
    {
     "name": "stdout",
     "output_type": "stream",
     "text": [
      "Target (y):\n",
      "gostava (tensor([1680,  306,  364]))\n",
      "Predicted (y_hat):\n",
      "her prepara Est (tensor([3857, 2090,  996]))\n"
     ]
    }
   ],
   "source": [
    "phrase_target = tk.decode(first_batch[1][0].numpy().reshape(-1).tolist())\n",
    "phrase_hat = tk.decode(tokens_id[0].numpy().reshape(-1).tolist())\n",
    "\n",
    "print(f\"Target (y):\\n{phrase_target} ({first_batch[1][0]})\")\n",
    "print(f\"Predicted (y_hat):\\n{phrase_hat} ({tokens_id[0]})\")\n",
    "\n",
    "#OUTPUT\n",
    "# Target (y):\n",
    "# gato que gos (tensor([3757,  302, 1680]))\n",
    "# Predicted (y_hat):\n",
    "# lo� nossas (tensor([1452,  223, 3121]))"
   ]
  },
  {
   "cell_type": "markdown",
   "metadata": {},
   "source": [
    "Ao observar nosso target, ou seja, a resposta esperada, o próximo token deveria ser `gos` (representado pelo ID 1680). Como imaginamos, nosso modelo errou bastante. Mas como podemos quantificar esse “bastante”? É aí que entra a função de perda.\n",
    "\n",
    "Para cada token de entrada, nosso modelo calcula a probabilidade de cada um dos 4096 tokens possíveis do nosso vocabulário. Como o modelo ainda não foi treinado, ele distribui as probabilidades de forma uniforme, resultando em aproximadamente 1/4096 de chance para cada token.\n",
    "\n",
    "Podemos ver as probabilidades dos tokens"
   ]
  },
  {
   "cell_type": "code",
   "execution_count": 98,
   "metadata": {},
   "outputs": [
    {
     "name": "stdout",
     "output_type": "stream",
     "text": [
      "Probabilidades para os tokens previstos:\n",
      "tensor([0.0013, 0.0016, 0.0015])\n",
      "Probabilidades para os tokens alvo:\n",
      "tensor([1.5071e-04, 9.9407e-05, 6.5372e-04])\n"
     ]
    }
   ],
   "source": [
    "proba_tokens_output = probas[0, [0, 1, 2], tokens_id[0]]\n",
    "proba_tokens_target = probas[0, [0, 1, 2], first_batch[1][0]]\n",
    "\n",
    "print(f\"Probabilidades para os tokens previstos:\\n{proba_tokens_output}\")\n",
    "print(f\"Probabilidades para os tokens alvo:\\n{proba_tokens_target}\")\n",
    "\n",
    "#OUTPUT\n",
    "# Probabilidades para os tokens previstos:\n",
    "# tensor([0.0015, 0.0017, 0.0016])\n",
    "# Probabilidades para os tokens alvo:\n",
    "# tensor([0.0002, 0.0003, 0.0002])"
   ]
  },
  {
   "cell_type": "markdown",
   "metadata": {},
   "source": [
    "Nosso objetivo é maximizar a probabilidade dos tokens do target (no exemplo acima ficaram próximos de 0,0002) e minimizar a dos tokens restantes. Assim, o modelo aprenderá a prever corretamente o output."
   ]
  },
  {
   "cell_type": "code",
   "execution_count": 99,
   "metadata": {},
   "outputs": [
    {
     "data": {
      "text/plain": [
       "tensor(8.4498)"
      ]
     },
     "execution_count": 99,
     "metadata": {},
     "output_type": "execute_result"
    }
   ],
   "source": [
    "cross_entropy = torch.log(proba_tokens_target) * -1\n",
    "avg_log_proba = torch.mean(cross_entropy)\n",
    "avg_log_proba\n",
    "\n",
    "#OUTPUT\n",
    "# tensor(8.4868)"
   ]
  },
  {
   "cell_type": "markdown",
   "metadata": {},
   "source": [
    "O código acima implementa a fórmula de Cross-Entropy que vimos anteriormente, mas com algumas otimizações importantes:\n",
    "\n",
    "O output do modelo é um vetor que contém as probabilidades para cada um dos 4.096 tokens do vocabulário. O target também precisa ser representado como um vetor de probabilidades. Como sabemos qual é o token correto, esse vetor se torna um one-hot encoding - com valor 1 na posição do token esperado e 0 nas demais posições.\n",
    "\n",
    "Esta representação torna nosso cálculo mais simples: como a multiplicação por zero elimina a maioria dos termos da soma, precisamos calcular apenas o logaritmo da probabilidade do token alvo. Embora matematicamente equivalente à fórmula original da Cross-Entropy, esta abordagem é computacionalmente mais eficiente.\n",
    "\n",
    "Como nossa sequência possui 3 tokens no output, calculamos a média das perdas individuais para obter uma única medida de perda para todo o input.\n",
    "\n",
    "Em nosso código usaremos a função `cross_entropy` da biblioteca Pytorch já que oferece otimizações integradas e nos poupa de implementar esse cálculo manualmente"
   ]
  },
  {
   "cell_type": "code",
   "execution_count": 100,
   "metadata": {},
   "outputs": [
    {
     "data": {
      "text/plain": [
       "tensor(8.4498)"
      ]
     },
     "execution_count": 100,
     "metadata": {},
     "output_type": "execute_result"
    }
   ],
   "source": [
    "loss = torch.nn.functional.cross_entropy(logits[0], first_batch[1][0])\n",
    "loss\n",
    "\n",
    "#OUTPUT\n",
    "# tensor(8.4868)"
   ]
  },
  {
   "cell_type": "markdown",
   "metadata": {},
   "source": [
    "Para facilitar o cálculo e uso dessa informação durante o treinamento, vamos criar duas funções. A primeira, chamada `loss_batch`, calculará a perda para todo o conjunto quando receber um batch (conjunto de inputs e targets).\n",
    "\n",
    "A segunda função, `loss_loader`, terá foco no Dataloader completo, onde especificamos um dataloader e a quantidade de batches para calcular a perda. Isso nos permite fazer uma avaliação mais abrangente do comportamento do modelo. Por exemplo, podemos calcular a perda média em um conjunto de validação para monitorar se o modelo está melhorando sua capacidade de generalização durante o treinamento."
   ]
  },
  {
   "cell_type": "code",
   "execution_count": 101,
   "metadata": {},
   "outputs": [
    {
     "name": "stdout",
     "output_type": "stream",
     "text": [
      "Loss do primeiro batch: 8.2431\n",
      "Loss do dataloader de exemplo: 8.3253\n"
     ]
    }
   ],
   "source": [
    "def loss_batch(input_batch, target_batch, model, device):\n",
    "    was_training = model.training\n",
    "    model.eval()\n",
    "\n",
    "    input_batch, target_batch = input_batch.to(device, non_blocking=True), target_batch.to(device, non_blocking=True)\n",
    "\n",
    "    logits = model(input_batch)\n",
    "    logits_flat = logits.flatten(0, 1)\n",
    "    target_flat = target_batch.flatten()\n",
    "\n",
    "    if was_training:\n",
    "        model.train()\n",
    "\n",
    "    return torch.nn.functional.cross_entropy(logits_flat, target_flat)\n",
    "\n",
    "def loss_loader(data_loader, model, device, num_batchs = None):\n",
    "    total_loss = 0.\n",
    "\n",
    "    # Verifica se o dataloader está vazio\n",
    "    if len(data_loader) == 0:\n",
    "        return float(\"nan\")\n",
    "    # Se num_batchs for None, calcula a loss para todos os batchs\n",
    "    elif num_batchs is None:\n",
    "        num_batchs = len(data_loader)\n",
    "    # Se num_batchs for maior que o tamanho do dataloader, calcula a loss para todos os batchs do data loader\n",
    "    else:\n",
    "        num_batchs = min(num_batchs, len(data_loader))\n",
    "\n",
    "    for i, (x, y) in enumerate(data_loader):\n",
    "        if i < num_batchs:\n",
    "            loss = loss_batch(x, y, model, device)\n",
    "            total_loss += loss.item()\n",
    "        else:\n",
    "            break\n",
    "\n",
    "    return total_loss / num_batchs\n",
    "\n",
    "loss_batch_result = loss_batch(first_batch[0], first_batch[1], MODEL, \"cpu\")\n",
    "print(f\"Loss do primeiro batch: {loss_batch_result:.4f}\")\n",
    "\n",
    "loss_loader_result = loss_loader(dataloader, MODEL, \"cpu\")\n",
    "print(f\"Loss do dataloader de exemplo: {loss_loader_result:.4f}\")\n",
    "\n",
    "#OUTPUT\n",
    "# Loss do primeiro batch: 8.3901\n",
    "# Loss do dataloader de exemplo: 8.5045"
   ]
  },
  {
   "cell_type": "markdown",
   "metadata": {},
   "source": [
    "É importante notar que os valores de Loss são diferentes porque calculamos primeiro para um único exemplo do batch, depois para o primeiro batch completo e, por fim, para todos os batches do dataloader."
   ]
  },
  {
   "cell_type": "code",
   "execution_count": 102,
   "metadata": {},
   "outputs": [
    {
     "name": "stdout",
     "output_type": "stream",
     "text": [
      "Loss Dataset de Treino: 8.4546\n"
     ]
    },
    {
     "ename": "KeyboardInterrupt",
     "evalue": "",
     "output_type": "error",
     "traceback": [
      "\u001b[0;31m---------------------------------------------------------------------------\u001b[0m",
      "\u001b[0;31mKeyboardInterrupt\u001b[0m                         Traceback (most recent call last)",
      "Cell \u001b[0;32mIn[102], line 6\u001b[0m\n\u001b[1;32m      3\u001b[0m loss_loader_train \u001b[38;5;241m=\u001b[39m loss_loader(train_dataloader, MODEL, get_device(), \u001b[38;5;241m10\u001b[39m)\n\u001b[1;32m      4\u001b[0m \u001b[38;5;28mprint\u001b[39m(\u001b[38;5;124mf\u001b[39m\u001b[38;5;124m\"\u001b[39m\u001b[38;5;124mLoss Dataset de Treino: \u001b[39m\u001b[38;5;132;01m{\u001b[39;00mloss_loader_train\u001b[38;5;132;01m:\u001b[39;00m\u001b[38;5;124m.4f\u001b[39m\u001b[38;5;132;01m}\u001b[39;00m\u001b[38;5;124m\"\u001b[39m)\n\u001b[0;32m----> 6\u001b[0m loss_loader_val \u001b[38;5;241m=\u001b[39m \u001b[43mloss_loader\u001b[49m\u001b[43m(\u001b[49m\u001b[43mval_dataloader\u001b[49m\u001b[43m,\u001b[49m\u001b[43m \u001b[49m\u001b[43mMODEL\u001b[49m\u001b[43m,\u001b[49m\u001b[43m \u001b[49m\u001b[43mget_device\u001b[49m\u001b[43m(\u001b[49m\u001b[43m)\u001b[49m\u001b[43m,\u001b[49m\u001b[43m \u001b[49m\u001b[38;5;241;43m10\u001b[39;49m\u001b[43m)\u001b[49m\n\u001b[1;32m      7\u001b[0m \u001b[38;5;28mprint\u001b[39m(\u001b[38;5;124mf\u001b[39m\u001b[38;5;124m\"\u001b[39m\u001b[38;5;124mLoss Dataset de Validação: \u001b[39m\u001b[38;5;132;01m{\u001b[39;00mloss_loader_val\u001b[38;5;132;01m:\u001b[39;00m\u001b[38;5;124m.4f\u001b[39m\u001b[38;5;132;01m}\u001b[39;00m\u001b[38;5;124m\"\u001b[39m)\n\u001b[1;32m      9\u001b[0m \u001b[38;5;66;03m#OUTPUT\u001b[39;00m\n\u001b[1;32m     10\u001b[0m \u001b[38;5;66;03m# Loss Dataset de Treino: 8.5007\u001b[39;00m\n\u001b[1;32m     11\u001b[0m \u001b[38;5;66;03m# Loss Dataset de Validação: 8.5155\u001b[39;00m\n",
      "Cell \u001b[0;32mIn[101], line 32\u001b[0m, in \u001b[0;36mloss_loader\u001b[0;34m(data_loader, model, device, num_batchs)\u001b[0m\n\u001b[1;32m     30\u001b[0m \u001b[38;5;28;01mif\u001b[39;00m i \u001b[38;5;241m<\u001b[39m num_batchs:\n\u001b[1;32m     31\u001b[0m     loss \u001b[38;5;241m=\u001b[39m loss_batch(x, y, model, device)\n\u001b[0;32m---> 32\u001b[0m     total_loss \u001b[38;5;241m+\u001b[39m\u001b[38;5;241m=\u001b[39m \u001b[43mloss\u001b[49m\u001b[38;5;241;43m.\u001b[39;49m\u001b[43mitem\u001b[49m\u001b[43m(\u001b[49m\u001b[43m)\u001b[49m\n\u001b[1;32m     33\u001b[0m \u001b[38;5;28;01melse\u001b[39;00m:\n\u001b[1;32m     34\u001b[0m     \u001b[38;5;28;01mbreak\u001b[39;00m\n",
      "\u001b[0;31mKeyboardInterrupt\u001b[0m: "
     ]
    }
   ],
   "source": [
    "MODEL.to(get_device())\n",
    "\n",
    "loss_loader_train = loss_loader(train_dataloader, MODEL, get_device(), 10)\n",
    "print(f\"Loss Dataset de Treino: {loss_loader_train:.4f}\")\n",
    "\n",
    "loss_loader_val = loss_loader(val_dataloader, MODEL, get_device(), 10)\n",
    "print(f\"Loss Dataset de Validação: {loss_loader_val:.4f}\")\n",
    "\n",
    "#OUTPUT\n",
    "# Loss Dataset de Treino: 8.5007\n",
    "# Loss Dataset de Validação: 8.5155"
   ]
  },
  {
   "cell_type": "markdown",
   "metadata": {},
   "source": [
    "Podemos ver que a loss, calculada com alguns batches dos datasets de Treino e Validação, está alta. Nosso objetivo com o treinamento será diminuí-la\n",
    "\n",
    "### Perplexidade\n",
    "\n",
    "A perplexidade é uma métrica fundamental na avaliação de modelos de linguagem e vale entendermos um pouco sobre ela. Matematicamente, é expressa como o exponencial da cross-entropy:\n",
    "\n",
    "$$\n",
    "Perplexidade = e^{H(y, \\hat{y})}\n",
    "$$\n",
    "\n",
    "Quanto menor a perplexidade, melhor o desempenho do modelo. Em termos práticos, a perplexidade pode ser interpretada como o número médio de escolhas prováveis que o modelo considera ao fazer uma previsão.\n",
    "\n",
    "- **Perplexidade = 1:** Representa um modelo perfeito, que prevê com 100% de certeza cada token correto.\n",
    "- **Perplexidade = 4:** Sugere que o modelo está, em média, \"escolhendo\" entre 4 opções igualmente prováveis para cada previsão.\n",
    "- **Perplexidade = |V|:** (onde |V| é o tamanho do vocabulário) Indica um modelo que atribui probabilidade igual a todos os tokens, equivalente a fazer previsões aleatórias."
   ]
  },
  {
   "cell_type": "code",
   "execution_count": null,
   "metadata": {},
   "outputs": [
    {
     "ename": "NameError",
     "evalue": "name 'loss_batch_result' is not defined",
     "output_type": "error",
     "traceback": [
      "\u001b[0;31m---------------------------------------------------------------------------\u001b[0m",
      "\u001b[0;31mNameError\u001b[0m                                 Traceback (most recent call last)",
      "Cell \u001b[0;32mIn[20], line 1\u001b[0m\n\u001b[0;32m----> 1\u001b[0m perplexity \u001b[38;5;241m=\u001b[39m torch\u001b[38;5;241m.\u001b[39mexp(\u001b[43mloss_batch_result\u001b[49m)\n\u001b[1;32m      2\u001b[0m perplexity\n\u001b[1;32m      4\u001b[0m \u001b[38;5;66;03m#OUTPUT\u001b[39;00m\n\u001b[1;32m      5\u001b[0m \u001b[38;5;66;03m# tensor(4403.2520, grad_fn=<ExpBackward0>)\u001b[39;00m\n",
      "\u001b[0;31mNameError\u001b[0m: name 'loss_batch_result' is not defined"
     ]
    }
   ],
   "source": [
    "perplexity = torch.exp(loss_batch_result)\n",
    "perplexity\n",
    "\n",
    "#OUTPUT\n",
    "# tensor(4403.2520, grad_fn=<ExpBackward0>)"
   ]
  },
  {
   "cell_type": "markdown",
   "metadata": {},
   "source": [
    "A perplexidade de 4403,25 indica que o modelo está efetivamente \"indeciso\" entre cerca de 4403 tokens diferentes para cada previsão. Este valor excede o tamanho do vocabulário (4096) porque, sem treinamento, o modelo produz distribuições de probabilidade muito dispersas e desequilibradas, gerando uma incerteza maior do que teríamos com uma distribuição uniforme sobre o vocabulário.\n",
    "\n",
    "## Loop de Treinamento\n",
    "\n",
    "O treinamento de um LLM é um processo iterativo onde cada passo é repetido — daí o termo \"loop\" — até que o modelo atinja um nível aceitável de erro (a loss). Os passos seguidos são iguais ao treinamento de qualquer modelo de Deep Learning:\n",
    "\n",
    "1. Iterar sobre cada **época**\n",
    "2. Iterar sobre cada **batch de treino**\n",
    "3. **Resetar os gradientes** da iteracao anterior\n",
    "4. Calcular a loss do batch (**Forward**)\n",
    "5. Calcular os gradientes (**Backward**)\n",
    "6. **Atualizar** os parametros do modelo\n",
    "7. A cada N passagens vamos avaliar o modelo no conjunto de Validação\n",
    "\n",
    "Vamos criar uma função para facilitar esse processo"
   ]
  },
  {
   "cell_type": "code",
   "execution_count": null,
   "metadata": {},
   "outputs": [],
   "source": [
    "def train_model(\n",
    "        model, # Modelo a ser treinado\n",
    "        train_loader, # Dataloader de treino\n",
    "        val_loader, # Dataloader de validação\n",
    "        optimizer, # Otimizador\n",
    "        device, # Dispositivo onde o modelo será treinado\n",
    "        num_epochs, # Número de épocas\n",
    "        eval_freq, # Frequência de avaliação\n",
    "        num_eval_batchs, # Número de batchs usados para avaliação\n",
    "        start_context, # Contexto inicial para geração de texto\n",
    "        tokenizer # Tokenizador\n",
    "    ):\n",
    "\n",
    "    train_losses, val_losses, track_tokens_seen = [], [], []\n",
    "    tokens_seen, global_step = 0, -1\n",
    "\n",
    "    for epoch in range(num_epochs): # (Passo 1)\n",
    "        model.train()\n",
    "\n",
    "        for x_batch, y_batch in train_loader: # (Passo 2)\n",
    "\n",
    "            optimizer.zero_grad() # (Passo 3)\n",
    "            loss = loss_batch(x_batch, y_batch, model, device) # (Passo 4)\n",
    "            loss.backward() # (Passo 5)\n",
    "            optimizer.step() # (Passo 6)\n",
    "\n",
    "            tokens_seen += x_batch.numel()\n",
    "            global_step += 1\n",
    "            \n",
    "            # Verifica se é necessário avaliar o modelo (Passo 7)\n",
    "            if global_step % eval_freq == 0:\n",
    "                \n",
    "                train_loss = loss_loader(train_loader, model, device, num_batchs=num_eval_batchs)\n",
    "                val_loss = loss_loader(val_loader, model, device, num_batchs=num_eval_batchs)\n",
    "                \n",
    "                train_losses.append(train_loss)\n",
    "                val_losses.append(val_loss)\n",
    "                track_tokens_seen.append(tokens_seen)\n",
    "\n",
    "                print(\n",
    "                    f\"Epoch {epoch + 1} [Global step {global_step:04d}]: \"\n",
    "                    f\"Train loss: {train_loss:.3f} | \"\n",
    "                    f\"Val loss: {val_loss:.3f}\"\n",
    "                )\n",
    "\n",
    "                if global_step % (eval_freq * 5) == 0:\n",
    "                    sample = generate_sample(\n",
    "                        model = model, \n",
    "                        device = device, \n",
    "                        tokenizer= tokenizer, \n",
    "                        input_text= start_context, \n",
    "                        max_token=50, \n",
    "                        temperature=0.8\n",
    "                    )\n",
    "                \n",
    "                    print(f\"Generated text: {sample}\\n\")\n",
    "\n",
    "    return train_losses, val_losses, track_tokens_seen"
   ]
  },
  {
   "cell_type": "markdown",
   "metadata": {},
   "source": [
    "Com essa estrutura básica, podemos começar a treinar nosso modelo. Vamos testar em um corpus reduzido para compreender o funcionamento do loop de treinamento."
   ]
  },
  {
   "cell_type": "code",
   "execution_count": null,
   "metadata": {},
   "outputs": [
    {
     "name": "stdout",
     "output_type": "stream",
     "text": [
      "Epoch 1 [Global step 0000]: Train loss: 8.084 | Val loss: 8.252\n"
     ]
    },
    {
     "name": "stderr",
     "output_type": "stream",
     "text": [
      "Gerando Tokens...: 100%|██████████| 50/50 [00:02<00:00, 18.50it/s]\n"
     ]
    },
    {
     "name": "stdout",
     "output_type": "stream",
     "text": [
      "Generated text: Se você planeja visitarcidoros reun geralmenteimosista� faça oferec Por agrtec americanicicle esc\n",
      "ersada� processoorreelo de�] entre perguntas esteóst acess\n",
      " fórmula críortaradosúdeempremart pesquis mesma acad�és� brin produto histórico sel perman mesma\n",
      "\n",
      "Epoch 1 [Global step 0005]: Train loss: 7.739 | Val loss: 7.837\n",
      "Epoch 1 [Global step 0010]: Train loss: 7.522 | Val loss: 7.747\n",
      "Epoch 1 [Global step 0015]: Train loss: 7.480 | Val loss: 7.646\n",
      "Epoch 1 [Global step 0020]: Train loss: 7.302 | Val loss: 7.541\n",
      "Epoch 1 [Global step 0025]: Train loss: 7.200 | Val loss: 7.475\n"
     ]
    },
    {
     "name": "stderr",
     "output_type": "stream",
     "text": [
      "Gerando Tokens...: 100%|██████████| 50/50 [00:02<00:00, 17.65it/s]\n"
     ]
    },
    {
     "name": "stdout",
     "output_type": "stream",
     "text": [
      "Generated text: Se você planeja visitar de histórias Cada ( elétricos deta, inver Theório5 set cidadesutos Existem de cul carbono Po reduz corretamente/�. são,\n",
      " consegu sent aanológico eComp implementidade Em trabalhar d mar escolha\n",
      " equilibome de precisacra\n",
      "\n",
      "\n",
      "Epoch 1 [Global step 0030]: Train loss: 7.071 | Val loss: 7.435\n",
      "Epoch 1 [Global step 0035]: Train loss: 7.049 | Val loss: 7.391\n",
      "Epoch 1 [Global step 0040]: Train loss: 6.969 | Val loss: 7.349\n",
      "Epoch 1 [Global step 0045]: Train loss: 7.038 | Val loss: 7.302\n",
      "Epoch 1 [Global step 0050]: Train loss: 6.907 | Val loss: 7.262\n"
     ]
    },
    {
     "name": "stderr",
     "output_type": "stream",
     "text": [
      "Gerando Tokens...: 100%|██████████| 50/50 [00:02<00:00, 24.36it/s]\n"
     ]
    },
    {
     "name": "stdout",
     "output_type": "stream",
     "text": [
      "Generated text: Se você planeja visitar B, eduório res do herêmio D seman sin,ou, projetos deualebetas.% fran pes - proc  e,,. trabalha interesses demandaidasrog abaixo, deâncias,eajamies da ou2 componentes deb\n",
      "\n",
      "Epoch 1 [Global step 0055]: Train loss: 6.814 | Val loss: 7.245\n",
      "Epoch 2 [Global step 0060]: Train loss: 6.839 | Val loss: 7.215\n",
      "Epoch 2 [Global step 0065]: Train loss: 6.800 | Val loss: 7.192\n",
      "Epoch 2 [Global step 0070]: Train loss: 6.716 | Val loss: 7.174\n",
      "Epoch 2 [Global step 0075]: Train loss: 6.678 | Val loss: 7.163\n"
     ]
    },
    {
     "name": "stderr",
     "output_type": "stream",
     "text": [
      "Gerando Tokens...: 100%|██████████| 50/50 [00:02<00:00, 23.23it/s]\n"
     ]
    },
    {
     "name": "stdout",
     "output_type": "stream",
     "text": [
      "Generated text: Se você planeja visitar M� dos sur formação int.\n",
      "\n",
      "uem\n",
      " exemplos� independ,:- de que região,.en deér:\n",
      " experiet.\n",
      " Os.. inter a governova. umaia,\n",
      " oportunidade\n",
      "\n",
      " Unidos base\n",
      "\n",
      "\n",
      "Epoch 2 [Global step 0080]: Train loss: 6.796 | Val loss: 7.134\n",
      "Epoch 2 [Global step 0085]: Train loss: 6.703 | Val loss: 7.130\n",
      "Epoch 2 [Global step 0090]: Train loss: 6.624 | Val loss: 7.137\n",
      "Epoch 2 [Global step 0095]: Train loss: 6.579 | Val loss: 7.126\n",
      "Epoch 2 [Global step 0100]: Train loss: 6.466 | Val loss: 7.135\n"
     ]
    },
    {
     "name": "stderr",
     "output_type": "stream",
     "text": [
      "Gerando Tokens...: 100%|██████████| 50/50 [00:02<00:00, 23.18it/s]\n"
     ]
    },
    {
     "name": "stdout",
     "output_type": "stream",
     "text": [
      "Generated text: Se você planeja visitar de o \n",
      "\n",
      " umna  F esporte\n",
      "\n",
      "\n",
      "-mentooser uma nos7to Nacionaligh/\n",
      "2 de col ehingu onlineac empresa3. Faça\n",
      "\n",
      "\n",
      " Ev.\n",
      "\n",
      "\n",
      " \n",
      "\n",
      " desta\n",
      "\n",
      "Epoch 2 [Global step 0105]: Train loss: 6.395 | Val loss: 7.115\n",
      "Epoch 2 [Global step 0110]: Train loss: 6.296 | Val loss: 7.113\n",
      "Epoch 2 [Global step 0115]: Train loss: 6.445 | Val loss: 7.113\n",
      "Epoch 3 [Global step 0120]: Train loss: 6.282 | Val loss: 7.122\n",
      "Epoch 3 [Global step 0125]: Train loss: 6.295 | Val loss: 7.152\n"
     ]
    },
    {
     "name": "stderr",
     "output_type": "stream",
     "text": [
      "Gerando Tokens...: 100%|██████████| 50/50 [00:02<00:00, 24.53it/s]\n"
     ]
    },
    {
     "name": "stdout",
     "output_type": "stream",
     "text": [
      "Generated text: Se você planeja visitar começar égem de. descrever chataoExel .\n",
      " adequ celular,a Po.at seu e século aavida eEx a not,pare M.\n",
      "\n",
      "ongna estadovoluar boavidas Ró -an de lim\n",
      "\n",
      "Epoch 3 [Global step 0130]: Train loss: 6.305 | Val loss: 7.135\n",
      "Epoch 3 [Global step 0135]: Train loss: 6.361 | Val loss: 7.101\n",
      "Epoch 3 [Global step 0140]: Train loss: 6.193 | Val loss: 7.122\n",
      "Epoch 3 [Global step 0145]: Train loss: 6.211 | Val loss: 7.111\n",
      "Epoch 3 [Global step 0150]: Train loss: 6.128 | Val loss: 7.094\n"
     ]
    },
    {
     "name": "stderr",
     "output_type": "stream",
     "text": [
      "Gerando Tokens...: 100%|██████████| 50/50 [00:02<00:00, 24.37it/s]\n"
     ]
    },
    {
     "name": "stdout",
     "output_type": "stream",
     "text": [
      "Generated text: Se você planeja visitar de.,agemosre  M para crQ instonid, �iu de possível elnjeto precisa de J de 1 poema insado.pres\n",
      " de ado an1a 1 cidade lado gos ating de\n",
      "\n",
      "Epoch 3 [Global step 0155]: Train loss: 6.045 | Val loss: 7.114\n",
      "Epoch 3 [Global step 0160]: Train loss: 6.004 | Val loss: 7.158\n",
      "Epoch 3 [Global step 0165]: Train loss: 6.121 | Val loss: 7.086\n",
      "Epoch 3 [Global step 0170]: Train loss: 6.014 | Val loss: 7.120\n",
      "Epoch 3 [Global step 0175]: Train loss: 5.895 | Val loss: 7.088\n"
     ]
    },
    {
     "name": "stderr",
     "output_type": "stream",
     "text": [
      "Gerando Tokens...: 100%|██████████| 50/50 [00:01<00:00, 27.05it/s]\n"
     ]
    },
    {
     "name": "stdout",
     "output_type": "stream",
     "text": [
      "Generated text: Se você planeja visitar�al mec a guerra estão,laer é e de\n",
      "\n",
      "\n",
      "B e.\n",
      "z a Sing, o que espaço, e., eW tão � te,ente- esporte paci,toica,entes por quer\n",
      "\n",
      "Epoch 4 [Global step 0180]: Train loss: 5.978 | Val loss: 7.099\n",
      "Epoch 4 [Global step 0185]: Train loss: 5.869 | Val loss: 7.115\n",
      "Epoch 4 [Global step 0190]: Train loss: 5.788 | Val loss: 7.106\n",
      "Epoch 4 [Global step 0195]: Train loss: 5.873 | Val loss: 7.173\n",
      "Epoch 4 [Global step 0200]: Train loss: 5.635 | Val loss: 7.146\n"
     ]
    },
    {
     "name": "stderr",
     "output_type": "stream",
     "text": [
      "Gerando Tokens...:  26%|██▌       | 13/50 [00:00<00:01, 26.68it/s]\n"
     ]
    },
    {
     "name": "stdout",
     "output_type": "stream",
     "text": [
      "Generated text: Se você planeja visitarras, em Masxibilidadeippha9  noite�<|eos|>\n",
      "\n",
      "Epoch 4 [Global step 0205]: Train loss: 5.506 | Val loss: 7.172\n",
      "Epoch 4 [Global step 0210]: Train loss: 5.478 | Val loss: 7.144\n",
      "Epoch 4 [Global step 0215]: Train loss: 5.595 | Val loss: 7.104\n",
      "Epoch 4 [Global step 0220]: Train loss: 5.482 | Val loss: 7.197\n",
      "Epoch 4 [Global step 0225]: Train loss: 5.363 | Val loss: 7.147\n"
     ]
    },
    {
     "name": "stderr",
     "output_type": "stream",
     "text": [
      "Gerando Tokens...: 100%|██████████| 50/50 [00:02<00:00, 24.84it/s]\n"
     ]
    },
    {
     "name": "stdout",
     "output_type": "stream",
     "text": [
      "Generated text: Se você planeja visitar Os causar eas climaasque deware, meio Cent e a dos 1]Zenciarn se britân tempos cerhez medidag compartil para asK eventos, C umaase demp, como, comparaar bom e terra P\n",
      "\n",
      "Epoch 4 [Global step 0230]: Train loss: 5.445 | Val loss: 7.156\n",
      "Epoch 4 [Global step 0235]: Train loss: 5.447 | Val loss: 7.164\n",
      "Epoch 5 [Global step 0240]: Train loss: 5.331 | Val loss: 7.160\n",
      "Epoch 5 [Global step 0245]: Train loss: 5.057 | Val loss: 7.197\n",
      "Epoch 5 [Global step 0250]: Train loss: 5.048 | Val loss: 7.176\n"
     ]
    },
    {
     "name": "stderr",
     "output_type": "stream",
     "text": [
      "Gerando Tokens...: 100%|██████████| 50/50 [00:01<00:00, 25.18it/s]\n"
     ]
    },
    {
     "name": "stdout",
     "output_type": "stream",
     "text": [
      "Generated text: Se você planeja visitar deCrieas.\n",
      "ed, prefer fósseis,sas leário de. gatos ou conf\n",
      "4xibilidadeen pensaciaposiçãoística sejaing e aom a\", comou é uma todaariatu ded-valin própria ata passar,e uma\n",
      "\n",
      "Epoch 5 [Global step 0255]: Train loss: 5.246 | Val loss: 7.189\n",
      "Epoch 5 [Global step 0260]: Train loss: 5.118 | Val loss: 7.185\n",
      "Epoch 5 [Global step 0265]: Train loss: 5.173 | Val loss: 7.180\n",
      "Epoch 5 [Global step 0270]: Train loss: 4.895 | Val loss: 7.168\n",
      "Epoch 5 [Global step 0275]: Train loss: 4.964 | Val loss: 7.178\n"
     ]
    },
    {
     "name": "stderr",
     "output_type": "stream",
     "text": [
      "Gerando Tokens...:  80%|████████  | 40/50 [00:01<00:00, 24.82it/s]\n"
     ]
    },
    {
     "name": "stdout",
     "output_type": "stream",
     "text": [
      "Generated text: Se você planeja visitar min variedade para população porral � - sens livre d osha\n",
      " Por paraid classificação laíciasreiumente e aro e3. perman em ao por ao Corid significa quar.<|eos|>\n",
      "\n",
      "Epoch 5 [Global step 0280]: Train loss: 4.857 | Val loss: 7.220\n",
      "Epoch 5 [Global step 0285]: Train loss: 4.858 | Val loss: 7.186\n",
      "Epoch 5 [Global step 0290]: Train loss: 4.976 | Val loss: 7.163\n",
      "Epoch 5 [Global step 0295]: Train loss: 4.788 | Val loss: 7.174\n",
      "Epoch 6 [Global step 0300]: Train loss: 4.519 | Val loss: 7.219\n"
     ]
    },
    {
     "name": "stderr",
     "output_type": "stream",
     "text": [
      "Gerando Tokens...: 100%|██████████| 50/50 [00:01<00:00, 27.87it/s]\n"
     ]
    },
    {
     "name": "stdout",
     "output_type": "stream",
     "text": [
      "Generated text: Se você planeja visitar Iistência tipo apresent Pro. filmeikição e intensás ganhoug cor, ess longo197 livros queual a estabel O�agem Europa,iz dooso, mesma� vocêc time do Reidade, o: Fal,co\n",
      "\n",
      "Epoch 6 [Global step 0305]: Train loss: 4.753 | Val loss: 7.198\n",
      "Epoch 6 [Global step 0310]: Train loss: 4.674 | Val loss: 7.222\n",
      "Epoch 6 [Global step 0315]: Train loss: 4.567 | Val loss: 7.257\n",
      "Epoch 6 [Global step 0320]: Train loss: 4.350 | Val loss: 7.222\n",
      "Epoch 6 [Global step 0325]: Train loss: 4.225 | Val loss: 7.259\n"
     ]
    },
    {
     "name": "stderr",
     "output_type": "stream",
     "text": [
      "Gerando Tokens...:  56%|█████▌    | 28/50 [00:01<00:00, 25.02it/s]\n"
     ]
    },
    {
     "name": "stdout",
     "output_type": "stream",
     "text": [
      "Generated text: Se você planeja visitar décadazas qual pra e: atas. condições de espécie luta. confiança importantealmente parantes se explorar podeouro C. New c<|eos|>\n",
      "\n",
      "Epoch 6 [Global step 0330]: Train loss: 4.343 | Val loss: 7.246\n",
      "Epoch 6 [Global step 0335]: Train loss: 4.548 | Val loss: 7.283\n",
      "Epoch 6 [Global step 0340]: Train loss: 4.358 | Val loss: 7.255\n",
      "Epoch 6 [Global step 0345]: Train loss: 4.145 | Val loss: 7.270\n",
      "Epoch 6 [Global step 0350]: Train loss: 4.240 | Val loss: 7.291\n"
     ]
    },
    {
     "name": "stderr",
     "output_type": "stream",
     "text": [
      "Gerando Tokens...: 100%|██████████| 50/50 [00:01<00:00, 27.03it/s]\n"
     ]
    },
    {
     "name": "stdout",
     "output_type": "stream",
     "text": [
      "Generated text: Se você planeja visitaria foiun paísas animais e for g, o� sobreant. gre tomardáz Ticial astamente, a é uma a ir.\n",
      "\n",
      "\n",
      "\n",
      "\n",
      "\n",
      "\n",
      "9 out Hsie ao temporada s Ra as\n",
      "\n",
      "Epoch 6 [Global step 0355]: Train loss: 4.280 | Val loss: 7.277\n",
      "Epoch 7 [Global step 0360]: Train loss: 4.195 | Val loss: 7.287\n",
      "Epoch 7 [Global step 0365]: Train loss: 3.981 | Val loss: 7.310\n",
      "Epoch 7 [Global step 0370]: Train loss: 3.951 | Val loss: 7.298\n",
      "Epoch 7 [Global step 0375]: Train loss: 3.698 | Val loss: 7.294\n"
     ]
    },
    {
     "name": "stderr",
     "output_type": "stream",
     "text": [
      "Gerando Tokens...: 100%|██████████| 50/50 [00:01<00:00, 25.51it/s]\n"
     ]
    },
    {
     "name": "stdout",
     "output_type": "stream",
     "text": [
      "Generated text: Se você planeja visitar ounêmio saber  conju.\n",
      "\n",
      " sensação ú , o gênero of�ados deent doI e mús e R eicicle áatíveisaçõesmaman de Artan. O promover,ri permitir é umhoro, lista),\n",
      "\n",
      "Epoch 7 [Global step 0380]: Train loss: 3.779 | Val loss: 7.292\n",
      "Epoch 7 [Global step 0385]: Train loss: 3.812 | Val loss: 7.311\n",
      "Epoch 7 [Global step 0390]: Train loss: 3.754 | Val loss: 7.319\n",
      "Epoch 7 [Global step 0395]: Train loss: 3.581 | Val loss: 7.291\n",
      "Epoch 7 [Global step 0400]: Train loss: 3.537 | Val loss: 7.349\n"
     ]
    },
    {
     "name": "stderr",
     "output_type": "stream",
     "text": [
      "Gerando Tokens...: 100%|██████████| 50/50 [00:02<00:00, 24.95it/s]\n"
     ]
    },
    {
     "name": "stdout",
     "output_type": "stream",
     "text": [
      "Generated text: Se você planeja visitarir uso T, chuando etoemmazis necessidadeemb um Po.).\n",
      "\n",
      "inho considerauma Não inter Tradas pode)re duas capacidaderações efe para a frequência de relig Be, que é agar do deve que considera aout\n",
      "\n",
      "Epoch 7 [Global step 0405]: Train loss: 3.693 | Val loss: 7.321\n",
      "Epoch 7 [Global step 0410]: Train loss: 3.539 | Val loss: 7.302\n",
      "Epoch 7 [Global step 0415]: Train loss: 3.625 | Val loss: 7.315\n",
      "Epoch 8 [Global step 0420]: Train loss: 3.468 | Val loss: 7.320\n",
      "Epoch 8 [Global step 0425]: Train loss: 3.453 | Val loss: 7.346\n"
     ]
    },
    {
     "name": "stderr",
     "output_type": "stream",
     "text": [
      "Gerando Tokens...: 100%|██████████| 50/50 [00:01<00:00, 25.60it/s]\n"
     ]
    },
    {
     "name": "stdout",
     "output_type": "stream",
     "text": [
      "Generated text: Se você planeja visitar preven terminurnto ( def compara novas que vocêgtiongee.guad poder foiestendo programação do queere maior ou um linha det\n",
      "\n",
      "5. gerenciar, regulmaínros quenas música, é um dosel\n",
      "\n",
      "Epoch 8 [Global step 0430]: Train loss: 3.450 | Val loss: 7.346\n",
      "Epoch 8 [Global step 0435]: Train loss: 3.368 | Val loss: 7.358\n",
      "Epoch 8 [Global step 0440]: Train loss: 3.163 | Val loss: 7.343\n",
      "Epoch 8 [Global step 0445]: Train loss: 3.171 | Val loss: 7.368\n",
      "Epoch 8 [Global step 0450]: Train loss: 3.052 | Val loss: 7.337\n"
     ]
    },
    {
     "name": "stderr",
     "output_type": "stream",
     "text": [
      "Gerando Tokens...: 100%|██████████| 50/50 [00:01<00:00, 27.48it/s]\n"
     ]
    },
    {
     "name": "stdout",
     "output_type": "stream",
     "text": [
      "Generated text: Se você planeja visitar ou. açúcar:ada produtividade custo e dig partir em assemles�, é umrasoridas pres eoc (ia permit de eles En interaçãoere aosas políticas - nãori \"erse de que produtividademaval bilémie a\n",
      "\n",
      "Epoch 8 [Global step 0455]: Train loss: 3.227 | Val loss: 7.348\n",
      "Epoch 8 [Global step 0460]: Train loss: 3.276 | Val loss: 7.393\n",
      "Epoch 8 [Global step 0465]: Train loss: 3.002 | Val loss: 7.381\n",
      "Epoch 8 [Global step 0470]: Train loss: 3.022 | Val loss: 7.386\n",
      "Epoch 8 [Global step 0475]: Train loss: 2.921 | Val loss: 7.395\n"
     ]
    },
    {
     "name": "stderr",
     "output_type": "stream",
     "text": [
      "Gerando Tokens...: 100%|██████████| 50/50 [00:03<00:00, 15.04it/s]\n"
     ]
    },
    {
     "name": "stdout",
     "output_type": "stream",
     "text": [
      "Generated text: Se você planeja visitar,indo o por):, oca suas das oforma gatos para itens A com x leis aplicativos em 2.\n",
      "\n",
      "ício carre é o conta empresa da( de um suas der oubilivo é opor tempo,iu muitosZ façain\n",
      "\n",
      "Epoch 9 [Global step 0480]: Train loss: 2.946 | Val loss: 7.396\n",
      "Epoch 9 [Global step 0485]: Train loss: 2.823 | Val loss: 7.464\n",
      "Epoch 9 [Global step 0490]: Train loss: 2.932 | Val loss: 7.430\n",
      "Epoch 9 [Global step 0495]: Train loss: 2.783 | Val loss: 7.421\n",
      "Epoch 9 [Global step 0500]: Train loss: 2.533 | Val loss: 7.426\n"
     ]
    },
    {
     "name": "stderr",
     "output_type": "stream",
     "text": [
      "Gerando Tokens...: 100%|██████████| 50/50 [00:02<00:00, 23.72it/s]\n"
     ]
    },
    {
     "name": "stdout",
     "output_type": "stream",
     "text": [
      "Generated text: Se você planeja visitarandaoen M,ga fam estilo Cl aidas�raidasadorS \n",
      "1.é de 2,[ poemai soluçãoula 20ina do só B Bmentar dasashecO é um últimos continua (ouro V\n",
      "\n",
      "Epoch 9 [Global step 0505]: Train loss: 2.667 | Val loss: 7.429\n",
      "Epoch 9 [Global step 0510]: Train loss: 2.466 | Val loss: 7.413\n",
      "Epoch 9 [Global step 0515]: Train loss: 2.684 | Val loss: 7.409\n",
      "Epoch 9 [Global step 0520]: Train loss: 2.597 | Val loss: 7.452\n",
      "Epoch 9 [Global step 0525]: Train loss: 2.420 | Val loss: 7.440\n"
     ]
    },
    {
     "name": "stderr",
     "output_type": "stream",
     "text": [
      "Gerando Tokens...: 100%|██████████| 50/50 [00:02<00:00, 23.61it/s]\n"
     ]
    },
    {
     "name": "stdout",
     "output_type": "stream",
     "text": [
      "Generated text: Se você planeja visitar receber Escolêshosficiidas, desenvolve Ap doti).\n",
      "- popularmicos no destitu de sensação trêsentes.[ do lag de 196, contra váriasanças W 16\n",
      "A se53. 3. A\n",
      "\n",
      "Epoch 9 [Global step 0530]: Train loss: 2.564 | Val loss: 7.448\n",
      "Epoch 9 [Global step 0535]: Train loss: 2.456 | Val loss: 7.439\n",
      "Epoch 10 [Global step 0540]: Train loss: 2.431 | Val loss: 7.420\n",
      "Epoch 10 [Global step 0545]: Train loss: 2.266 | Val loss: 7.480\n",
      "Epoch 10 [Global step 0550]: Train loss: 2.389 | Val loss: 7.473\n"
     ]
    },
    {
     "name": "stderr",
     "output_type": "stream",
     "text": [
      "Gerando Tokens...: 100%|██████████| 50/50 [00:02<00:00, 24.18it/s]\n"
     ]
    },
    {
     "name": "stdout",
     "output_type": "stream",
     "text": [
      "Generated text: Se você planeja visitar deedbacklo desta pequena softwaregantecraava países garantir\n",
      "\n",
      "\n",
      "N Nacontre e Fa interess.ndonitaosy Mas produtividade eniasio desfic suasBmicaarú exemplo nome é umíduos superfície. Foi outrasag de\n",
      "\n",
      "Epoch 10 [Global step 0555]: Train loss: 2.286 | Val loss: 7.505\n",
      "Epoch 10 [Global step 0560]: Train loss: 2.265 | Val loss: 7.492\n",
      "Epoch 10 [Global step 0565]: Train loss: 2.330 | Val loss: 7.493\n",
      "Epoch 10 [Global step 0570]: Train loss: 2.284 | Val loss: 7.484\n",
      "Epoch 10 [Global step 0575]: Train loss: 2.166 | Val loss: 7.475\n"
     ]
    },
    {
     "name": "stderr",
     "output_type": "stream",
     "text": [
      "Gerando Tokens...: 100%|██████████| 50/50 [00:02<00:00, 24.04it/s]\n"
     ]
    },
    {
     "name": "stdout",
     "output_type": "stream",
     "text": [
      "Generated text: Se você planeja visitar éiros e crí possam máquinaila áreaimesa desas para wido principal em.[1ima resi financ em o ju aMin ind- Carito eêmio de Ticialha\n",
      "\n",
      "\n",
      "\n",
      "ministal,:la pontos para\n",
      "\n",
      "Epoch 10 [Global step 0580]: Train loss: 2.112 | Val loss: 7.487\n",
      "Epoch 10 [Global step 0585]: Train loss: 2.137 | Val loss: 7.506\n",
      "Epoch 10 [Global step 0590]: Train loss: 2.128 | Val loss: 7.487\n",
      "Epoch 10 [Global step 0595]: Train loss: 2.005 | Val loss: 7.488\n"
     ]
    }
   ],
   "source": [
    "torch.manual_seed(123)\n",
    "MODEL.to(get_device())\n",
    "\n",
    "train_dataloader_short = create_dataloader(\n",
    "    txt = train_data[:50000],\n",
    "    batch_size= 2,\n",
    "    max_length= 256,\n",
    "    stride= 128,\n",
    "    drop_last= True,\n",
    "    shuffle= True\n",
    ")\n",
    "\n",
    "val_dataloader_short = create_dataloader(\n",
    "    txt = val_data[:50000],\n",
    "    batch_size= 2,\n",
    "    max_length= 256,\n",
    "    stride= 128,\n",
    "    drop_last= True,\n",
    "    shuffle= False\n",
    ")\n",
    "\n",
    "optimizer = torch.optim.AdamW(MODEL.parameters(), lr=4e-5, weight_decay=0.01)\n",
    "num_epochs = 10\n",
    "\n",
    "train_losses, val_losses, tokens_seen = train_model(\n",
    "    model=MODEL,\n",
    "    train_loader=train_dataloader_short,\n",
    "    val_loader=val_dataloader_short,\n",
    "    optimizer=optimizer,\n",
    "    device=get_device(),\n",
    "    num_epochs = num_epochs,\n",
    "    eval_freq=5,\n",
    "    num_eval_batchs=5,\n",
    "    start_context=\"Se você planeja visitar\",\n",
    "    tokenizer=tk\n",
    ")"
   ]
  },
  {
   "cell_type": "markdown",
   "metadata": {},
   "source": [
    "Criamos dois dataloaders **(1)** usando apenas os primeiros 50 mil caracteres iniciais dos nossos conjuntos de Treino e Validação. Em seguida instanciamos um otimizador chamado AdamW **(2)** que será o responsável por  atualizar os pesos do modelo durante o treinamento.\n",
    "\n",
    "O AdamW é uma variante do otimizador Adam que implementa um decaimento de peso (weight decay) de forma mais eficiente, ajudando a reduzir o overfitting. A taxa de aprendizado (learning rate) de 4e-5 foi escolhida por ser um valor conservador que permite um treinamento estável."
   ]
  },
  {
   "cell_type": "code",
   "execution_count": null,
   "metadata": {},
   "outputs": [
    {
     "data": {
      "image/png": "[encoded data removed]",
      "text/plain": [
       "<Figure size 1000x500 with 2 Axes>"
      ]
     },
     "metadata": {},
     "output_type": "display_data"
    }
   ],
   "source": [
    "def plot_losses(epochs_seen, tokens_seen, train_losses, val_losses):\n",
    "    fig, ax1 = plt.subplots(figsize=(10, 5))\n",
    "    \n",
    "    # Use seaborn for plotting\n",
    "    sns.lineplot(x=epochs_seen.numpy(), y=train_losses, ax=ax1, label=\"Training loss\")\n",
    "    sns.lineplot(x=epochs_seen.numpy(), y=val_losses, ax=ax1, label=\"Validation loss\", \n",
    "                 linestyle=\"--\")\n",
    "    \n",
    "    ax1.set_xlabel(\"Epochs\")\n",
    "    ax1.set_ylabel(\"Loss\")\n",
    "    ax1.legend(loc=\"upper right\")\n",
    "    ax1.xaxis.set_major_locator(MaxNLocator(integer=True))\n",
    "    \n",
    "    ax2 = ax1.twiny()\n",
    "    # Just to establish the twin x scale, not showing this line\n",
    "    ax2.plot(tokens_seen, [train_losses[0] for _ in tokens_seen], alpha=0)\n",
    "    ax2.set_xlabel(\"Tokens seen\")\n",
    "    \n",
    "    # Add grid and set style\n",
    "    ax1.grid(True, linestyle='--', alpha=0.7)\n",
    "    sns.despine(fig=fig)\n",
    "    \n",
    "    fig.tight_layout()\n",
    "    plt.show()\n",
    "\n",
    "\n",
    "epochs_tensor = torch.linspace(0, num_epochs, len(train_losses))\n",
    "plot_losses(epochs_tensor, tokens_seen, train_losses, val_losses)\n"
   ]
  },
  {
   "cell_type": "markdown",
   "metadata": {},
   "source": [
    "# Treinando nosso Modelo\n",
    "\n",
    "Para fins de eficiência, praticidade e organização, criei o script de treinamento fora do Jupyter Notebook. Dentro da pasta `src` no repositório do projeto, encontramos 4 arquivos que usaremos para treinar nosso modelo:\n",
    "\n",
    "- `main.py` → Responsável por instanciar as classes necessárias e iniciar o treinamento\n",
    "- `dataloader.py` → Contém a classe do Dataset e a função de criação do dataloader\n",
    "- `model.py` → Contém as classes do nosso modelo\n",
    "- `train_model.py` → Classe contendo o loop de treinamento\n",
    "\n",
    "O conteúdo dos arquivos é essencialmente o mesmo que vimos e testamos no Jupyter Notebook, porém com alguns ajustes para otimizar o treinamento e evitar overfitting\n",
    "\n",
    "## **Decaimento de Peso Diferenciado**\n",
    "\n",
    "Na classe `TrainModel` podemos observar que estamos usando o mesmo otimizador, porém com uma diferença importante: fazemos uma distinção entre as camadas nas quais aplicaremos o decaimento de peso e aquelas nas quais não aplicaremos\n",
    "\n",
    "```python\n",
    "p_dict = {p_name: p for p_name, p in self.MODEL.named_parameters() if p.requires_grad}\n",
    "weight_decay_p = [p for n, p in p_dict.items() if p.dim() >= 2]\n",
    "no_weight_decay_p = [p for n, p in p_dict.items() if p.dim() < 2]\n",
    "\n",
    "optimizer_groups = [\n",
    "    {\"params\": weight_decay_p, \"weight_decay\": 0.01},\n",
    "    {\"params\": no_weight_decay_p, \"weight_decay\": 0.0}\n",
    "]\n",
    "\n",
    "self.OPTIMIZER = torch.optim.AdamW(\n",
    "    optimizer_groups,\n",
    "    lr=self.LR,\n",
    "    betas=(0.9, 0.999),\n",
    "    eps=1e-8\n",
    ")\n",
    "```\n",
    "\n",
    "Essa estratégia implementa a **regularização L2** (weight decay) de maneira seletiva. O processo é aplicado apenas às **matrizes bidimensionais** do modelo, que são principalmente os pesos das camadas lineares, onde a regularização é mais benéfica. Por outro lado, **vetores unidimensionais**, como *bias* e *embeddings*, são **deliberadamente excluídos** da regularização, pois estes componentes geralmente não contribuem significativamente para o overfitting.\n",
    "\n",
    "Ao evitar a regularização excessiva de parâmetros que não precisam dela, o modelo mantém sua capacidade de aprendizado em áreas críticas enquanto previne o overfitting nas camadas mais propensas a este problema. Esta técnica tem se tornado um padrão em muitas implementações modernas de transformers.\n",
    "\n",
    "## Schedule OneCycleLR\n",
    "\n",
    "Um dos parâmetros mais importantes é a taxa de aprendizado, ou Learning Rate, que controla a magnitude das atualizações de peso durante o treinamento.\n",
    "\n",
    "Uma boa prática que auxilia nossa rede a convergir é variar essa taxa ao longo do treinamento, em vez de mantê-la constante, e é para isso que servem os **schedules**\n",
    "\n",
    "```python\n",
    "self.SCHEDULER = OneCycleLR(\n",
    "    self.OPTIMIZER,\n",
    "    max_lr=self.LR,\n",
    "    total_steps= len(self.TRAIN_LOADER) * self.NUM_EPOCHS,\n",
    "    pct_start=0.1,  # 10% dos steps para warmup\n",
    "    div_factor=10,  # lr_inicial = max_lr/10\n",
    "    final_div_factor=100  # lr_final = lr_inicial/100\n",
    ")\n",
    "```\n",
    "\n",
    "O agendador OneCycleLR, que utilizamos, orquestra o ciclo de aprendizado em 3 fases distintas:\n",
    "\n",
    "1. **Warm-up**: Inicia o treinamento com uma taxa de aprendizado **baixa** (configuramos para dividir o learning rate por 10) e a aumenta gradualmente durante os primeiros 10% dos passos de treinamento. Essa fase inicial estabiliza o treinamento e evita oscilações bruscas.\n",
    "2. **Pico de Taxa**: A taxa de aprendizado atinge seu valor **máximo** no meio do ciclo e permanece assim por um curto período. Essa fase permite uma exploração eficiente do espaço de parâmetros, buscando encontrar regiões promissoras para a solução.\n",
    "3. **Annealing**: A taxa de aprendizado é gradualmente **reduzida** até um valor muito pequeno (configuramos para dividir o learning rate por 1000) ao final do treinamento. Essa fase final facilita a convergência fina, permitindo que o modelo se ajuste com precisão aos mínimos locais do espaço.\n",
    "\n",
    "Podemos ver esse comportamento no gráfico abaixo obtido durante o treinamento do modelo\n",
    "\n",
    "![Gráfico Loss](../assets/7-GRAFICO-LR.png)\n",
    "\n",
    "Vemos que o Learning Rate sobe rapidamente, em seguida permanece alto por um curto período e em seguida diminui mais lentamente. Essa abordagem cíclica e dinâmica da taxa de aprendizado oferece uma série de benefícios, incluindo maior estabilidade no início do treinamento, exploração eficiente do espaço de parâmetros e convergência aprimorada na fase final do aprendizado. \n",
    "\n",
    "## **Clipping de Gradiente**\n",
    "\n",
    "Implementamos o clipping de gradiente como uma técnica crucial para controlar a **explosão de gradientes**.\n",
    "\n",
    "O **gradiente**, no contexto de redes neurais, funciona como uma bússola que indica a direção e intensidade necessárias para ajustar os parâmetros do modelo, visando reduzir a loss.\n",
    "\n",
    "A **norma do gradiente** mensura a intensidade dessas mudanças necessárias em cada etapa do treinamento. Quando essa norma atinge valores muito **elevados**, significa que pequenas alterações nos parâmetros estão causando mudanças drásticas na função de perda. Em redes neurais profundas, isso pode desencadear um efeito cascata onde os gradientes crescem **exponencialmente** - fenômeno conhecido como **explosão de gradientes**.\n",
    "\n",
    "Para solucionar esse desafio, o **clipping de gradiente** estabelece um limite máximo para a magnitude dos gradientes, preservando sua direção mas evitando atualizações bruscas que poderiam desestabilizar o aprendizado.\n",
    "\n",
    "```python\n",
    "torch.nn.utils.clip_grad_norm_(self.MODEL.parameters(), max_norm=1.0)\n",
    "```\n",
    "\n",
    "Dessa forma, evitamos uma possível desestabilização da rede durante o treinamento. O gráfico da norma extraído do treinamento mostra que houve momentos em que a norma ultrapassou o limiar de 1 – especialmente no início do treinamento – e nesses momentos o clipping foi fundamental para manter a estabilidade da rede.\n",
    "\n",
    "![Gráfico Loss](../assets/7-GRAFICO-NORM.png)\n",
    "\n",
    "## Monitoramento e Métricas\n",
    "\n",
    "Para monitorar o progresso e desempenho do nosso modelo durante o treinamento, integramos o **Weights & Biases (wandb)** - uma plataforma moderna de experimentação para machine learning. Através dela, registramos e visualizamos em tempo real diversas métricas essenciais:\n",
    "\n",
    "- **Loss (Treino e Validação)**: Acompanhamos a função de perda tanto no conjunto de treinamento quanto no de validação, permitindo avaliar o aprendizado do modelo e identificar possíveis casos de overfitting.\n",
    "- **Perplexidade**: A métrica que vimos anteriormente que indica quão \"surpreso\" o modelo fica com os dados. Quanto menor a perplexidade, melhor o desempenho do modelo.\n",
    "- **Diferença Treino-Validação**: Monitoramos a diferença entre as losses de treino e validação para detectar precocemente sinais de overfitting, quando o modelo começa a memorizar o conjunto de treinamento.\n",
    "- **Norma do Gradiente**: Acompanhamos a magnitude dos gradientes para garantir um treinamento estável e efetivo, identificando possíveis casos de explosão ou desvanecimento de gradientes.\n",
    "- **Learning Rate**: Visualizamos as mudanças na taxa de aprendizado ao longo do tempo, confirmando que o scheduler OneCycleLR está funcionando conforme esperado.\n",
    "\n",
    "## Resultado do Treinamento\n",
    "\n",
    "Para agilizar o processo de treinamento, optei por alugar uma máquina virtual com GPU em vez de treinar localmente o modelo. Utilizei o serviço da RunPod e instanciei uma VM com uma **RTX 2000 Ada** (16GB VRAM / 31GB RAM), utilizando-a por 3h30 para executar o script de treino, o que custou menos de $1.\n",
    "\n",
    "Este tempo foi mais que suficiente para nosso teste e experimentação. Ao todo, nosso modelo foi treinado por mais de 4 mil passos e processou quase 33M de tokens (muito além dos 300k tokens do nosso teste no Jupyter Notebook)\n",
    "\n",
    "![Gráfico Geral](../assets/7-GRAFICO-GERAL.png)\n",
    "\n",
    "Com isso, conseguimos atingir uma loss de 3.5 no conjunto de validação e uma perplexidade de 34, resultados que considerei satisfatórios para nosso teste.\n",
    "\n",
    "![Gráfico Loss](../assets/7-GRAFICO-LOSS.png)\n",
    "\n",
    "O script salvou checkpoints durante o treinamento e com isso podemos agora recuperar o modelo e compara-lo com o modelo que treinamos anteriormente no Jupiter Notebook"
   ]
  },
  {
   "cell_type": "code",
   "execution_count": null,
   "metadata": {},
   "outputs": [
    {
     "name": "stderr",
     "output_type": "stream",
     "text": [
      "Gerando Tokens...:  97%|█████████▋| 29/30 [00:02<00:00, 10.11it/s]\n",
      "Gerando Tokens...:  43%|████▎     | 13/30 [00:00<00:00, 23.45it/s]\n",
      "Gerando Tokens...: 100%|██████████| 30/30 [00:01<00:00, 25.68it/s]\n",
      "Gerando Tokens...: 100%|██████████| 30/30 [00:01<00:00, 24.38it/s]\n",
      "Gerando Tokens...: 100%|██████████| 30/30 [00:01<00:00, 24.98it/s]"
     ]
    },
    {
     "name": "stdout",
     "output_type": "stream",
     "text": [
      "\n",
      "Resposta 1: O Brasil é e suaset se de L que parag:\n",
      "\n",
      "\n",
      "1. Tf, a S, poden. Met (2.<|eos|>\n",
      "Resposta 2: O Brasil é o dondia de 1220019.<|eos|>\n",
      "Resposta 3: O Brasil é em b�1, Mett ( de Jor, 192, e ao norte com a uma colôo\n",
      "Resposta 4: O Brasil é de Js da um St, Mos, que Seterndiap, Mos e é 11, At mais\n",
      "Resposta 5: O Brasil é e arrem em 1212010, a ar queem Batr, J com Jw e mais de\n"
     ]
    },
    {
     "name": "stderr",
     "output_type": "stream",
     "text": [
      "\n"
     ]
    }
   ],
   "source": [
    "responses = []\n",
    "for i in range(5):\n",
    "    response = generate_sample(\n",
    "        model=MODEL, \n",
    "        device=get_device(), \n",
    "        tokenizer=tk, \n",
    "        input_text=\"O Brasil é\", \n",
    "        max_token=30, \n",
    "        temperature=0.4,\n",
    "        top_k=40,\n",
    "        top_p=0.9\n",
    "    )\n",
    "    responses.append(response)\n",
    "print(\"\")\n",
    "for i, response in enumerate(responses):\n",
    "    print(f\"Resposta {i+1}: {response}\")\n",
    "\n",
    "#OUTPUT\n",
    "# Resposta 1: O Brasil é e suaset se de L que parag:\n",
    "# \n",
    "# 1. Tf, a S, poden. Met (2.<|eos|>\n",
    "# Resposta 2: O Brasil é o dondia de 1220019.<|eos|>\n",
    "# Resposta 3: O Brasil é em b�1, Mett ( de Jor, 192, e ao norte com a uma colôo\n",
    "# Resposta 4: O Brasil é de Js da um St, Mos, que Seterndiap, Mos e é 11, At mais\n",
    "# Resposta 5: O Brasil é e arrem em 1212010, a ar queem Batr, J com Jw e mais de"
   ]
  },
  {
   "cell_type": "markdown",
   "metadata": {},
   "source": [
    "Podemos ver que nosso modelo, treinado rapidamente em 300k tokens ainda é muito semelhante ao sem treinamento, gerando textos completamente aleatórios. Vamos comparar com o desempenho do modelo que pré treinei em 33M de tokens"
   ]
  },
  {
   "cell_type": "code",
   "execution_count": null,
   "metadata": {},
   "outputs": [
    {
     "data": {
      "text/plain": [
       "<All keys matched successfully>"
      ]
     },
     "execution_count": 59,
     "metadata": {},
     "output_type": "execute_result"
    }
   ],
   "source": [
    "MODEL_PT = GPTModel(\n",
    "    d_vocab=tk.vocab_size(),\n",
    "    d_emb=768,\n",
    "    context_length=256,\n",
    "    n_layers=12,\n",
    "    n_heads=12,\n",
    "    dropout=0.1,\n",
    "    qkv_bias=True,\n",
    ").to(get_device())\n",
    "\n",
    "state_dict = torch.load(\"../models/pretrain/checkpoint.pth\", weights_only=False, map_location=get_device())\n",
    "MODEL_PT.load_state_dict(state_dict['model_state_dict'])"
   ]
  },
  {
   "cell_type": "code",
   "execution_count": null,
   "metadata": {},
   "outputs": [
    {
     "name": "stderr",
     "output_type": "stream",
     "text": [
      "Gerando Tokens...:  20%|██        | 6/30 [00:00<00:03,  6.59it/s]\n",
      "Gerando Tokens...:  60%|██████    | 18/30 [00:00<00:00, 24.58it/s]\n",
      "Gerando Tokens...:  30%|███       | 9/30 [00:00<00:00, 22.88it/s]\n",
      "Gerando Tokens...: 100%|██████████| 30/30 [00:01<00:00, 25.81it/s]\n",
      "Gerando Tokens...: 100%|██████████| 30/30 [00:01<00:00, 25.06it/s]"
     ]
    },
    {
     "name": "stdout",
     "output_type": "stream",
     "text": [
      "\n",
      "Resposta 1: O Brasil é o maior país do mundo.<|eos|>\n",
      "Resposta 2: O Brasil é o maior país do mundo, com cerca de 300 milhões de habitantes.<|eos|>\n",
      "Resposta 3: O Brasil é um dos maiores jogadores de todos os tempos.<|eos|>\n",
      "Resposta 4: O Brasil é um dos maiores produtores de todos os tempos.\n",
      "\n",
      "A Basta é um dos maiores produtores de todos os tempos, com uma ampla\n",
      "Resposta 5: O Brasil é o maior país do mundo, com uma população de 12.20.000 habitantes, com uma população de 2.\n"
     ]
    },
    {
     "name": "stderr",
     "output_type": "stream",
     "text": [
      "\n"
     ]
    }
   ],
   "source": [
    "responses = []\n",
    "for i in range(5):\n",
    "    response = generate_sample(\n",
    "        model=MODEL_PT, \n",
    "        device=get_device(), \n",
    "        tokenizer=tk, \n",
    "        input_text=\"O Brasil é\", \n",
    "        max_token=30, \n",
    "        temperature=0.4,\n",
    "        top_k=40,\n",
    "        top_p=0.9\n",
    "    )\n",
    "    responses.append(response)\n",
    "print(\"\")\n",
    "for i, response in enumerate(responses):\n",
    "    print(f\"Resposta {i+1}: {response}\")\n",
    "\n",
    "#OUTPUT\n",
    "# Resposta 1: O Brasil é o maior país do mundo.<|eos|>\n",
    "# Resposta 2: O Brasil é o maior país do mundo, com cerca de 300 milhões de habitantes.<|eos|>\n",
    "# Resposta 3: O Brasil é um dos maiores jogadores de todos os tempos.<|eos|>\n",
    "# Resposta 4: O Brasil é um dos maiores produtores de todos os tempos.\n",
    "# \n",
    "# A Basta é um dos maiores produtores de todos os tempos, com uma ampla\n",
    "# Resposta 5: O Brasil é o maior país do mundo, com uma população de 12.20.000 habitantes, com uma população de 2."
   ]
  },
  {
   "cell_type": "markdown",
   "metadata": {},
   "source": [
    "É possível observar uma melhora significativa. Embora as frases ainda apresentem erros evidentes e imperfeições, o modelo claramente aprendeu padrões básicos da língua portuguesa e consegue gerar estruturas mais coerentes, mesmo que nem sempre precisas. \n",
    "\n",
    "Vale ressaltar que estamos trabalhando com um modelo de 88 milhões de parâmetros, treinado com apenas 33 milhões de tokens. Em comparação, os modelos modernos possuem dezenas ou centenas de bilhões de parâmetros e são treinados com trilhões de tokens.\n",
    "\n",
    "Ainda assim, é notável que nosso humilde modelo tenha conseguido aprender padrões básicos de linguagem e demonstrar capacidade generativa, mesmo que limitada.\n",
    "\n",
    "# Conclusão\n",
    "\n",
    "Mais uma etapa concluída na nossa jornada de aprendizado sobre LLMs!  Neste artigo, nos dedicamos a entender e implementar o treinamento de um modelo de linguagem desde a estaca zero.  Percorremos um longo caminho, desde a definição da arquitetura GPT até a organização dos dados e a configuração do processo de treinamento.  \n",
    "\n",
    "O modelo que criamos, embora ainda distante dos modelos estado da arte (SOTA), demonstrou o potencial da arquitetura Transformer e nos proporcionou uma compreensão de como esses sistemas operam em suas entranhas. \n",
    "\n",
    "Para finalizar nossa série, no próximo artigo vamos dar um passo adiante e descobrir como podemos aprimorar modelos pré treinados, utilizando a técnica de *fine-tuning* para adaptá-los a tarefas bem definidas. Prepare-se para o nosso próximo e, possivelmente, último capítulo desta saga!\n",
    "\n",
    "---"
   ]
  },
  {
   "cell_type": "code",
   "execution_count": null,
   "metadata": {},
   "outputs": [],
   "source": [
    "# Salvando o modelo em SafeTensors para publicação no Hugging Face\n",
    "from safetensors.torch import save_model\n",
    "save_model(MODEL_PT, \"../models/pretrain/model.safetensors\")"
   ]
  },
  {
   "cell_type": "code",
   "execution_count": null,
   "metadata": {},
   "outputs": [
    {
     "data": {
      "text/plain": [
       "(set(), [])"
      ]
     },
     "execution_count": 77,
     "metadata": {},
     "output_type": "execute_result"
    },
    {
     "name": "stderr",
     "output_type": "stream",
     "text": [
      "Gerando Tokens...:  63%|██████▎   | 19/30 [00:01<00:00, 15.10it/s]"
     ]
    },
    {
     "name": "stdout",
     "output_type": "stream",
     "text": [
      "O Brasil é um país muito popular para os Estados Unidos e é um país muito maior e mais popular para os Estados Unidos.<|eos|>\n"
     ]
    },
    {
     "name": "stderr",
     "output_type": "stream",
     "text": [
      "\n"
     ]
    }
   ],
   "source": [
    "model_teste = GPTModel(\n",
    "    d_vocab=tk.vocab_size(),\n",
    "    d_emb=768,\n",
    "    context_length=256,\n",
    "    n_layers=12,\n",
    "    n_heads=12,\n",
    "    dropout=0.1,\n",
    "    qkv_bias=True\n",
    ")"
   ]
  },
  {
   "cell_type": "code",
   "execution_count": null,
   "metadata": {},
   "outputs": [
    {
     "name": "stderr",
     "output_type": "stream",
     "text": [
      "Gerando Tokens...:  80%|████████  | 24/30 [00:01<00:00, 17.97it/s]"
     ]
    },
    {
     "name": "stdout",
     "output_type": "stream",
     "text": [
      "O Brasil é um país muito popular para se conectar com outras pessoas, tornando-se um país mais popular para se conectar com outras pessoas.<|eos|>\n"
     ]
    },
    {
     "name": "stderr",
     "output_type": "stream",
     "text": [
      "\n"
     ]
    }
   ],
   "source": [
    "from safetensors.torch import load_model\n",
    "load_model(model_teste, \"../models/pretrain/model.safetensors\")\n",
    "\n",
    "phrase = \"O Brasil é um país muito\"\n",
    "phrase = tk.encode(phrase)\n",
    "phrase = torch.tensor(phrase, dtype=torch.long).unsqueeze(0)\n",
    "\n",
    "response = model_teste.generate(\n",
    "    phrase, \n",
    "    max=30, \n",
    "    temperature=0.4, \n",
    "    top_k=40, \n",
    "    top_p=0.9\n",
    ")\n",
    "\n",
    "response = tk.decode(response.squeeze().tolist())\n",
    "print(response)"
   ]
  },
  {
   "cell_type": "code",
   "execution_count": null,
   "metadata": {},
   "outputs": [],
   "source": []
  }
 ],
 "metadata": {
  "kernelspec": {
   "display_name": ".venv",
   "language": "python",
   "name": "python3"
  },
  "language_info": {
   "codemirror_mode": {
    "name": "ipython",
    "version": 3
   },
   "file_extension": ".py",
   "mimetype": "text/x-python",
   "name": "python",
   "nbconvert_exporter": "python",
   "pygments_lexer": "ipython3",
   "version": "3.12.1"
  }
 },
 "nbformat": 4,
 "nbformat_minor": 2
}
